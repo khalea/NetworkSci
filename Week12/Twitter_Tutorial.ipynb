{
  "nbformat": 4,
  "nbformat_minor": 0,
  "metadata": {
    "kernelspec": {
      "display_name": "Python 3",
      "language": "python",
      "name": "python3"
    },
    "language_info": {
      "codemirror_mode": {
        "name": "ipython",
        "version": 3
      },
      "file_extension": ".py",
      "mimetype": "text/x-python",
      "name": "python",
      "nbconvert_exporter": "python",
      "pygments_lexer": "ipython3",
      "version": "3.6.5"
    },
    "colab": {
      "name": "Twitter Tutorial.ipynb",
      "provenance": []
    }
  },
  "cells": [
    {
      "cell_type": "markdown",
      "metadata": {
        "colab_type": "text",
        "id": "xufszH_RDycT"
      },
      "source": [
        "# Twitter Tutorial\n",
        "\n",
        "In this tutorial, we use Twitter data to create and explore directed networks of social interactions.\n",
        "\n",
        "Contents:\n",
        "\n",
        "* Preface: Twitter API access\n",
        "\n",
        "\n",
        "1. Authenticating with Twitter's API\n",
        "2. Twitter API basics\n",
        "3. Using Twitter's search API to get tweets of interest\n",
        "4. Creating social network graphs\n",
        "5. Twitter retweet network\n",
        "6. Twitter mention network\n",
        "\n",
        "# Preface: Twitter API access\n",
        "\n",
        "In order to get Twitter data using their API, one must first have a Twitter App. In Twitter parlance, an \"app\" is just a pair of API keys, ostensibly used for a particular purpose; this doesn't mean that we are creating an application to run on mobile or desktop computers. Unfortunately, creating a Twitter App requires access to Twitter's developer platform, which requires an application process with Twitter. \n",
        "\n",
        "\n",
        "# 1. Authenticating with Twitter's API\n",
        "\n",
        "Twitter uses OAuth in order to allow third-party apps to access data on your behalf without requiring your Twitter login credentials -- note that none of the code in this notebook asks for your Twitter screen name or password.\n",
        "\n",
        "The OAuth \"dance\" can be intimidating when you first use it, but it provides a far more secure way for software to make requests on your behalf than providing your username and password.\n",
        "\n",
        "We'll make use of the\n",
        "[Twython](https://twython.readthedocs.io/en/latest/usage/starting_out.html#authentication)\n",
        "package to help us with authentication and querying Twitter's APIs."
      ]
    },
    {
      "cell_type": "code",
      "execution_count": 7,
      "metadata": {},
      "outputs": [
        {
          "name": "stdout",
          "output_type": "stream",
          "text": "\u001b[33mDEPRECATION: Python 2.7 will reach the end of its life on January 1st, 2020. Please upgrade your Python as Python 2.7 won't be maintained after that date. A future version of pip will drop support for Python 2.7.\u001b[0m\nRequirement already satisfied: twython in /usr/local/lib/python2.7/site-packages (3.7.0)\nRequirement already satisfied: requests>=2.1.0 in /usr/local/lib/python2.7/site-packages (from twython) (2.22.0)\nRequirement already satisfied: requests-oauthlib>=0.4.0 in /usr/local/lib/python2.7/site-packages (from twython) (1.3.0)\nRequirement already satisfied: urllib3!=1.25.0,!=1.25.1,<1.26,>=1.21.1 in /usr/local/lib/python2.7/site-packages (from requests>=2.1.0->twython) (1.25.7)\nRequirement already satisfied: certifi>=2017.4.17 in /usr/local/lib/python2.7/site-packages (from requests>=2.1.0->twython) (2019.9.11)\nRequirement already satisfied: chardet<3.1.0,>=3.0.2 in /usr/local/lib/python2.7/site-packages (from requests>=2.1.0->twython) (3.0.4)\nRequirement already satisfied: idna<2.9,>=2.5 in /usr/local/lib/python2.7/site-packages (from requests>=2.1.0->twython) (2.8)\nRequirement already satisfied: oauthlib>=3.0.0 in /usr/local/lib/python2.7/site-packages (from requests-oauthlib>=0.4.0->twython) (3.1.0)\n"
        }
      ],
      "source": [
        "!pip install twython"
      ]
    },
    {
      "cell_type": "code",
      "execution_count": 9,
      "metadata": {},
      "outputs": [],
      "source": [
        "from twython import Twython"
      ]
    },
    {
      "cell_type": "markdown",
      "metadata": {
        "colab_type": "text",
        "id": "rd2vf9msDycW"
      },
      "source": [
        "For this tutorial, we'll be using a developer workflow where we assume you have access to an app's API key and secret. The app could be a team mamber app or a shared course app, as explained above.\n",
        "\n",
        "## 1.1 Enter app info and get auth URL\n",
        "\n",
        "In order to authenticate with Twitter, we'll provide the app details and  ask for a one-time authorization URL to authenticate your user with this app.\n",
        "\n",
        "Copy and paste the API key and secret from your Twitter app into the first two lines below.\n",
        "\n",
        "Executing the cell should then print out a clickable URL. This link is unique and will work **exactly** once. Visit this URL, log into Twitter, and then copy the verifier pin that is given to you so as to paste it in the next step."
      ]
    },
    {
      "cell_type": "code",
      "execution_count": 13,
      "metadata": {},
      "outputs": [
        {
          "name": "stdout",
          "output_type": "stream",
          "text": "https://api.twitter.com/oauth/authenticate?oauth_token=cWfGOAAAAAABA4ZRAAABbmt4oa8\n"
        }
      ],
      "source": [
        "API_KEY = 'zeo1urAXgj7fTvbmWXCiHDNJU'\n",
        "API_SECRET_KEY = 'J0FMLysanth3ZmRBvJzejDN6evSZltXuO2pumXUibUdv5JduPp'\n",
        "\n",
        "twitter = Twython(API_KEY, API_SECRET_KEY)\n",
        "\n",
        "authentication_tokens = twitter.get_authentication_tokens()\n",
        "print(authentication_tokens['auth_url'])"
      ]
    },
    {
      "cell_type": "markdown",
      "metadata": {
        "colab_type": "text",
        "id": "aH-tUuVJDycY"
      },
      "source": [
        "## 1.2 Authorize app using verifier PIN\n",
        "\n",
        "That verifier PIN goes into the next cell. This will be different every time you run these steps. The `authentication_tokens` include temporary tokens that go with this verifier PIN; by submitting these together, we show Twitter that we are who we say we are."
      ]
    },
    {
      "cell_type": "code",
      "execution_count": 14,
      "metadata": {},
      "outputs": [],
      "source": [
        "# Replace the verifier with the pin number obtained with your web browser in the previous step\n",
        "VERIFIER = '8702783'\n",
        "\n",
        "twitter = Twython(API_KEY, API_SECRET_KEY,\n",
        "                  authentication_tokens['oauth_token'],\n",
        "                  authentication_tokens['oauth_token_secret'])\n",
        "\n",
        "authorized_tokens = twitter.get_authorized_tokens(VERIFIER)"
      ]
    },
    {
      "cell_type": "markdown",
      "metadata": {
        "colab_type": "text",
        "id": "ZmIcg0IADyca"
      },
      "source": [
        "Note: If you are using your own team member app, you could alternatively obtain a permanent token pair (OAuth access token and secret) directly from the [Twitter app dashboard](https://developer.twitter.com/en/apps).\n",
        "\n",
        "## 1.3 Use authorized tokens\n",
        "\n",
        "Now we have a permanent token pair that we can use to make authenticated calls to the Twitter API. We'll create a new Twython object using these authenticated keys and verify the credentials of the logged-in user."
      ]
    },
    {
      "cell_type": "code",
      "execution_count": 15,
      "metadata": {},
      "outputs": [
        {
          "data": {
            "text/plain": "{'id': 1372479654,\n 'id_str': '1372479654',\n 'name': 'the misadventures of adrian veidt',\n 'screen_name': 'templvr',\n 'location': 'technically, missing',\n 'description': '🌺 21 · b.s. informatics/computer sci · sustainability + architecture · finance + fintech · gaming · part-time autodidact · 💞 @finest_felipe · is this it? 🌺',\n 'url': 'https://t.co/AL5OhgTBdc',\n 'entities': {'url': {'urls': [{'url': 'https://t.co/AL5OhgTBdc',\n     'expanded_url': 'https://letterboxd.com/northkhalea/',\n     'display_url': 'letterboxd.com/northkhalea/',\n     'indices': [0, 23]}]},\n  'description': {'urls': []}},\n 'protected': False,\n 'followers_count': 779,\n 'friends_count': 694,\n 'listed_count': 34,\n 'created_at': 'Mon Apr 22 16:15:34 +0000 2013',\n 'favourites_count': 65228,\n 'utc_offset': None,\n 'time_zone': None,\n 'geo_enabled': True,\n 'verified': False,\n 'statuses_count': 76957,\n 'lang': None,\n 'status': {'created_at': 'Thu Nov 14 19:26:03 +0000 2019',\n  'id': 1195060343711653888,\n  'id_str': '1195060343711653888',\n  'text': \"JLaw's gonna be in an A24 movie 😌\",\n  'truncated': False,\n  'entities': {'hashtags': [], 'symbols': [], 'user_mentions': [], 'urls': []},\n  'source': '<a href=\"https://mobile.twitter.com\" rel=\"nofollow\">Twitter Web App</a>',\n  'in_reply_to_status_id': None,\n  'in_reply_to_status_id_str': None,\n  'in_reply_to_user_id': None,\n  'in_reply_to_user_id_str': None,\n  'in_reply_to_screen_name': None,\n  'geo': None,\n  'coordinates': None,\n  'place': None,\n  'contributors': None,\n  'is_quote_status': False,\n  'retweet_count': 0,\n  'favorite_count': 1,\n  'favorited': False,\n  'retweeted': False,\n  'lang': 'en'},\n 'contributors_enabled': False,\n 'is_translator': False,\n 'is_translation_enabled': False,\n 'profile_background_color': '000000',\n 'profile_background_image_url': 'http://abs.twimg.com/images/themes/theme1/bg.png',\n 'profile_background_image_url_https': 'https://abs.twimg.com/images/themes/theme1/bg.png',\n 'profile_background_tile': False,\n 'profile_image_url': 'http://pbs.twimg.com/profile_images/1177253503363739648/6zkigkua_normal.jpg',\n 'profile_image_url_https': 'https://pbs.twimg.com/profile_images/1177253503363739648/6zkigkua_normal.jpg',\n 'profile_banner_url': 'https://pbs.twimg.com/profile_banners/1372479654/1570061717',\n 'profile_link_color': '981CEB',\n 'profile_sidebar_border_color': '000000',\n 'profile_sidebar_fill_color': '000000',\n 'profile_text_color': '000000',\n 'profile_use_background_image': False,\n 'has_extended_profile': True,\n 'default_profile': False,\n 'default_profile_image': False,\n 'can_media_tag': False,\n 'followed_by': False,\n 'following': False,\n 'follow_request_sent': False,\n 'notifications': False,\n 'translator_type': 'none',\n 'suspended': False,\n 'needs_phone_verification': False}"
          },
          "execution_count": 15,
          "metadata": {},
          "output_type": "execute_result"
        }
      ],
      "source": [
        "twitter = Twython(API_KEY, API_SECRET_KEY,\n",
        "                  authorized_tokens['oauth_token'],\n",
        "                  authorized_tokens['oauth_token_secret'])\n",
        "\n",
        "twitter.verify_credentials()"
      ]
    },
    {
      "cell_type": "markdown",
      "metadata": {
        "colab_type": "text",
        "id": "OBIOTAmtDycc"
      },
      "source": [
        "If the previous cell ran without error and printed out a dict corresponding to a\n",
        "[Twitter User](https://developer.twitter.com/en/docs/tweets/data-dictionary/overview/user-object),\n",
        "then you're good. The authorized token pair is like a username/password and should be protected as such.\n",
        "\n",
        "# 2. Twitter API basics\n",
        "\n",
        "In this tutorial, we'll be dealing with two different types of data, Users and Tweets.\n",
        "\n",
        "## 2.1 User objects\n",
        "\n",
        "We've already seen one\n",
        "[User Object](https://developer.twitter.com/en/docs/tweets/data-dictionary/overview/user-object),\n",
        "the one corresponding to the logged-in user, via the call to  `verify_credentials()` above. We can also fetch data for an arbitrary user:"
      ]
    },
    {
      "cell_type": "code",
      "execution_count": 16,
      "metadata": {},
      "outputs": [
        {
          "data": {
            "text/plain": "{'id': 206352159,\n 'id_str': '206352159',\n 'name': 'TruthyAtIndiana is now OSoMe_IU',\n 'screen_name': 'TruthyAtIndiana',\n 'location': 'Bloomington, IN',\n 'profile_location': None,\n 'description': 'Auxiliary account for system issues regarding Observatory on Social Media at Indiana University',\n 'url': None,\n 'entities': {'description': {'urls': []}},\n 'protected': False,\n 'followers_count': 7,\n 'friends_count': 0,\n 'listed_count': 0,\n 'created_at': 'Fri Oct 22 19:47:49 +0000 2010',\n 'favourites_count': 0,\n 'utc_offset': None,\n 'time_zone': None,\n 'geo_enabled': False,\n 'verified': False,\n 'statuses_count': 1,\n 'lang': None,\n 'status': {'created_at': 'Wed Sep 25 01:47:17 +0000 2019',\n  'id': 1176674503268687872,\n  'id_str': '1176674503268687872',\n  'text': 'The Observatory on Social Media at Indiana University (formerly known as Truthy project) has moved to the account… https://t.co/w1GauHuO8g',\n  'truncated': True,\n  'entities': {'hashtags': [],\n   'symbols': [],\n   'user_mentions': [],\n   'urls': [{'url': 'https://t.co/w1GauHuO8g',\n     'expanded_url': 'https://twitter.com/i/web/status/1176674503268687872',\n     'display_url': 'twitter.com/i/web/status/1…',\n     'indices': [115, 138]}]},\n  'source': '<a href=\"https://mobile.twitter.com\" rel=\"nofollow\">Twitter Web App</a>',\n  'in_reply_to_status_id': None,\n  'in_reply_to_status_id_str': None,\n  'in_reply_to_user_id': None,\n  'in_reply_to_user_id_str': None,\n  'in_reply_to_screen_name': None,\n  'geo': None,\n  'coordinates': None,\n  'place': None,\n  'contributors': None,\n  'is_quote_status': False,\n  'retweet_count': 0,\n  'favorite_count': 0,\n  'favorited': False,\n  'retweeted': False,\n  'lang': 'en'},\n 'contributors_enabled': False,\n 'is_translator': False,\n 'is_translation_enabled': False,\n 'profile_background_color': 'C0DEED',\n 'profile_background_image_url': 'http://abs.twimg.com/images/themes/theme1/bg.png',\n 'profile_background_image_url_https': 'https://abs.twimg.com/images/themes/theme1/bg.png',\n 'profile_background_tile': False,\n 'profile_image_url': 'http://pbs.twimg.com/profile_images/1176673832188436480/AqsTnJX2_normal.jpg',\n 'profile_image_url_https': 'https://pbs.twimg.com/profile_images/1176673832188436480/AqsTnJX2_normal.jpg',\n 'profile_banner_url': 'https://pbs.twimg.com/profile_banners/206352159/1569375878',\n 'profile_link_color': '1DA1F2',\n 'profile_sidebar_border_color': 'C0DEED',\n 'profile_sidebar_fill_color': 'DDEEF6',\n 'profile_text_color': '333333',\n 'profile_use_background_image': True,\n 'has_extended_profile': False,\n 'default_profile': True,\n 'default_profile_image': False,\n 'can_media_tag': True,\n 'followed_by': False,\n 'following': False,\n 'follow_request_sent': False,\n 'notifications': False,\n 'translator_type': 'none'}"
          },
          "execution_count": 16,
          "metadata": {},
          "output_type": "execute_result"
        }
      ],
      "source": [
        "user = twitter.show_user(screen_name='truthyatindiana')\n",
        "user"
      ]
    },
    {
      "cell_type": "markdown",
      "metadata": {
        "colab_type": "text",
        "id": "g116B_6SDycf"
      },
      "source": [
        "This dictionary of user data contains several items of note. First, the screen name of the user, while obvious in this case, is very useful later:"
      ]
    },
    {
      "cell_type": "code",
      "execution_count": 17,
      "metadata": {},
      "outputs": [
        {
          "data": {
            "text/plain": "'TruthyAtIndiana'"
          },
          "execution_count": 17,
          "metadata": {},
          "output_type": "execute_result"
        }
      ],
      "source": [
        "user['screen_name']"
      ]
    },
    {
      "cell_type": "markdown",
      "metadata": {
        "colab_type": "text",
        "id": "UZ0CsOqgDych"
      },
      "source": [
        "The user data also contains information such as the number of followers, friends (other users followerd by this user), and tweets (called `'statuses'` in the API):"
      ]
    },
    {
      "cell_type": "code",
      "execution_count": 18,
      "metadata": {},
      "outputs": [
        {
          "name": "stdout",
          "output_type": "stream",
          "text": "\nTwitter user @TruthyAtIndiana\nhas 7 followers,\nfollows 0 users,\nand has tweeted 1 times.\n\n"
        }
      ],
      "source": [
        "print(\"\"\"\n",
        "Twitter user @{screen_name}\n",
        "has {followers_count} followers,\n",
        "follows {friends_count} users,\n",
        "and has tweeted {statuses_count} times.\n",
        "\"\"\".format(**user))"
      ]
    },
    {
      "cell_type": "markdown",
      "metadata": {
        "colab_type": "text",
        "id": "1rQnix33Dycj"
      },
      "source": [
        "## 2.2 Tweet Objects\n",
        "\n",
        "The second type of data of which we will make use is the\n",
        "[Tweet Object](https://developer.twitter.com/en/docs/tweets/data-dictionary/overview/tweet-object).\n",
        "A user object actually contains the user's most recent tweet:"
      ]
    },
    {
      "cell_type": "code",
      "execution_count": 19,
      "metadata": {},
      "outputs": [
        {
          "data": {
            "text/plain": "{'created_at': 'Wed Sep 25 01:47:17 +0000 2019',\n 'id': 1176674503268687872,\n 'id_str': '1176674503268687872',\n 'text': 'The Observatory on Social Media at Indiana University (formerly known as Truthy project) has moved to the account… https://t.co/w1GauHuO8g',\n 'truncated': True,\n 'entities': {'hashtags': [],\n  'symbols': [],\n  'user_mentions': [],\n  'urls': [{'url': 'https://t.co/w1GauHuO8g',\n    'expanded_url': 'https://twitter.com/i/web/status/1176674503268687872',\n    'display_url': 'twitter.com/i/web/status/1…',\n    'indices': [115, 138]}]},\n 'source': '<a href=\"https://mobile.twitter.com\" rel=\"nofollow\">Twitter Web App</a>',\n 'in_reply_to_status_id': None,\n 'in_reply_to_status_id_str': None,\n 'in_reply_to_user_id': None,\n 'in_reply_to_user_id_str': None,\n 'in_reply_to_screen_name': None,\n 'geo': None,\n 'coordinates': None,\n 'place': None,\n 'contributors': None,\n 'is_quote_status': False,\n 'retweet_count': 0,\n 'favorite_count': 0,\n 'favorited': False,\n 'retweeted': False,\n 'lang': 'en'}"
          },
          "execution_count": 19,
          "metadata": {},
          "output_type": "execute_result"
        }
      ],
      "source": [
        "most_recent_tweet = user['status']\n",
        "most_recent_tweet"
      ]
    },
    {
      "cell_type": "markdown",
      "metadata": {
        "colab_type": "text",
        "id": "qwp0spc9Dycl"
      },
      "source": [
        "Tweet objects contain several interesting data and metadata, but the most basic are the `'text'` and `'entities'`. The `'text'` is what you expect it to be: the text of the tweet:"
      ]
    },
    {
      "cell_type": "code",
      "execution_count": 20,
      "metadata": {},
      "outputs": [
        {
          "data": {
            "text/plain": "'The Observatory on Social Media at Indiana University (formerly known as Truthy project) has moved to the account… https://t.co/w1GauHuO8g'"
          },
          "execution_count": 20,
          "metadata": {},
          "output_type": "execute_result"
        }
      ],
      "source": [
        "most_recent_tweet['text']"
      ]
    },
    {
      "cell_type": "markdown",
      "metadata": {
        "colab_type": "text",
        "id": "NQ9DTYm8Dycn"
      },
      "source": [
        "The `'entities'` field contains several tokens of interest already extracted from the tweet such as hashtags, URLs, images, and mentions of other users:"
      ]
    },
    {
      "cell_type": "code",
      "execution_count": 21,
      "metadata": {},
      "outputs": [
        {
          "data": {
            "text/plain": "{'hashtags': [],\n 'symbols': [],\n 'user_mentions': [],\n 'urls': [{'url': 'https://t.co/w1GauHuO8g',\n   'expanded_url': 'https://twitter.com/i/web/status/1176674503268687872',\n   'display_url': 'twitter.com/i/web/status/1…',\n   'indices': [115, 138]}]}"
          },
          "execution_count": 21,
          "metadata": {},
          "output_type": "execute_result"
        }
      ],
      "source": [
        "most_recent_tweet['entities']"
      ]
    },
    {
      "cell_type": "markdown",
      "metadata": {
        "colab_type": "text",
        "id": "n8PNvnJnDycp"
      },
      "source": [
        "In particular, we'll make use of the `'user_mentions'` later:"
      ]
    },
    {
      "cell_type": "code",
      "execution_count": 22,
      "metadata": {},
      "outputs": [
        {
          "data": {
            "text/plain": "[]"
          },
          "execution_count": 22,
          "metadata": {},
          "output_type": "execute_result"
        }
      ],
      "source": [
        "most_recent_tweet['entities']['user_mentions']"
      ]
    },
    {
      "cell_type": "markdown",
      "metadata": {
        "colab_type": "text",
        "id": "pr_j1eCjDycr"
      },
      "source": [
        "# 3. Using Twitter's search API to get tweets of interest\n",
        "\n",
        "Twitter's\n",
        "[Search API](https://developer.twitter.com/en/docs/tweets/search/api-reference/get-search-tweets.html)\n",
        "allows you to fetch recent tweets according to a query of keywords, URLs, hashtags, user mentions, etc.\n",
        "\n",
        "## 3.1 Get tweets matching a hashtag\n",
        "\n",
        "We'll make use of the ability to search by hashtags:"
      ]
    },
    {
      "cell_type": "code",
      "execution_count": 23,
      "metadata": {},
      "outputs": [],
      "source": [
        "search_response = twitter.search(q='#science', count=100)"
      ]
    },
    {
      "cell_type": "markdown",
      "metadata": {
        "colab_type": "text",
        "id": "RvgEwiLrDyct"
      },
      "source": [
        "While the search API response is a dictionary, the `'statuses'` field contains the list of\n",
        "[Tweet Objects](https://developer.twitter.com/en/docs/tweets/data-dictionary/overview/tweet-object)\n",
        "we're after."
      ]
    },
    {
      "cell_type": "code",
      "execution_count": 24,
      "metadata": {},
      "outputs": [
        {
          "data": {
            "text/plain": "{'created_at': 'Thu Nov 14 19:57:10 +0000 2019',\n 'id': 1195068174921805824,\n 'id_str': '1195068174921805824',\n 'text': 'Climate Change Champions - via @smedian_network\\n\\n.@Medium .@dialogueanddisc #medium #blog #news #politics #World… https://t.co/UK2wmXHM3c',\n 'truncated': True,\n 'entities': {'hashtags': [{'text': 'medium', 'indices': [76, 83]},\n   {'text': 'blog', 'indices': [84, 89]},\n   {'text': 'news', 'indices': [90, 95]},\n   {'text': 'politics', 'indices': [96, 105]},\n   {'text': 'World', 'indices': [106, 112]}],\n  'symbols': [],\n  'user_mentions': [{'screen_name': 'smedian_network',\n    'name': 'Smedian',\n    'id': 776628627450585088,\n    'id_str': '776628627450585088',\n    'indices': [31, 47]},\n   {'screen_name': 'Medium',\n    'name': 'Medium',\n    'id': 571202103,\n    'id_str': '571202103',\n    'indices': [50, 57]},\n   {'screen_name': 'dialogueanddisc',\n    'name': 'Dialogue & Discourse',\n    'id': 993310417060614146,\n    'id_str': '993310417060614146',\n    'indices': [59, 75]}],\n  'urls': [{'url': 'https://t.co/UK2wmXHM3c',\n    'expanded_url': 'https://twitter.com/i/web/status/1195068174921805824',\n    'display_url': 'twitter.com/i/web/status/1…',\n    'indices': [114, 137]}]},\n 'metadata': {'iso_language_code': 'fr', 'result_type': 'recent'},\n 'source': '<a href=\"https://www.smedian.com\" rel=\"nofollow\">Smedian Network</a>',\n 'in_reply_to_status_id': None,\n 'in_reply_to_status_id_str': None,\n 'in_reply_to_user_id': None,\n 'in_reply_to_user_id_str': None,\n 'in_reply_to_screen_name': None,\n 'user': {'id': 9019142,\n  'id_str': '9019142',\n  'name': 'Christopher Oldcorn',\n  'screen_name': 'chrisoldcorn',\n  'location': '',\n  'description': 'A writer & journalist curious about the world. Published over 150 stories in 20+ publications. 🇨🇦 🇬🇧 #ddj #ukpolitics #onpoli #cdnpoli',\n  'url': 'https://t.co/vYsV7VorK0',\n  'entities': {'url': {'urls': [{'url': 'https://t.co/vYsV7VorK0',\n      'expanded_url': 'https://linktr.ee/chrisoldcorn',\n      'display_url': 'linktr.ee/chrisoldcorn',\n      'indices': [0, 23]}]},\n   'description': {'urls': []}},\n  'protected': False,\n  'followers_count': 3292,\n  'friends_count': 4763,\n  'listed_count': 187,\n  'created_at': 'Fri Sep 21 18:02:13 +0000 2007',\n  'favourites_count': 8782,\n  'utc_offset': None,\n  'time_zone': None,\n  'geo_enabled': True,\n  'verified': False,\n  'statuses_count': 111040,\n  'lang': None,\n  'contributors_enabled': False,\n  'is_translator': False,\n  'is_translation_enabled': False,\n  'profile_background_color': '000000',\n  'profile_background_image_url': 'http://abs.twimg.com/images/themes/theme16/bg.gif',\n  'profile_background_image_url_https': 'https://abs.twimg.com/images/themes/theme16/bg.gif',\n  'profile_background_tile': False,\n  'profile_image_url': 'http://pbs.twimg.com/profile_images/1158043491806732288/9JY2UFqV_normal.jpg',\n  'profile_image_url_https': 'https://pbs.twimg.com/profile_images/1158043491806732288/9JY2UFqV_normal.jpg',\n  'profile_banner_url': 'https://pbs.twimg.com/profile_banners/9019142/1562206297',\n  'profile_link_color': '1B95E0',\n  'profile_sidebar_border_color': '000000',\n  'profile_sidebar_fill_color': '000000',\n  'profile_text_color': '000000',\n  'profile_use_background_image': False,\n  'has_extended_profile': True,\n  'default_profile': False,\n  'default_profile_image': False,\n  'following': False,\n  'follow_request_sent': False,\n  'notifications': False,\n  'translator_type': 'regular'},\n 'geo': None,\n 'coordinates': None,\n 'place': None,\n 'contributors': None,\n 'is_quote_status': False,\n 'retweet_count': 0,\n 'favorite_count': 0,\n 'favorited': False,\n 'retweeted': False,\n 'possibly_sensitive': False,\n 'lang': 'fr'}"
          },
          "execution_count": 24,
          "metadata": {},
          "output_type": "execute_result"
        }
      ],
      "source": [
        "search_tweets = search_response['statuses']\n",
        "tweet = search_tweets[0]\n",
        "tweet"
      ]
    },
    {
      "cell_type": "markdown",
      "metadata": {
        "colab_type": "text",
        "id": "v3cNwiCtDycv"
      },
      "source": [
        "Note that each tweet obtained from this API contains a `'user'` field -- this is a User Object for the user who created the tweet."
      ]
    },
    {
      "cell_type": "code",
      "execution_count": 25,
      "metadata": {},
      "outputs": [
        {
          "data": {
            "text/plain": "{'id': 9019142,\n 'id_str': '9019142',\n 'name': 'Christopher Oldcorn',\n 'screen_name': 'chrisoldcorn',\n 'location': '',\n 'description': 'A writer & journalist curious about the world. Published over 150 stories in 20+ publications. 🇨🇦 🇬🇧 #ddj #ukpolitics #onpoli #cdnpoli',\n 'url': 'https://t.co/vYsV7VorK0',\n 'entities': {'url': {'urls': [{'url': 'https://t.co/vYsV7VorK0',\n     'expanded_url': 'https://linktr.ee/chrisoldcorn',\n     'display_url': 'linktr.ee/chrisoldcorn',\n     'indices': [0, 23]}]},\n  'description': {'urls': []}},\n 'protected': False,\n 'followers_count': 3292,\n 'friends_count': 4763,\n 'listed_count': 187,\n 'created_at': 'Fri Sep 21 18:02:13 +0000 2007',\n 'favourites_count': 8782,\n 'utc_offset': None,\n 'time_zone': None,\n 'geo_enabled': True,\n 'verified': False,\n 'statuses_count': 111040,\n 'lang': None,\n 'contributors_enabled': False,\n 'is_translator': False,\n 'is_translation_enabled': False,\n 'profile_background_color': '000000',\n 'profile_background_image_url': 'http://abs.twimg.com/images/themes/theme16/bg.gif',\n 'profile_background_image_url_https': 'https://abs.twimg.com/images/themes/theme16/bg.gif',\n 'profile_background_tile': False,\n 'profile_image_url': 'http://pbs.twimg.com/profile_images/1158043491806732288/9JY2UFqV_normal.jpg',\n 'profile_image_url_https': 'https://pbs.twimg.com/profile_images/1158043491806732288/9JY2UFqV_normal.jpg',\n 'profile_banner_url': 'https://pbs.twimg.com/profile_banners/9019142/1562206297',\n 'profile_link_color': '1B95E0',\n 'profile_sidebar_border_color': '000000',\n 'profile_sidebar_fill_color': '000000',\n 'profile_text_color': '000000',\n 'profile_use_background_image': False,\n 'has_extended_profile': True,\n 'default_profile': False,\n 'default_profile_image': False,\n 'following': False,\n 'follow_request_sent': False,\n 'notifications': False,\n 'translator_type': 'regular'}"
          },
          "execution_count": 25,
          "metadata": {},
          "output_type": "execute_result"
        }
      ],
      "source": [
        "tweet['user']"
      ]
    },
    {
      "cell_type": "markdown",
      "metadata": {
        "colab_type": "text",
        "id": "KDi8NjyaDycx"
      },
      "source": [
        "## 3.2 Using a cursor to get more than 100 tweets from a search\n",
        "\n",
        "We can only fetch up to 100 tweets at a time from a single search API call:"
      ]
    },
    {
      "cell_type": "code",
      "execution_count": 26,
      "metadata": {},
      "outputs": [
        {
          "data": {
            "text/plain": "100"
          },
          "execution_count": 26,
          "metadata": {},
          "output_type": "execute_result"
        }
      ],
      "source": [
        "# even with count=1000, we still get at most 100 tweets\n",
        "search_response = twitter.search(q='#science', count=1000)\n",
        "len(search_response['statuses'])"
      ]
    },
    {
      "cell_type": "markdown",
      "metadata": {
        "colab_type": "text",
        "id": "DQUWFX2YDycz"
      },
      "source": [
        "In order to get more tweets from a search, we can make use of a cursor:"
      ]
    },
    {
      "cell_type": "code",
      "execution_count": 27,
      "metadata": {},
      "outputs": [
        {
          "data": {
            "text/plain": "1000"
          },
          "execution_count": 27,
          "metadata": {},
          "output_type": "execute_result"
        }
      ],
      "source": [
        "import itertools\n",
        "\n",
        "NUM_TWEETS_TO_FETCH = 1000\n",
        "\n",
        "cursor = twitter.cursor(twitter.search, q='#science', count=100, result_type='mixed')\n",
        "search_tweets = list(itertools.islice(cursor, NUM_TWEETS_TO_FETCH))\n",
        "len(search_tweets)"
      ]
    },
    {
      "cell_type": "code",
      "execution_count": 28,
      "metadata": {},
      "outputs": [
        {
          "data": {
            "text/plain": "generator"
          },
          "execution_count": 28,
          "metadata": {},
          "output_type": "execute_result"
        }
      ],
      "source": [
        "type(cursor)"
      ]
    },
    {
      "cell_type": "markdown",
      "metadata": {
        "colab_type": "text",
        "id": "au-ZLLEdDyc5"
      },
      "source": [
        "Note the following:\n",
        "* The cursor object is a\n",
        "[generator](https://docs.python.org/3/tutorial/classes.html#generators),\n",
        "a type of iterator that \"lazily\" generates items. We use Python's `itertools.islice` in order to get up to a set number of items from this generator. The second argument passed to `islice` is the max number of tweets we want to fetch from the user.\n",
        "* Even though we want to get more than 100 tweets here, we provide the `count=100` argument. This tells the cursor to fetch the maximum number of tweets with each API call.\n",
        "* As documented in [Twitter's Search API documentation](https://developer.twitter.com/en/docs/tweets/search/api-reference/get-search-tweets.html), specifying `result_type='mixed'` provides a mix of recent and popular tweets matching the query. If one desires a more \"random\" sample, you can specify `result_type='recent'`, but Twitter may provide fewer tweets than desired.\n",
        "* We provide the API function name as the first argument followed by the function's arguments. It's tempting but **incorrect** to do the following:\n",
        "\n",
        "      cursor = twitter.cursor(twitter.get_user_timeline(screen_name='truthyatindiana', count=200))\n"
      ]
    },
    {
      "cell_type": "markdown",
      "metadata": {
        "colab_type": "text",
        "id": "CdjzPz8GDyc5"
      },
      "source": [
        "## 3.3 API method rate limits\n",
        "\n",
        "Each API method has a *rate limit* imposed by Twitter, a limit on the number of function calls per 15-minute window. We can check on the rate limit status for this endpoint:"
      ]
    },
    {
      "cell_type": "code",
      "execution_count": 31,
      "metadata": {},
      "outputs": [
        {
          "data": {
            "text/plain": "{'/search/tweets': {'limit': 180, 'remaining': 168, 'reset': 1573762340}}"
          },
          "execution_count": 31,
          "metadata": {},
          "output_type": "execute_result"
        }
      ],
      "source": [
        "twitter.get_application_rate_limit_status()['resources']['search']"
      ]
    },
    {
      "cell_type": "markdown",
      "metadata": {
        "colab_type": "text",
        "id": "RM6zvcvEDyc_"
      },
      "source": [
        "These limits apply to the number of API *calls*, as opposed to the number of *items* fetched. This is why, when creating a cursor, we specify `count=` to fetch the maximum number of items per API call."
      ]
    },
    {
      "cell_type": "markdown",
      "metadata": {
        "colab_type": "text",
        "id": "nglvglbPDydA"
      },
      "source": [
        "# 4. Creating social network graphs\n",
        "\n",
        "In the remaining sections of this tutorial, we're going to use NetworkX to create social networks from Twitter data. The examples are going to have users as nodes, so at a very basic level, we're going to do something like the following:"
      ]
    },
    {
      "cell_type": "code",
      "execution_count": 34,
      "metadata": {},
      "outputs": [],
      "source": [
        "import networkx as nx\n",
        "\n",
        "D = nx.DiGraph()\n",
        "\n",
        "publisher = twitter.show_user(screen_name='CambridgeUP')\n",
        "author = twitter.show_user(screen_name='truthyatindiana')\n",
        "\n",
        "D.add_edge(publisher['screen_name'], author['screen_name'], weight=1)"
      ]
    },
    {
      "cell_type": "code",
      "execution_count": 35,
      "metadata": {},
      "outputs": [
        {
          "data": {
            "text/plain": "[('CambridgeUP', 'TruthyAtIndiana', {'weight': 1})]"
          },
          "execution_count": 35,
          "metadata": {},
          "output_type": "execute_result"
        }
      ],
      "source": [
        "list(D.edges(data=True))"
      ]
    },
    {
      "cell_type": "markdown",
      "metadata": {
        "colab_type": "text",
        "id": "09s4UPQODydD"
      },
      "source": [
        "Note that NetworkX will let us use the full user dictionaries as the node names, e.g. `D.add_edge(publisher, author)`. However, it is inconvenient to work with such a graph. More preferable is to use `screen_name` or `id` as the node names, and then use\n",
        "[node attributes](https://networkx.github.io/documentation/stable/tutorial.html#node-attributes)\n",
        "for the user profile data if desired."
      ]
    },
    {
      "cell_type": "markdown",
      "metadata": {
        "colab_type": "text",
        "id": "Ixntr0gBDydD"
      },
      "source": [
        "# 5. Twitter retweet network\n",
        "\n",
        "One fundamental interaction in the Twitter ecosystem is the \"retweet\" -- rebroadcasting another user's tweet to your followers. A tweet object returned by the API is a retweet if it includes a `'retweeted_status'`. We're going to fetch tweets matching a hashtag and create a retweet network of the conversation.\n",
        "\n",
        "## 5.1 Get some tweets"
      ]
    },
    {
      "cell_type": "code",
      "execution_count": 0,
      "metadata": {
        "colab": {},
        "colab_type": "code",
        "id": "rnJbbaRPDydE"
      },
      "outputs": [],
      "source": [
        "import itertools\n",
        "\n",
        "NUM_TWEETS_TO_FETCH = 1000\n",
        "\n",
        "cursor = twitter.cursor(twitter.search, q='#science', count=100, result_type='mixed')\n",
        "search_tweets = list(itertools.islice(cursor, NUM_TWEETS_TO_FETCH))\n",
        "len(search_tweets)"
      ]
    },
    {
      "cell_type": "markdown",
      "metadata": {
        "colab_type": "text",
        "id": "p90tJUgQDydF"
      },
      "source": [
        "## 5.2 Filter retweets\n",
        "\n",
        "Of the tweets we fetched, a subset will be retweets. Let's create a new list of just the retweets:"
      ]
    },
    {
      "cell_type": "code",
      "execution_count": 0,
      "metadata": {
        "colab": {},
        "colab_type": "code",
        "id": "gbTtmCSFDydG"
      },
      "outputs": [],
      "source": [
        "retweets = []\n",
        "for tweet in search_tweets:\n",
        "    if 'retweeted_status' in tweet:\n",
        "        retweets.append(tweet)\n",
        "len(retweets)"
      ]
    },
    {
      "cell_type": "markdown",
      "metadata": {
        "colab_type": "text",
        "id": "cOKGtfrUDydH"
      },
      "source": [
        "## 5.3 Create DiGraph\n",
        "\n",
        "Each tweet in this list of retweets represents an edge in our network. We're going to draw these edges in the direction of information flow: from the retweeted user to the retweeter, the user doing the retweeting. Since a user can retweet another user more than once, we want this graph to be weighted, with the number of retweets as the weight."
      ]
    },
    {
      "cell_type": "code",
      "execution_count": 0,
      "metadata": {
        "colab": {},
        "colab_type": "code",
        "id": "ZRU0DLSLDydH"
      },
      "outputs": [],
      "source": [
        "import networkx as nx\n",
        "\n",
        "D = nx.DiGraph()\n",
        "\n",
        "for retweet in retweets:\n",
        "    retweeted_status = retweet['retweeted_status']\n",
        "    retweeted_sn = retweeted_status['user']['screen_name']\n",
        "    retweeter_sn = retweet['user']['screen_name']\n",
        "    \n",
        "    # Edge direction: retweeted_sn -> retweeter_sn\n",
        "    if D.has_edge(retweeted_sn, retweeter_sn):\n",
        "        D.edges[retweeted_sn, retweeter_sn]['weight'] += 1\n",
        "    else:\n",
        "        D.add_edge(retweeted_sn, retweeter_sn, weight=1)"
      ]
    },
    {
      "cell_type": "markdown",
      "metadata": {
        "colab_type": "text",
        "id": "uhzrQAKDDydJ"
      },
      "source": [
        "The edge addition logic here is to increase the edge weight by 1 if the edge exists, or else create the edge with weight 1 if it does not exist.\n",
        "\n",
        "When writing code such as this that refers multiple times to the same directed edge, make sure to be consistent with the edge direction."
      ]
    },
    {
      "cell_type": "markdown",
      "metadata": {
        "colab_type": "text",
        "id": "S2D2HzJgDydK"
      },
      "source": [
        "## 5.4 Analyze graph\n",
        "\n",
        "Now that we have this graph, let's ask some questions about it.\n",
        "\n",
        "### Most retweeted user\n",
        "\n",
        "Since the edges are in the direction of information flow, out-degree gives us the number of other users retweeting a given user. We can get the user with highest out-degree using the built-in `max` function:"
      ]
    },
    {
      "cell_type": "code",
      "execution_count": 0,
      "metadata": {
        "colab": {},
        "colab_type": "code",
        "id": "TlUwtTMRDydK"
      },
      "outputs": [],
      "source": [
        "max(D.nodes, key=D.out_degree)"
      ]
    },
    {
      "cell_type": "markdown",
      "metadata": {
        "colab_type": "text",
        "id": "aTlKKDGmDydM"
      },
      "source": [
        "but we can get more context and information from the \"top N\" users:"
      ]
    },
    {
      "cell_type": "code",
      "execution_count": 0,
      "metadata": {
        "colab": {},
        "colab_type": "code",
        "id": "KvOXzSWQDydN"
      },
      "outputs": [],
      "source": [
        "from operator import itemgetter\n",
        "\n",
        "sorted(D.out_degree(), key=itemgetter(1), reverse=True)[:5]"
      ]
    },
    {
      "cell_type": "markdown",
      "metadata": {
        "colab_type": "text",
        "id": "QoPbwcBIDydO"
      },
      "source": [
        "In this piece of code, we take advantage of the fact that `D.out_degree()` returns a sequence of `(name, degree)` 2-tuples; specifying `key=itemgetter(1)` tells the `sorted` function to sort these 2-tuples by their value at index 1. Giving `reverse=True` tells the `sorted` function that we want this in descending order, and the `[:5]` at the end slices the first 5 items from the resulting list.\n",
        "\n",
        "However, this is a weighted graph! By default, `out_degree()` ignores the edge weights. We can get out-strength by telling the `out_degree()` function to take into account the edge weight:"
      ]
    },
    {
      "cell_type": "code",
      "execution_count": 0,
      "metadata": {
        "colab": {},
        "colab_type": "code",
        "id": "0fKnopu1DydO"
      },
      "outputs": [],
      "source": [
        "sorted(D.out_degree(weight='weight'), key=itemgetter(1), reverse=True)[:5]"
      ]
    },
    {
      "cell_type": "markdown",
      "metadata": {
        "colab_type": "text",
        "id": "0zQMMUw9DydQ"
      },
      "source": [
        "In some cases these two results will be the same, namely if none of these users has been retweeted multiple times by the same user. Depending on your use case, you may or may not wish to take the weights into account.\n",
        "\n",
        "### Anomaly detection\n",
        "\n",
        "One type of social media manipulation involves accounts that create very little original content, instead \"spamming\" retweets of any and all content in a particular conversation. Can we detect any users doing significantly more retweeting than others? Let's look at the top N retweeters:"
      ]
    },
    {
      "cell_type": "code",
      "execution_count": 0,
      "metadata": {
        "colab": {},
        "colab_type": "code",
        "id": "qpRUQaKIDydQ",
        "scrolled": true
      },
      "outputs": [],
      "source": [
        "sorted(D.in_degree(weight='weight'), key=itemgetter(1), reverse=True)[:5]"
      ]
    },
    {
      "cell_type": "markdown",
      "metadata": {
        "colab_type": "text",
        "id": "SEz2w8kIDydS"
      },
      "source": [
        "### Connectivity\n",
        "\n",
        "We can ask if the tweets obtained by the search represent one large conversation or many small conversations; broadly speaking, each weakly-connected component represents a conversation."
      ]
    },
    {
      "cell_type": "code",
      "execution_count": 0,
      "metadata": {
        "colab": {},
        "colab_type": "code",
        "id": "VZ9TmhLQDydS"
      },
      "outputs": [],
      "source": [
        "nx.is_weakly_connected(D)"
      ]
    },
    {
      "cell_type": "code",
      "execution_count": 0,
      "metadata": {
        "colab": {},
        "colab_type": "code",
        "id": "9KVkUxIPDydT"
      },
      "outputs": [],
      "source": [
        "nx.number_weakly_connected_components(D)"
      ]
    },
    {
      "cell_type": "markdown",
      "metadata": {
        "colab_type": "text",
        "id": "RtX9r_AeDydU"
      },
      "source": [
        "### Drawing\n",
        "\n",
        "We can try to draw this graph with the nodes sized by their out-strength:"
      ]
    },
    {
      "cell_type": "code",
      "execution_count": 0,
      "metadata": {
        "colab": {},
        "colab_type": "code",
        "id": "U6SZaM04DydV"
      },
      "outputs": [],
      "source": [
        "node_sizes = [D.out_degree(n, weight='weight') * 50 for n in D.nodes]\n",
        "\n",
        "%matplotlib inline\n",
        "nx.draw(D, node_size=node_sizes)"
      ]
    },
    {
      "cell_type": "markdown",
      "metadata": {
        "colab_type": "text",
        "id": "TPMzL5yCDydW"
      },
      "source": [
        "Note that in this simplistic drawing, nodes with zero out-strength are not drawn on the diagram because their size is 0. This suits us fine; only the users who have been retweeted are drawn here."
      ]
    },
    {
      "cell_type": "markdown",
      "metadata": {
        "colab_type": "text",
        "id": "8pnnCgDkDydW"
      },
      "source": [
        "# 6. Twitter mention network\n",
        "\n",
        "Another Twitter interaction between users occurs when one user mentions another in a tweet by their @screen_name. As an example, consider the following hypothetical tweet from @truthyatindiana:\n",
        "\n",
        "> Check out the new research from @IUSICE and @USC_ISI https://...\n",
        "\n",
        "From this tweet we would create two edges:\n",
        "\n",
        "    ('truthyatindiana', 'IUSICE')\n",
        "    ('truthyatindiana', 'USC_ISI')\n",
        "\n",
        "It's up to us which direction we draw these edges, but we should be consistent. In this example, we will draw edges in the direction of attention flow: @truthyatindiana is giving attention to @IUSICE and @USC_ISI.\n",
        "\n",
        "## 6.1 Get some tweets"
      ]
    },
    {
      "cell_type": "code",
      "execution_count": 0,
      "metadata": {
        "colab": {},
        "colab_type": "code",
        "id": "VfKLdknoDydX"
      },
      "outputs": [],
      "source": [
        "import itertools\n",
        "\n",
        "NUM_TWEETS_TO_FETCH = 1000\n",
        "\n",
        "cursor = twitter.cursor(twitter.search, q='#science', count=100, result_type='mixed')\n",
        "search_tweets = list(itertools.islice(cursor, NUM_TWEETS_TO_FETCH))\n",
        "len(search_tweets)"
      ]
    },
    {
      "cell_type": "markdown",
      "metadata": {
        "colab_type": "text",
        "id": "JIqYtBoQDydY"
      },
      "source": [
        "## 6.2 Create DiGraph\n",
        "\n",
        "It's not necessary to first filter out tweets containing user mentions due to a feature of\n",
        "[Tweet Objects](https://developer.twitter.com/en/docs/tweets/data-dictionary/overview/tweet-object):\n",
        "every tweet has\n",
        "[Entities](https://developer.twitter.com/en/docs/tweets/data-dictionary/overview/entities-object#entitiesobject)\n",
        "which always contains a `'user_mentions'` list, even if that list is empty. Since a tweet may mention more than one user, we need a nested for-loop."
      ]
    },
    {
      "cell_type": "code",
      "execution_count": 0,
      "metadata": {
        "colab": {},
        "colab_type": "code",
        "id": "96tMRTuqDydY"
      },
      "outputs": [],
      "source": [
        "import networkx as nx\n",
        "\n",
        "D = nx.DiGraph()\n",
        "\n",
        "for tweet in search_tweets:\n",
        "    tweet_sn = tweet['user']['screen_name']\n",
        "    for user_mention in tweet['entities']['user_mentions']:\n",
        "        mentioned_sn = user_mention['screen_name']\n",
        "        \n",
        "        my_edge = (tweet_sn, mentioned_sn)\n",
        "        if D.has_edge(*my_edge):\n",
        "            D.edges[my_edge]['weight'] += 1\n",
        "        else:\n",
        "            D.add_edge(*my_edge, weight=1)"
      ]
    },
    {
      "cell_type": "markdown",
      "metadata": {
        "colab_type": "text",
        "id": "dnGfESXJDyda"
      },
      "source": [
        "## 6.3 Analyze graph\n",
        "\n",
        "Now that we have this graph, let's ask some questions about it.\n",
        "\n",
        "### Most  popular users\n",
        "\n",
        "Since these edges are in the direction of attention flow, in-degree gives us the number of other users mentioning a given user. We can get the user with highest in-degree using the built-in `max` function:"
      ]
    },
    {
      "cell_type": "code",
      "execution_count": 0,
      "metadata": {
        "colab": {},
        "colab_type": "code",
        "id": "fEeIGbenDydb"
      },
      "outputs": [],
      "source": [
        "max(D.nodes, key=D.in_degree)"
      ]
    },
    {
      "cell_type": "markdown",
      "metadata": {
        "colab_type": "text",
        "id": "kIhgNSuYDydd"
      },
      "source": [
        "but we can get more context and information from the \"top N\" users:"
      ]
    },
    {
      "cell_type": "code",
      "execution_count": 0,
      "metadata": {
        "colab": {},
        "colab_type": "code",
        "id": "1Saeaov3Dydd"
      },
      "outputs": [],
      "source": [
        "from operator import itemgetter\n",
        "\n",
        "sorted(D.in_degree(), key=itemgetter(1), reverse=True)[:5]"
      ]
    },
    {
      "cell_type": "markdown",
      "metadata": {
        "colab_type": "text",
        "id": "S9TkmodtDyde"
      },
      "source": [
        "By specifying `weight='weight'` we can instead get the top 5 users by in-strength instead of in-degree:"
      ]
    },
    {
      "cell_type": "code",
      "execution_count": 0,
      "metadata": {
        "colab": {},
        "colab_type": "code",
        "id": "vhZcOHfFDydf"
      },
      "outputs": [],
      "source": [
        "sorted(D.in_degree(weight='weight'), key=itemgetter(1), reverse=True)[:5]"
      ]
    },
    {
      "cell_type": "markdown",
      "metadata": {
        "colab_type": "text",
        "id": "m67pOvVLDydg"
      },
      "source": [
        "In some cases these two results will be the same, namely if none of these users has been mentioned multiple times by the same user. Depending on your use case, you may or may not wish to take the weights into account.\n",
        "\n",
        "### Conversation drivers\n",
        "\n",
        "A user mentioning many others in a conversation may be \"driving\" the conversation and trying to include others in the dialogue. It could also be spam. Let's see who is doing the most mentioning here:"
      ]
    },
    {
      "cell_type": "code",
      "execution_count": 0,
      "metadata": {
        "colab": {},
        "colab_type": "code",
        "id": "_eu1YE9JDydh",
        "scrolled": true
      },
      "outputs": [],
      "source": [
        "sorted(D.out_degree(weight='weight'), key=itemgetter(1), reverse=True)[:5]"
      ]
    },
    {
      "cell_type": "markdown",
      "metadata": {
        "colab_type": "text",
        "id": "UgV4IFmhDydi"
      },
      "source": [
        "### Connectivity\n",
        "\n",
        "We can ask if the tweets obtained by the search represent one large conversation or many small conversations; broadly speaking, each weakly-connected component represents a conversation."
      ]
    },
    {
      "cell_type": "code",
      "execution_count": 0,
      "metadata": {
        "colab": {},
        "colab_type": "code",
        "id": "sLLfEFvyDydi"
      },
      "outputs": [],
      "source": [
        "nx.is_weakly_connected(D)"
      ]
    },
    {
      "cell_type": "code",
      "execution_count": 0,
      "metadata": {
        "colab": {},
        "colab_type": "code",
        "id": "ew6ch5yDDydk"
      },
      "outputs": [],
      "source": [
        "nx.number_weakly_connected_components(D)"
      ]
    },
    {
      "cell_type": "markdown",
      "metadata": {
        "colab_type": "text",
        "id": "B4AsfkQCDydm"
      },
      "source": [
        "### Drawing\n",
        "\n",
        "We can try to draw this graph with the nodes sized by their in-strength:"
      ]
    },
    {
      "cell_type": "code",
      "execution_count": 0,
      "metadata": {
        "colab": {},
        "colab_type": "code",
        "id": "QkMgDReJDydm"
      },
      "outputs": [],
      "source": [
        "node_sizes = [D.in_degree(n, weight='weight') * 50 for n in D.nodes]\n",
        "\n",
        "%matplotlib inline\n",
        "nx.draw(D, node_size=node_sizes)"
      ]
    },
    {
      "cell_type": "markdown",
      "metadata": {
        "colab_type": "text",
        "id": "D6nI1mMmDydn"
      },
      "source": [
        "Note that in this simplistic drawing, nodes with zero in-strength are not drawn on the diagram because their size is 0. This suits us fine; only the users who have been mentioned are drawn here."
      ]
    },
    {
      "cell_type": "code",
      "execution_count": 0,
      "metadata": {
        "colab": {},
        "colab_type": "code",
        "id": "PHdWOep2Dydo"
      },
      "outputs": [],
      "source": []
    }
  ]
}