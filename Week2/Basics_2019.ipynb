{
  "nbformat": 4,
  "nbformat_minor": 0,
  "metadata": {
    "colab": {
      "name": "Basics_2019.ipynb",
      "version": "0.3.2",
      "provenance": [],
      "collapsed_sections": []
    },
    "kernelspec": {
      "name": "python3",
      "display_name": "Python 3"
    }
  },
  "cells": [
    {
      "cell_type": "markdown",
      "metadata": {
        "id": "NqUhWWMA3G1P",
        "colab_type": "text"
      },
      "source": [
        "This is a quick review of some basic Python 3 features that you might use in your assignments. \n",
        "Of course, this is far from being exhaustive. \n",
        "\n",
        "This tutorial follows a example-exercise format. Grey boxes are cells containing code - just place the cursor in \n",
        "any code cell you want to execute, then press Shift + Enter on your keyboard or click on 'Cell -> Run'.\n",
        "\n",
        "Some exercises have a block of `assert` statements after them. These are used for you to make sure you're on the right track and help me when grading. **Do not alter `assert` statements without instruction to do so.**\n",
        "\n",
        "Official Python documentation - https://docs.python.org/3/\n",
        "\n",
        "A popular book “A byte of python\" - http://www.swaroopch.com/notes/Python"
      ]
    },
    {
      "cell_type": "markdown",
      "metadata": {
        "id": "hnRvViZc3G1S",
        "colab_type": "text"
      },
      "source": [
        "# Basics"
      ]
    },
    {
      "cell_type": "markdown",
      "metadata": {
        "id": "gxj-2c4O3G1U",
        "colab_type": "text"
      },
      "source": [
        "## Variables & printing\n",
        "Assigning values to variables, and printing them."
      ]
    },
    {
      "cell_type": "code",
      "metadata": {
        "id": "EX7cA-vC3G1Y",
        "colab_type": "code",
        "outputId": "7d7c40f6-6124-4222-cdc6-dc0c90a5dbeb",
        "colab": {
          "base_uri": "https://localhost:8080/",
          "height": 69
        }
      },
      "source": [
        "x = 0\n",
        "print(x)\n",
        "\n",
        "y = 'code'\n",
        "print(y)\n",
        "\n",
        "print(x, y)"
      ],
      "execution_count": 0,
      "outputs": [
        {
          "output_type": "stream",
          "text": [
            "0\n",
            "code\n",
            "0 code\n"
          ],
          "name": "stdout"
        }
      ]
    },
    {
      "cell_type": "markdown",
      "metadata": {
        "id": "okoASZn-3G1q",
        "colab_type": "text"
      },
      "source": [
        "In Jupyter notebook, executing a block with just a variable name or a function output will automatically print the value."
      ]
    },
    {
      "cell_type": "code",
      "metadata": {
        "id": "CRxUQwUE3G1u",
        "colab_type": "code",
        "outputId": "5422214b-fa5f-4745-b60c-b397e7d4a0b2",
        "colab": {}
      },
      "source": [
        "x + 4"
      ],
      "execution_count": 0,
      "outputs": [
        {
          "output_type": "execute_result",
          "data": {
            "text/plain": [
              "4"
            ]
          },
          "metadata": {
            "tags": []
          },
          "execution_count": 2
        }
      ]
    },
    {
      "cell_type": "markdown",
      "metadata": {
        "id": "yBc5hbPZ3G16",
        "colab_type": "text"
      },
      "source": [
        "## <font color='red'>EXERCISE 1.1</font>\n",
        "Assign numerical values to two different variables, multiply them, store the result in a different variable and print it."
      ]
    },
    {
      "cell_type": "code",
      "metadata": {
        "id": "rnDM-yHb3G18",
        "colab_type": "code",
        "colab": {}
      },
      "source": [
        ""
      ],
      "execution_count": 0,
      "outputs": []
    },
    {
      "cell_type": "markdown",
      "metadata": {
        "id": "D2X3J5p33G2E",
        "colab_type": "text"
      },
      "source": [
        "## \"Concatenation\"\n",
        "This will be a running theme for the data types we look at: how to combine two elements of the type. Numberic types (`int` and `float`) are immutable in Python."
      ]
    },
    {
      "cell_type": "code",
      "metadata": {
        "id": "SECmPRXD3G2H",
        "colab_type": "code",
        "colab": {}
      },
      "source": [
        "x, y = 2, 3\n",
        "z = x + y\n",
        "print(z)"
      ],
      "execution_count": 0,
      "outputs": []
    },
    {
      "cell_type": "code",
      "metadata": {
        "id": "lgMudkU23G2S",
        "colab_type": "code",
        "colab": {}
      },
      "source": [
        "x = 2\n",
        "x = x + 3\n",
        "print(x)"
      ],
      "execution_count": 0,
      "outputs": []
    },
    {
      "cell_type": "code",
      "metadata": {
        "id": "uWgb8x5s3G2c",
        "colab_type": "code",
        "colab": {}
      },
      "source": [
        "x = 2\n",
        "x += 3\n",
        "print(x)"
      ],
      "execution_count": 0,
      "outputs": []
    },
    {
      "cell_type": "markdown",
      "metadata": {
        "id": "tF_Br_bc3G2n",
        "colab_type": "text"
      },
      "source": [
        "By analogy, you can probably figure out what the `-=` and `*=` operators do."
      ]
    },
    {
      "cell_type": "markdown",
      "metadata": {
        "id": "l3_1bnZI3G2p",
        "colab_type": "text"
      },
      "source": [
        "## Comparison"
      ]
    },
    {
      "cell_type": "code",
      "metadata": {
        "id": "xHVIkWU_3G2s",
        "colab_type": "code",
        "colab": {}
      },
      "source": [
        "4 < 5"
      ],
      "execution_count": 0,
      "outputs": []
    },
    {
      "cell_type": "code",
      "metadata": {
        "id": "oLkir4zx3G23",
        "colab_type": "code",
        "colab": {}
      },
      "source": [
        "4 > 5"
      ],
      "execution_count": 0,
      "outputs": []
    },
    {
      "cell_type": "code",
      "metadata": {
        "id": "PjtBhQMJ3G3B",
        "colab_type": "code",
        "colab": {}
      },
      "source": [
        "# Need to use the double-equals for comparison\n",
        "4 == 4"
      ],
      "execution_count": 0,
      "outputs": []
    },
    {
      "cell_type": "code",
      "metadata": {
        "id": "o6aBY9CG3G3H",
        "colab_type": "code",
        "colab": {}
      },
      "source": [
        "4 >= 4"
      ],
      "execution_count": 0,
      "outputs": []
    },
    {
      "cell_type": "markdown",
      "metadata": {
        "id": "n1E8LjAG3G3R",
        "colab_type": "text"
      },
      "source": [
        "## <font color='red'>EXERCISE 1.2</font>\n",
        "It is true that for a given integer N, N times N (N squared) is greater than or equal to N. Assign an integer to a variable and show this condition evaluates to `True`."
      ]
    },
    {
      "cell_type": "code",
      "metadata": {
        "id": "I6rK0Psd3G3U",
        "colab_type": "code",
        "colab": {}
      },
      "source": [
        ""
      ],
      "execution_count": 0,
      "outputs": []
    },
    {
      "cell_type": "markdown",
      "metadata": {
        "id": "AiYP4kZk3G3d",
        "colab_type": "text"
      },
      "source": [
        "## Numerical operations\n",
        "Division, modulo, exponent"
      ]
    },
    {
      "cell_type": "code",
      "metadata": {
        "id": "OfxxZuNI3G3e",
        "colab_type": "code",
        "colab": {}
      },
      "source": [
        "5 / 2 # \"Regular\" division"
      ],
      "execution_count": 0,
      "outputs": []
    },
    {
      "cell_type": "code",
      "metadata": {
        "id": "_BMQmJJI3G3j",
        "colab_type": "code",
        "colab": {}
      },
      "source": [
        "5 // 2 # Integer division"
      ],
      "execution_count": 0,
      "outputs": []
    },
    {
      "cell_type": "code",
      "metadata": {
        "id": "ESX3cRdc3G3v",
        "colab_type": "code",
        "colab": {}
      },
      "source": [
        "5 % 2  # Modulo, returns the remainder"
      ],
      "execution_count": 0,
      "outputs": []
    },
    {
      "cell_type": "code",
      "metadata": {
        "id": "gXeD_8Pd3G4C",
        "colab_type": "code",
        "colab": {}
      },
      "source": [
        "5 ** 2 # Exponentiation. This is 5 to the 2nd power."
      ],
      "execution_count": 0,
      "outputs": []
    },
    {
      "cell_type": "markdown",
      "metadata": {
        "id": "heNzifYX3G4N",
        "colab_type": "text"
      },
      "source": [
        "Yes, the all of the shorthand assignment operators work like you would expect"
      ]
    },
    {
      "cell_type": "code",
      "metadata": {
        "id": "fcYU8FEe3G4Q",
        "colab_type": "code",
        "colab": {}
      },
      "source": [
        "x = 5\n",
        "x **= 2\n",
        "print(x)"
      ],
      "execution_count": 0,
      "outputs": []
    },
    {
      "cell_type": "markdown",
      "metadata": {
        "id": "fDnkuNfx3G4a",
        "colab_type": "text"
      },
      "source": [
        "## <font color='red'>EXERCISE 1.3</font>\n",
        "Calculate the product of x and its reciprocal (1/x). Verify that the result is equal to 1.0"
      ]
    },
    {
      "cell_type": "code",
      "metadata": {
        "id": "RdE9Ufyf3G4b",
        "colab_type": "code",
        "colab": {}
      },
      "source": [
        ""
      ],
      "execution_count": 0,
      "outputs": []
    },
    {
      "cell_type": "markdown",
      "metadata": {
        "id": "6OJMjJkz3G4i",
        "colab_type": "text"
      },
      "source": [
        "## Functions\n",
        "\n",
        "Defining functions with `def`. Note the colon at the end of the arguments list."
      ]
    },
    {
      "cell_type": "code",
      "metadata": {
        "id": "WrFo_8Rc3G4l",
        "colab_type": "code",
        "colab": {}
      },
      "source": [
        "def square(x):\n",
        "    return x * x\n",
        "\n",
        "square(4)"
      ],
      "execution_count": 0,
      "outputs": []
    },
    {
      "cell_type": "markdown",
      "metadata": {
        "id": "qrG83YMt3G4x",
        "colab_type": "text"
      },
      "source": [
        "Functions can have optional arguments as well"
      ]
    },
    {
      "cell_type": "code",
      "metadata": {
        "id": "lwCMyNeP3G4y",
        "colab_type": "code",
        "colab": {}
      },
      "source": [
        "def pow(x, exponent=2):\n",
        "    result = x ** exponent\n",
        "    return result\n",
        "\n",
        "print( pow(4) )\n",
        "print( pow(4,3) )"
      ],
      "execution_count": 0,
      "outputs": []
    },
    {
      "cell_type": "markdown",
      "metadata": {
        "id": "xpzU_tGM3G42",
        "colab_type": "text"
      },
      "source": [
        "## <font color='red'>EXERCISE 1.4</font>\n",
        "\n",
        "Define a function called `is_even` that uses the modulo operator to return whether or not a given integer is even. You'll know your function works if the assertions in the block after run without error."
      ]
    },
    {
      "cell_type": "code",
      "metadata": {
        "id": "-F8mo0j83G43",
        "colab_type": "code",
        "colab": {}
      },
      "source": [
        ""
      ],
      "execution_count": 0,
      "outputs": []
    },
    {
      "cell_type": "code",
      "metadata": {
        "id": "cReYzL_P3G47",
        "colab_type": "code",
        "colab": {}
      },
      "source": [
        "assert is_even(6)\n",
        "assert not is_even(5)"
      ],
      "execution_count": 0,
      "outputs": []
    },
    {
      "cell_type": "markdown",
      "metadata": {
        "id": "Xm8FP36p3G5J",
        "colab_type": "text"
      },
      "source": [
        "## Conditional logic\n",
        "Note how the else-if is implemented in python – it is ‘elif’. \n",
        "Also, notice the colon at the end of the conditions which is part of the syntax."
      ]
    },
    {
      "cell_type": "code",
      "metadata": {
        "id": "N6oatDgM3G5K",
        "colab_type": "code",
        "colab": {}
      },
      "source": [
        "x = 0\n",
        "\n",
        "if x == 1:\n",
        "    print('x is 1')\n",
        "elif x > 1:\n",
        "    print('x is > 1')\n",
        "else:\n",
        "    print('x is < 1')"
      ],
      "execution_count": 0,
      "outputs": []
    },
    {
      "cell_type": "code",
      "metadata": {
        "id": "mdX6I6AL3G5Q",
        "colab_type": "code",
        "colab": {}
      },
      "source": [
        "# Employing logical AND, OR within conditions\n",
        "\n",
        "x = 1\n",
        "y = 5\n",
        "z = 5\n",
        "\n",
        "if z >= x and z <= y:\n",
        "    print(\"z lies within the interval [x,y]\")\n",
        "\n",
        "if z == x or z == y:\n",
        "    print(\"z lies on the boundary of the interval [x,y]\")"
      ],
      "execution_count": 0,
      "outputs": []
    },
    {
      "cell_type": "markdown",
      "metadata": {
        "id": "7ZiePhnI3G5U",
        "colab_type": "text"
      },
      "source": [
        "## <font color='red'>EXERCISE 2.1</font>\n",
        "Write a function `compare()` that accepts two values, and prints if the first value is greater, less than, or equal to the second value.\n",
        "\n",
        "**Example:**\n",
        "```\n",
        ">>>  compare(4, 5)\n",
        "<<<  4 is less than 5\n",
        "```"
      ]
    },
    {
      "cell_type": "code",
      "metadata": {
        "id": "FM-ayNJp3G5V",
        "colab_type": "code",
        "colab": {}
      },
      "source": [
        ""
      ],
      "execution_count": 0,
      "outputs": []
    },
    {
      "cell_type": "code",
      "metadata": {
        "id": "SOaaZU043G5Y",
        "colab_type": "code",
        "colab": {}
      },
      "source": [
        "compare(4,5)\n",
        "compare(5,4)\n",
        "compare(7,7)"
      ],
      "execution_count": 0,
      "outputs": []
    },
    {
      "cell_type": "markdown",
      "metadata": {
        "id": "LBEf8QdU3G5c",
        "colab_type": "text"
      },
      "source": [
        "## Ranges and `for`-loops\n",
        "\n",
        "The `for` loop is by far the most useful and Pythonic loop. Again note the colon at the end of the loop statements."
      ]
    },
    {
      "cell_type": "code",
      "metadata": {
        "id": "pxtZxEyp3G5d",
        "colab_type": "code",
        "colab": {}
      },
      "source": [
        "for i in range(0,10):  \n",
        "    print(i)\n",
        "\n",
        "print(\"Final value:\", i)"
      ],
      "execution_count": 0,
      "outputs": []
    },
    {
      "cell_type": "markdown",
      "metadata": {
        "id": "B1j4vHz73G5n",
        "colab_type": "text"
      },
      "source": [
        "Often used in loops, the `range()` function allows iterating over a sequence of integers.\n",
        "\n",
        "With one argument, `range(x)` gives integers in the half-open interval [0, x), that is, including zero and not including x.\n",
        "\n",
        "By itself, `range()` gives an iterator:"
      ]
    },
    {
      "cell_type": "code",
      "metadata": {
        "id": "d6bKTYjz3G5n",
        "colab_type": "code",
        "colab": {}
      },
      "source": [
        "# Not so descriptive\n",
        "range(10)"
      ],
      "execution_count": 0,
      "outputs": []
    },
    {
      "cell_type": "markdown",
      "metadata": {
        "id": "NnPvt3v83G5v",
        "colab_type": "text"
      },
      "source": [
        "We can use the `list()` constructor to return all of the values in a list:"
      ]
    },
    {
      "cell_type": "code",
      "metadata": {
        "id": "CLkxeYIw3G5w",
        "colab_type": "code",
        "colab": {}
      },
      "source": [
        "list(range(10))"
      ],
      "execution_count": 0,
      "outputs": []
    },
    {
      "cell_type": "markdown",
      "metadata": {
        "id": "2jAri_AH3G50",
        "colab_type": "text"
      },
      "source": [
        "With two arguments, range(x, y) gives integers in the range [x, y):"
      ]
    },
    {
      "cell_type": "code",
      "metadata": {
        "id": "DmJUkLHA3G54",
        "colab_type": "code",
        "colab": {}
      },
      "source": [
        "list(range(0, 10))"
      ],
      "execution_count": 0,
      "outputs": []
    },
    {
      "cell_type": "markdown",
      "metadata": {
        "id": "8K2KMzJq3G59",
        "colab_type": "text"
      },
      "source": [
        "With three arguments, range(x, y, z) gives integers in the range [x, y), counting by z:"
      ]
    },
    {
      "cell_type": "code",
      "metadata": {
        "id": "p72mliQh3G5-",
        "colab_type": "code",
        "colab": {}
      },
      "source": [
        "list(range(1, 10, 2))"
      ],
      "execution_count": 0,
      "outputs": []
    },
    {
      "cell_type": "markdown",
      "metadata": {
        "id": "tYASizjn3G6B",
        "colab_type": "text"
      },
      "source": [
        "Counting backwards works too"
      ]
    },
    {
      "cell_type": "code",
      "metadata": {
        "id": "3LPcTdSV3G6D",
        "colab_type": "code",
        "colab": {}
      },
      "source": [
        "list(range(10, 5, -1))"
      ],
      "execution_count": 0,
      "outputs": []
    },
    {
      "cell_type": "markdown",
      "metadata": {
        "id": "MgHJbyDf3G6I",
        "colab_type": "text"
      },
      "source": [
        "## <font color='red'>EXERCISE 3.1</font>\n",
        "\n",
        "Using a loop, calculate the sum of first 10 positive integers (zero is not positive, pay attention to the endpoints)."
      ]
    },
    {
      "cell_type": "code",
      "metadata": {
        "id": "XKhMZJ7E3G6J",
        "colab_type": "code",
        "colab": {}
      },
      "source": [
        ""
      ],
      "execution_count": 0,
      "outputs": []
    },
    {
      "cell_type": "markdown",
      "metadata": {
        "id": "as3b72Pl3G6M",
        "colab_type": "text"
      },
      "source": [
        "## <font color='red'>EXERCISE 3.2</font>\n",
        "\n",
        "Write a loop that goes through numbers 1 through 20, printing only the even numbers"
      ]
    },
    {
      "cell_type": "code",
      "metadata": {
        "id": "ujcBE9BU3G6N",
        "colab_type": "code",
        "colab": {}
      },
      "source": [
        ""
      ],
      "execution_count": 0,
      "outputs": []
    },
    {
      "cell_type": "markdown",
      "metadata": {
        "id": "KbkZPIxQ3G6X",
        "colab_type": "text"
      },
      "source": [
        "## <font color='red'>EXERCISE 3.3</font>\n",
        "A natural number is prime if it has no positive divisors other than 1 and itself. Write a function `is_prime()` that checks if a number is prime. The assertions afterwards should pass."
      ]
    },
    {
      "cell_type": "code",
      "metadata": {
        "id": "a1PWARVM3G6Y",
        "colab_type": "code",
        "colab": {}
      },
      "source": [
        ""
      ],
      "execution_count": 0,
      "outputs": []
    },
    {
      "cell_type": "code",
      "metadata": {
        "id": "0rTmTV8F3G6d",
        "colab_type": "code",
        "colab": {}
      },
      "source": [
        "assert is_prime(11)\n",
        "assert not is_prime(12)"
      ],
      "execution_count": 0,
      "outputs": []
    },
    {
      "cell_type": "markdown",
      "metadata": {
        "id": "fKxIoWRf3G6g",
        "colab_type": "text"
      },
      "source": [
        "## <font color='red'>EXERCISE 3.4</font>\n",
        "The following function should return the minimal item from a sequence, but one or more of the assertions fail. Correct the bug in the function so that the assertions pass.\n",
        "\n",
        "*Note:* this is a bug that I guarantee every single one of you will write at least once in this course."
      ]
    },
    {
      "cell_type": "code",
      "metadata": {
        "id": "6MM9ktlD3G6j",
        "colab_type": "code",
        "colab": {}
      },
      "source": [
        "def minimum(seq):\n",
        "    my_min = float('inf')\n",
        "    for item in seq:\n",
        "        if item < my_min:\n",
        "            my_min = item\n",
        "        return my_min"
      ],
      "execution_count": 0,
      "outputs": []
    },
    {
      "cell_type": "code",
      "metadata": {
        "id": "O6GVU7Sm3G6m",
        "colab_type": "code",
        "colab": {}
      },
      "source": [
        "assert minimum(range(0,10)) == 0\n",
        "assert minimum(range(9, 0, -1)) == 1"
      ],
      "execution_count": 0,
      "outputs": []
    },
    {
      "cell_type": "code",
      "metadata": {
        "id": "rpfWPOko3G6u",
        "colab_type": "code",
        "colab": {}
      },
      "source": [
        ""
      ],
      "execution_count": 0,
      "outputs": []
    }
  ]
}