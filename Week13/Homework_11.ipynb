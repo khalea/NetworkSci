{
  "nbformat": 4,
  "nbformat_minor": 0,
  "metadata": {
    "kernelspec": {
      "display_name": "Python 3.6",
      "language": "python",
      "name": "python3.6"
    },
    "language_info": {
      "codemirror_mode": {
        "name": "ipython",
        "version": 3
      },
      "file_extension": ".py",
      "mimetype": "text/x-python",
      "name": "python",
      "nbconvert_exporter": "python",
      "pygments_lexer": "ipython3",
      "version": "3.6.0"
    },
    "colab": {
      "name": "Homework 11.ipynb",
      "provenance": []
    }
  },
  "cells": [
    {
      "cell_type": "markdown",
      "metadata": {
        "collapsed": false,
        "id": "d0iFViEW9NKP",
        "colab_type": "text"
      },
      "source": [
        "# Homework 11: Twitter Retweet & Mention networks\n",
        "\n",
        "In this assignment, you are to use the Twitter API to do a search for tweets containing a hashtag, then produce retweet and mention networks of the conversation. You are encouraged to reuse code from past tutorials to help you with these exercises.\n",
        "\n",
        "The parts of this assignment build on themselves -- you *really* don't want to get stuck early on here. Please get started early and don't be afraid to ask for help.\n",
        "\n",
        "## A note about notebook cells\n",
        "\n",
        "Beneath each exercise description there is a single code cell. This is not to suggest that you should do all your work in a single cell. Please create as many as you need via the \"Insert\" menu in the notebook menu bar.\n",
        "\n",
        "Another thing worth noting (as I mentioned in class) the Twitter API is rate limited, so it's worth making your API call in a seperate cell from the code you write to manipulate the result. That will avoid having the API call repeat every time you run the cell as you're debugging. "
      ]
    },
    {
      "cell_type": "markdown",
      "metadata": {
        "collapsed": false,
        "id": "5F3SedeF9NKQ",
        "colab_type": "text"
      },
      "source": [
        "# Exercise: Retweet network\n",
        "\n",
        "Here we want to produce a **directed** graph of users **retweeting** each others' tweets.\n",
        "\n",
        "(Note - please read this overview of the assignment before diving in - it might be helpful to have a firm idea of each required step before you start) \n",
        "\n",
        "* 1.) Do a search for a hashtag of your choosing, and retrieve at least 1000 tweets. Show that you have at least 1000 tweets.\n",
        "\n",
        "* 2.) For each tweet, if the tweet is a retweet, add an edge **from the *retweeted* user to the *retweeting* user**.\n",
        "\n",
        "* 3.) Remove selfloop edges and then also subsequently remove singleton nodes. We didn't remove singletons in the tutorial or last assignment, but you should do it here. Your graph should only contain nodes retweeting/retweeted by at least one other user.\n",
        "\n",
        "* 4.) Show how many nodes and edges are in this network.\n",
        "\n",
        "* 5.) Show the screen name of the user with:\n",
        "  * highest in-degree\n",
        "  * highest out-degree\n",
        "   \n",
        "  Also provide each of these degree values.\n",
        "\n",
        "* 6.) Draw this network\n",
        "\n",
        "* 6.1.) (Extra Credit!) Draw network two more times - first with nodes sized according to in-degree, and then with nodes sized according to out-degree\n",
        "\n",
        "* 7.) In the context of Twitter and Twitter users, what does it mean for a user to be a hub with high retweet in-degree? What does it mean for a user to have high retweet out-degree?\n",
        "\n",
        "* 8.) What proportion of the nodes in this network are *sinks* (i.e. nodes with zero out-degree)?\n",
        "\n",
        "* 8.1) What does it mean for a user to be a sink in this network?\n",
        "\n",
        "* 9.) What proportion of the nodes in this network are *sources* (i.e. nodes with zero in-degree)? \n",
        "\n",
        "* 9.1) What does it mean for a user to be a source in this network?\n",
        "\n",
        "* 10.) (Extra Credit!) What proportion of the nodes in this network are in its largest weakly-connected component?\n",
        "\n",
        "If the network doesn't have very many edges, (use your best judgement) try again but with more tweets, e.g. 2000 instead of 1000 - or a different hashtag. "
      ]
    },
    {
      "cell_type": "markdown",
      "metadata": {
        "id": "81QC0FT0F1AU",
        "colab_type": "text"
      },
      "source": [
        "## Exericse 1. Do a search for a hashtag of your choosing, and retrieve at least 1000 tweets. Show that you have at least 1000 tweets. "
      ]
    },
    {
      "cell_type": "code",
      "metadata": {
        "id": "z0VrE8bC9NKR",
        "colab_type": "code",
        "colab": {}
      },
      "source": [
        ""
      ],
      "execution_count": 0,
      "outputs": []
    },
    {
      "cell_type": "markdown",
      "metadata": {
        "id": "gpDTzQuQF_YI",
        "colab_type": "text"
      },
      "source": [
        "## 2. For each tweet, if the tweet is a retweet, add an edge **from the *retweeted* user to the *retweeting* user**.\n"
      ]
    },
    {
      "cell_type": "code",
      "metadata": {
        "id": "9VFa9A299NKT",
        "colab_type": "code",
        "colab": {}
      },
      "source": [
        ""
      ],
      "execution_count": 0,
      "outputs": []
    },
    {
      "cell_type": "markdown",
      "metadata": {
        "id": "AqJhe9InGI09",
        "colab_type": "text"
      },
      "source": [
        "## 3. Remove selfloop edges and then also subsequently remove singleton nodes. We didn't remove singletons in the tutorial, but you should do it here. Your graph should only contain nodes retweeting/retweeted by at least one other user.\n"
      ]
    },
    {
      "cell_type": "code",
      "metadata": {
        "id": "0WXwo0m3I5p5",
        "colab_type": "code",
        "colab": {}
      },
      "source": [
        ""
      ],
      "execution_count": 0,
      "outputs": []
    },
    {
      "cell_type": "markdown",
      "metadata": {
        "id": "ytmp0-LMGlno",
        "colab_type": "text"
      },
      "source": [
        "## 4. Show how many nodes and edges are in this network.\n"
      ]
    },
    {
      "cell_type": "code",
      "metadata": {
        "id": "klU-cGpfGq7R",
        "colab_type": "code",
        "colab": {}
      },
      "source": [
        ""
      ],
      "execution_count": 0,
      "outputs": []
    },
    {
      "cell_type": "markdown",
      "metadata": {
        "id": "Hd2KikLfGmfn",
        "colab_type": "text"
      },
      "source": [
        "## 5. Show the screen name of the user with:\n",
        "  * highest in-degree\n",
        "  * highest out-degree\n",
        "   \n",
        "  Also provide each of these degree values - print this information out in a easily readable format - as demonstrated in the tutorial. \n"
      ]
    },
    {
      "cell_type": "code",
      "metadata": {
        "id": "mmb8clIpG0Y8",
        "colab_type": "code",
        "colab": {}
      },
      "source": [
        ""
      ],
      "execution_count": 0,
      "outputs": []
    },
    {
      "cell_type": "markdown",
      "metadata": {
        "id": "-_dRUPdJG-p7",
        "colab_type": "text"
      },
      "source": [
        "## 6. Draw this network\n",
        "\n",
        "\n"
      ]
    },
    {
      "cell_type": "code",
      "metadata": {
        "id": "eAXzQfO8HGFA",
        "colab_type": "code",
        "colab": {}
      },
      "source": [
        ""
      ],
      "execution_count": 0,
      "outputs": []
    },
    {
      "cell_type": "markdown",
      "metadata": {
        "id": "YGpqKNE6HGiI",
        "colab_type": "text"
      },
      "source": [
        "## 6.1 (Extra credit!) \n",
        "\n",
        "Draw the network two more times - first with nodes sized by in-degree, and then with nodes sized by out-degree. "
      ]
    },
    {
      "cell_type": "code",
      "metadata": {
        "id": "NLMTVKEKI8WK",
        "colab_type": "code",
        "colab": {}
      },
      "source": [
        "# Nodes sized by in-degree"
      ],
      "execution_count": 0,
      "outputs": []
    },
    {
      "cell_type": "code",
      "metadata": {
        "id": "vfSTyJJ3I9Fs",
        "colab_type": "code",
        "colab": {}
      },
      "source": [
        "# Nodes sized by in-degree"
      ],
      "execution_count": 0,
      "outputs": []
    },
    {
      "cell_type": "markdown",
      "metadata": {
        "id": "xyCwwqRDHBl1",
        "colab_type": "text"
      },
      "source": [
        "## 7. In the context of Twitter and Twitter users, what does it mean for a user to be a hub with high retweet in-degree? What does it mean for a user to have high retweet out-degree?\n"
      ]
    },
    {
      "cell_type": "markdown",
      "metadata": {
        "id": "-U90k2HPHRU7",
        "colab_type": "text"
      },
      "source": [
        ""
      ]
    },
    {
      "cell_type": "markdown",
      "metadata": {
        "id": "tSFrsohTHTy-",
        "colab_type": "text"
      },
      "source": [
        "## 8. What proportion of the nodes in this network are *sinks* (i.e. nodes with zero out-degree)? \n",
        " "
      ]
    },
    {
      "cell_type": "code",
      "metadata": {
        "id": "fSgFvMKmHR2s",
        "colab_type": "code",
        "colab": {}
      },
      "source": [
        ""
      ],
      "execution_count": 0,
      "outputs": []
    },
    {
      "cell_type": "markdown",
      "metadata": {
        "id": "hHfLyy_zHZOE",
        "colab_type": "text"
      },
      "source": [
        "## 8.1 What does it mean for a user to be a sink in this network? "
      ]
    },
    {
      "cell_type": "markdown",
      "metadata": {
        "id": "rUrUedBOHhIa",
        "colab_type": "text"
      },
      "source": [
        ""
      ]
    },
    {
      "cell_type": "markdown",
      "metadata": {
        "id": "78Ybe5fgHjNt",
        "colab_type": "text"
      },
      "source": [
        "## 9. What proportion of the nodes in this network are *sources* (i.e. nodes with zero in-degree)? "
      ]
    },
    {
      "cell_type": "code",
      "metadata": {
        "id": "GeHfULJVHh6s",
        "colab_type": "code",
        "colab": {}
      },
      "source": [
        ""
      ],
      "execution_count": 0,
      "outputs": []
    },
    {
      "cell_type": "markdown",
      "metadata": {
        "id": "1okgbeG-Hl95",
        "colab_type": "text"
      },
      "source": [
        "## 9.1 What does it mean for a user to be a source in this network?"
      ]
    },
    {
      "cell_type": "markdown",
      "metadata": {
        "id": "BVbVXx3dHsHH",
        "colab_type": "text"
      },
      "source": [
        ""
      ]
    },
    {
      "cell_type": "markdown",
      "metadata": {
        "id": "hNBHBipTHtSX",
        "colab_type": "text"
      },
      "source": [
        "## 10. (Extra Credit!)  What proportion of the nodes in this network are in its largest weakly-connected component?"
      ]
    },
    {
      "cell_type": "code",
      "metadata": {
        "id": "GElUOWZMHrLh",
        "colab_type": "code",
        "colab": {}
      },
      "source": [
        ""
      ],
      "execution_count": 0,
      "outputs": []
    }
  ]
}