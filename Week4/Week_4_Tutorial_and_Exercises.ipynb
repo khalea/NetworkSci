{
  "nbformat": 4,
  "nbformat_minor": 0,
  "metadata": {
    "kernelspec": {
      "display_name": "Python 3",
      "language": "python",
      "name": "python3"
    },
    "language_info": {
      "codemirror_mode": {
        "name": "ipython",
        "version": 3
      },
      "file_extension": ".py",
      "mimetype": "text/x-python",
      "name": "python",
      "nbconvert_exporter": "python",
      "pygments_lexer": "ipython3",
      "version": "3.6.8"
    },
    "colab": {
      "name": "Week 4 Tutorial and Exercises.ipynb",
      "version": "0.3.2",
      "provenance": [],
      "collapsed_sections": [
        "V2ayC1p6OGkt",
        "WZkuSgSPOGkv",
        "c7Tv7o_z7t_J",
        "gTEkgQW_OGkx",
        "AMO6N6AVOGk_",
        "XhSXdiKIOGlU",
        "z3NRvNwbOGlj",
        "0M30QR5qOGlo",
        "hhxCrrDKOGlt",
        "9W7WpBVWOGlx"
      ]
    }
  },
  "cells": [
    {
      "cell_type": "markdown",
      "metadata": {
        "id": "4X00RNJvOGkC",
        "colab_type": "text"
      },
      "source": [
        "# Week 3: Tutorial + Exercises\n",
        "\n",
        "Contents:\n",
        "\n",
        "1. [Conditionals](#2.-Conditionals)\n",
        "2. [Lists](#3.-Lists)\n",
        "3. [Loops](#4.-Loops)\n",
        "4. [Tuples](#5.-Tuples)\n",
        "5. [Dictionaries](#6.-Dictionaries)\n",
        "6. [Combining Data Types](#7.-Combining-Data-Types)\n"
      ]
    },
    {
      "cell_type": "markdown",
      "metadata": {
        "id": "DD9gj7oiOGkG",
        "colab_type": "text"
      },
      "source": [
        "## Printing and inspecting variables\n",
        "\n",
        "In Jupyter notebooks, we have two different ways of inspecting variables. Python's `print()` function is useful as always:"
      ]
    },
    {
      "cell_type": "code",
      "metadata": {
        "id": "6fW9SqMhOGkH",
        "colab_type": "code",
        "outputId": "1eef4aab-e924-42fa-b6d6-eb6733fcebbd",
        "colab": {
          "base_uri": "https://localhost:8080/",
          "height": 52
        }
      },
      "source": [
        "my_str = 'Hello'\n",
        "my_int = 16\n",
        "\n",
        "print(my_str)\n",
        "print(my_int)"
      ],
      "execution_count": 0,
      "outputs": [
        {
          "output_type": "stream",
          "text": [
            "Hello\n",
            "16\n"
          ],
          "name": "stdout"
        }
      ]
    },
    {
      "cell_type": "markdown",
      "metadata": {
        "id": "awJ1uNkkOGkI",
        "colab_type": "text"
      },
      "source": [
        "We can also just execute a cell with the name of a variable:"
      ]
    },
    {
      "cell_type": "code",
      "metadata": {
        "id": "OCxQ3JF8OGkJ",
        "colab_type": "code",
        "outputId": "7464d0f5-febf-409d-9463-2682c2ff372b",
        "colab": {
          "base_uri": "https://localhost:8080/",
          "height": 34
        }
      },
      "source": [
        "my_str"
      ],
      "execution_count": 0,
      "outputs": [
        {
          "output_type": "execute_result",
          "data": {
            "text/plain": [
              "'Hello'"
            ]
          },
          "metadata": {
            "tags": []
          },
          "execution_count": 8
        }
      ]
    },
    {
      "cell_type": "markdown",
      "metadata": {
        "id": "sEFBCHu-OGkK",
        "colab_type": "text"
      },
      "source": [
        "The big difference here between the two approaches is that `print()` statements can output multiple items per cell, while the latter approach will only display the last variable named. Observe:"
      ]
    },
    {
      "cell_type": "code",
      "metadata": {
        "id": "SzuAON8dOGkL",
        "colab_type": "code",
        "outputId": "cc9df078-a21d-4046-b33d-a414e1ef7786",
        "colab": {
          "base_uri": "https://localhost:8080/",
          "height": 34
        }
      },
      "source": [
        "my_str\n",
        "my_int"
      ],
      "execution_count": 0,
      "outputs": [
        {
          "output_type": "execute_result",
          "data": {
            "text/plain": [
              "16"
            ]
          },
          "metadata": {
            "tags": []
          },
          "execution_count": 9
        }
      ]
    },
    {
      "cell_type": "markdown",
      "metadata": {
        "id": "VBh_AEQcOGkN",
        "colab_type": "text"
      },
      "source": [
        "As opposed to the first example using `print()`, this only outputs the last value."
      ]
    },
    {
      "cell_type": "markdown",
      "metadata": {
        "id": "7XGgT1RqOGkO",
        "colab_type": "text"
      },
      "source": [
        "# 2. Conditionals\n",
        "\n",
        "\"Conditionals\" is a fancy word for if-statements. If you've ever done any programming, you are surely aware of the if-then-else construction. In Python it's done as follows:"
      ]
    },
    {
      "cell_type": "code",
      "metadata": {
        "id": "IrsBjt-tOGkO",
        "colab_type": "code",
        "outputId": "4591e937-eb91-47cc-de0a-9b305b3932b8",
        "colab": {
          "base_uri": "https://localhost:8080/",
          "height": 34
        }
      },
      "source": [
        "number_of_apples = 5\n",
        "\n",
        "if number_of_apples < 1:\n",
        "    print('You have no apples')\n",
        "elif number_of_apples == 1:\n",
        "    print('You have one apple')\n",
        "elif number_of_apples < 4:\n",
        "    print('You have a few apples')\n",
        "else:\n",
        "    print('You have many apples!')"
      ],
      "execution_count": 0,
      "outputs": [
        {
          "output_type": "stream",
          "text": [
            "You have many apples!\n"
          ],
          "name": "stdout"
        }
      ]
    },
    {
      "cell_type": "markdown",
      "metadata": {
        "id": "adAU51xGOGkQ",
        "colab_type": "text"
      },
      "source": [
        "You can change `number_of_apples` and re-run the previous cell in order to get the different possible outputs.\n"
      ]
    },
    {
      "cell_type": "markdown",
      "metadata": {
        "id": "MKU6DXGeOGkQ",
        "colab_type": "text"
      },
      "source": [
        "# 3. Lists\n",
        "\n",
        "One of Python's most versatile and ubiquitous data types is the List ([Python documentation](https://docs.python.org/3/library/stdtypes.html#list)). This is an **ordered**, **mutable**, **collection** of **non-unique** items.\n",
        "\n",
        "## 3.1 Ordered\n",
        "\n",
        "By *ordered*, we mean that the items are addressed by their *index* in the collection:"
      ]
    },
    {
      "cell_type": "code",
      "metadata": {
        "id": "AvhHQ9fROGkR",
        "colab_type": "code",
        "outputId": "3ad8e95b-e781-459e-f48c-0bf47616bf35",
        "colab": {
          "base_uri": "https://localhost:8080/",
          "height": 34
        }
      },
      "source": [
        "student_names = ['Alice', 'Bob', 'Carol', 'Dave']\n",
        "student_names[1]"
      ],
      "execution_count": 0,
      "outputs": [
        {
          "output_type": "execute_result",
          "data": {
            "text/plain": [
              "'Bob'"
            ]
          },
          "metadata": {
            "tags": []
          },
          "execution_count": 11
        }
      ]
    },
    {
      "cell_type": "markdown",
      "metadata": {
        "id": "1JWKj3zzOGkT",
        "colab_type": "text"
      },
      "source": [
        "Indices in Python start at zero, so the head of the list has index 0:"
      ]
    },
    {
      "cell_type": "code",
      "metadata": {
        "scrolled": true,
        "id": "5W2EqoexOGkT",
        "colab_type": "code",
        "outputId": "9c1205a6-e429-49a4-924b-d9624a2cc9af",
        "colab": {
          "base_uri": "https://localhost:8080/",
          "height": 34
        }
      },
      "source": [
        "student_names[0]"
      ],
      "execution_count": 0,
      "outputs": [
        {
          "output_type": "execute_result",
          "data": {
            "text/plain": [
              "'Alice'"
            ]
          },
          "metadata": {
            "tags": []
          },
          "execution_count": 12
        }
      ]
    },
    {
      "cell_type": "markdown",
      "metadata": {
        "id": "2YXP1X2sOGkV",
        "colab_type": "text"
      },
      "source": [
        "We can get the last item in a list by using negative indexing:"
      ]
    },
    {
      "cell_type": "code",
      "metadata": {
        "id": "D9Dz6ieVOGkW",
        "colab_type": "code",
        "outputId": "cd4e51e5-0f21-4749-fe33-36a84f378145",
        "colab": {
          "base_uri": "https://localhost:8080/",
          "height": 34
        }
      },
      "source": [
        "student_names[-1]"
      ],
      "execution_count": 0,
      "outputs": [
        {
          "output_type": "execute_result",
          "data": {
            "text/plain": [
              "'Dave'"
            ]
          },
          "metadata": {
            "tags": []
          },
          "execution_count": 15
        }
      ]
    },
    {
      "cell_type": "markdown",
      "metadata": {
        "id": "xStOqhL5OGkX",
        "colab_type": "text"
      },
      "source": [
        "Lists can also be *sliced* to get a subset of the list items:"
      ]
    },
    {
      "cell_type": "code",
      "metadata": {
        "id": "NCL5EaB2OGkY",
        "colab_type": "code",
        "outputId": "e468a1aa-d901-44a5-f246-d64f46d9b7d9",
        "colab": {
          "base_uri": "https://localhost:8080/",
          "height": 34
        }
      },
      "source": [
        "student_names[0:2]"
      ],
      "execution_count": 0,
      "outputs": [
        {
          "output_type": "execute_result",
          "data": {
            "text/plain": [
              "['Alice', 'Bob']"
            ]
          },
          "metadata": {
            "tags": []
          },
          "execution_count": 6
        }
      ]
    },
    {
      "cell_type": "code",
      "metadata": {
        "id": "e5hPsA_zOGkZ",
        "colab_type": "code",
        "outputId": "2d3f4ebb-fe42-4007-e65b-000a7b5c1c20",
        "colab": {}
      },
      "source": [
        "student_names[1:3]"
      ],
      "execution_count": 0,
      "outputs": [
        {
          "output_type": "execute_result",
          "data": {
            "text/plain": [
              "['Bob', 'Carol']"
            ]
          },
          "metadata": {
            "tags": []
          },
          "execution_count": 10
        }
      ]
    },
    {
      "cell_type": "markdown",
      "metadata": {
        "id": "c89tWm-qOGkc",
        "colab_type": "text"
      },
      "source": [
        "When slicing from the beginning of the list, or to the end of the list, we can leave out the index:"
      ]
    },
    {
      "cell_type": "code",
      "metadata": {
        "id": "f1qgVWr0OGkd",
        "colab_type": "code",
        "outputId": "be7e30a2-fab5-4bb8-fc31-56dc53ac4526",
        "colab": {}
      },
      "source": [
        "student_names[:2]"
      ],
      "execution_count": 0,
      "outputs": [
        {
          "output_type": "execute_result",
          "data": {
            "text/plain": [
              "['Alice', 'Bob']"
            ]
          },
          "metadata": {
            "tags": []
          },
          "execution_count": 11
        }
      ]
    },
    {
      "cell_type": "code",
      "metadata": {
        "id": "u73DqAZCOGkf",
        "colab_type": "code",
        "outputId": "910c1f61-1c5b-4bac-f3b5-feb0f6113a90",
        "colab": {
          "base_uri": "https://localhost:8080/",
          "height": 34
        }
      },
      "source": [
        "student_names[2:]"
      ],
      "execution_count": 0,
      "outputs": [
        {
          "output_type": "execute_result",
          "data": {
            "text/plain": [
              "['Carol', 'Dave']"
            ]
          },
          "metadata": {
            "tags": []
          },
          "execution_count": 16
        }
      ]
    },
    {
      "cell_type": "markdown",
      "metadata": {
        "id": "2NApji6BOGkh",
        "colab_type": "text"
      },
      "source": [
        "## 3.2 Mutable\n",
        "\n",
        "By *mutable*, we mean that the list can be changed by adding or removing items. We most often add items to the end of the list with `.append()`:"
      ]
    },
    {
      "cell_type": "code",
      "metadata": {
        "id": "Fr8HnisGOGkh",
        "colab_type": "code",
        "outputId": "b9ed0355-2b40-4eb9-fc73-c32b70d0f47f",
        "colab": {
          "base_uri": "https://localhost:8080/",
          "height": 34
        }
      },
      "source": [
        "student_names.append('Esther')\n",
        "student_names"
      ],
      "execution_count": 0,
      "outputs": [
        {
          "output_type": "execute_result",
          "data": {
            "text/plain": [
              "['Alice', 'Bob', 'Carol', 'Dave', 'Esther']"
            ]
          },
          "metadata": {
            "tags": []
          },
          "execution_count": 17
        }
      ]
    },
    {
      "cell_type": "markdown",
      "metadata": {
        "id": "ygAlvSyIOGkj",
        "colab_type": "text"
      },
      "source": [
        "But we can also add items at any arbitrary index with `.insert()`:"
      ]
    },
    {
      "cell_type": "code",
      "metadata": {
        "id": "72Rdj1hgOGkj",
        "colab_type": "code",
        "outputId": "99fc14d1-19e8-4c2c-a3da-4c4d8d61b0c3",
        "colab": {}
      },
      "source": [
        "student_names.insert(2, 'Xavier')\n",
        "student_names"
      ],
      "execution_count": 0,
      "outputs": [
        {
          "output_type": "execute_result",
          "data": {
            "text/plain": [
              "['Alice', 'Bob', 'Xavier', 'Carol', 'Dave', 'Esther']"
            ]
          },
          "metadata": {
            "tags": []
          },
          "execution_count": 14
        }
      ]
    },
    {
      "cell_type": "markdown",
      "metadata": {
        "id": "3nJixshTOGkl",
        "colab_type": "text"
      },
      "source": [
        "We can delete items with the `del` keyword:"
      ]
    },
    {
      "cell_type": "code",
      "metadata": {
        "id": "4LgWEgknOGkm",
        "colab_type": "code",
        "outputId": "26a7c167-63bc-40ca-bc95-59274c63663c",
        "colab": {}
      },
      "source": [
        "del student_names[2]\n",
        "student_names"
      ],
      "execution_count": 0,
      "outputs": [
        {
          "output_type": "execute_result",
          "data": {
            "text/plain": [
              "['Alice', 'Bob', 'Carol', 'Dave', 'Esther']"
            ]
          },
          "metadata": {
            "tags": []
          },
          "execution_count": 15
        }
      ]
    },
    {
      "cell_type": "markdown",
      "metadata": {
        "id": "0G92TLE1OGko",
        "colab_type": "text"
      },
      "source": [
        "## 3.3 Non-unique\n",
        "\n",
        "Note that nothing stops us from repeatedly adding the same name to this list:"
      ]
    },
    {
      "cell_type": "code",
      "metadata": {
        "id": "cZpAOARIOGkq",
        "colab_type": "code",
        "outputId": "093cb337-77ac-4026-f47f-b04b2b08523a",
        "colab": {
          "base_uri": "https://localhost:8080/",
          "height": 34
        }
      },
      "source": [
        "student_names.append('Esther')\n",
        "student_names.append('Esther')\n",
        "student_names"
      ],
      "execution_count": 0,
      "outputs": [
        {
          "output_type": "execute_result",
          "data": {
            "text/plain": [
              "['Alice', 'Bob', 'Carol', 'Dave', 'Esther', 'Esther', 'Esther']"
            ]
          },
          "metadata": {
            "tags": []
          },
          "execution_count": 18
        }
      ]
    },
    {
      "cell_type": "markdown",
      "metadata": {
        "id": "V2ayC1p6OGkt",
        "colab_type": "text"
      },
      "source": [
        "If you want a collection where uniqueness is enforced, you should look towards\n",
        "[sets](https://docs.python.org/3/library/stdtypes.html#set)\n",
        "or\n",
        "[dictionaries](https://docs.python.org/3/library/stdtypes.html#dict).\n",
        "\n",
        "## 3.4 Collection\n",
        "\n",
        "A collection refers to a data type consisting of more than one values. Lists are one type of collection, but there are others such as tuples, sets, and dictionaries.\n",
        "\n",
        "When naming your variables that contain lists, you should use plural nouns, *e.g.* `student_names` in the previous example. In contrast, single values should be named with singular nouns, *e.g.* `my_str` in the first section. This helps you and others reading your code keep straight which variables are collections and which are single items, and also helps when writing loops as shown in the next section."
      ]
    },
    {
      "cell_type": "markdown",
      "metadata": {
        "id": "JWaAKfVDOGkt",
        "colab_type": "text"
      },
      "source": [
        "# 4. Loops\n",
        "\n",
        "If you're coming from another programming language, you're probably aware of more than one type of loop. In Python, we focus on one type of loop in particular: the for-loop. The for-loop iterates through a collection of items, executing its code for each item:"
      ]
    },
    {
      "cell_type": "code",
      "metadata": {
        "id": "KrAVYt9OOGkt",
        "colab_type": "code",
        "outputId": "52d4315a-a80e-43c6-feee-4c6b365aad60",
        "colab": {
          "base_uri": "https://localhost:8080/",
          "height": 87
        }
      },
      "source": [
        "student_names = ['Alice', 'Bob', 'Carol', 'Dave']\n",
        "\n",
        "for student_name in student_names:\n",
        "    print('Hello ' + student_name + '!')"
      ],
      "execution_count": 0,
      "outputs": [
        {
          "output_type": "stream",
          "text": [
            "Hello Alice!\n",
            "Hello Bob!\n",
            "Hello Carol!\n",
            "Hello Dave!\n"
          ],
          "name": "stdout"
        }
      ]
    },
    {
      "cell_type": "markdown",
      "metadata": {
        "id": "WZkuSgSPOGkv",
        "colab_type": "text"
      },
      "source": [
        "## 4.1 Naming conventions\n",
        "\n",
        "Note the naming convention being used in the for-in construction:\n",
        "\n",
        "    for student_name in student_names:\n",
        "    \n",
        "By using a plural noun for the collection `student_names`, we automatically have good name for the individual items in the collection: `student_name`. The tutorials in this book use this naming convention when possible as it makes clear to the reader which variable is the \"loop variable\" that changes value between iterations of the loop body."
      ]
    },
    {
      "cell_type": "markdown",
      "metadata": {
        "id": "R2KOtIa9OGkv",
        "colab_type": "text"
      },
      "source": [
        "## 4.2 Loops, lists, and conditionals\n",
        "\n",
        "One extremely common type of task when working with data is the *filtering task*. In abstract, this task involves looping over one collection, checking each item for some criterion, then adding items that meet the criterion to another collection.\n",
        "\n",
        "In the following example, we'll create a list of just the \"long\" names from the `student_names` list. Long names are those that contain more than four characters. You will often see and write code that looks like the following in this book's tutorials:"
      ]
    },
    {
      "cell_type": "code",
      "metadata": {
        "id": "mAfNfskJOGkv",
        "colab_type": "code",
        "outputId": "cabbf4b0-1b3f-4520-8bb7-4da5d03cc0ae",
        "colab": {
          "base_uri": "https://localhost:8080/",
          "height": 34
        }
      },
      "source": [
        "# Initialize an empty list and add to it the\n",
        "# student names containing more than four characters\n",
        "long_names = []\n",
        "for student_name in student_names:\n",
        "    # This is our criterion\n",
        "    if len(student_name) > 4:\n",
        "        long_names.append(student_name)\n",
        "\n",
        "long_names"
      ],
      "execution_count": 0,
      "outputs": [
        {
          "output_type": "execute_result",
          "data": {
            "text/plain": [
              "['Alice', 'Carol']"
            ]
          },
          "metadata": {
            "tags": []
          },
          "execution_count": 24
        }
      ]
    },
    {
      "cell_type": "markdown",
      "metadata": {
        "id": "c7Tv7o_z7t_J",
        "colab_type": "text"
      },
      "source": [
        "## <font color='red'>EXERCISE 1</font>\n",
        "\n",
        "Make a list of 10 numbers within the range (1 - 100)\n",
        "\n",
        "Write code which first finds the average of the values within your list, and prints out any values above the average. \n",
        "\n",
        "Check your work to ensure your function is producing the right result. "
      ]
    },
    {
      "cell_type": "code",
      "metadata": {
        "id": "IconWx7XEiFN",
        "colab_type": "code",
        "colab": {}
      },
      "source": [
        ""
      ],
      "execution_count": 0,
      "outputs": []
    },
    {
      "cell_type": "markdown",
      "metadata": {
        "id": "gTEkgQW_OGkx",
        "colab_type": "text"
      },
      "source": [
        "## 4.3 Nested loops\n",
        "\n",
        "Loops can be \"nested\" inside one another. This often occurs when we want to match up items from one collection to items from the same or another collection. Here let's create a list of all possible pairs of students:"
      ]
    },
    {
      "cell_type": "code",
      "metadata": {
        "id": "hH1wsM6TOGkx",
        "colab_type": "code",
        "outputId": "5147184a-11b1-4d38-ef67-d22726cc59a1",
        "colab": {
          "base_uri": "https://localhost:8080/",
          "height": 298
        }
      },
      "source": [
        "student_names = ['Alice', 'Bob', 'Carol', 'Dave']\n",
        "\n",
        "student_pairs = []\n",
        "for student_name_0 in student_names:\n",
        "    for student_name_1 in student_names:\n",
        "        student_pairs.append(\n",
        "            (student_name_0, student_name_1)\n",
        "        )\n",
        "\n",
        "student_pairs"
      ],
      "execution_count": 0,
      "outputs": [
        {
          "output_type": "execute_result",
          "data": {
            "text/plain": [
              "[('Alice', 'Alice'),\n",
              " ('Alice', 'Bob'),\n",
              " ('Alice', 'Carol'),\n",
              " ('Alice', 'Dave'),\n",
              " ('Bob', 'Alice'),\n",
              " ('Bob', 'Bob'),\n",
              " ('Bob', 'Carol'),\n",
              " ('Bob', 'Dave'),\n",
              " ('Carol', 'Alice'),\n",
              " ('Carol', 'Bob'),\n",
              " ('Carol', 'Carol'),\n",
              " ('Carol', 'Dave'),\n",
              " ('Dave', 'Alice'),\n",
              " ('Dave', 'Bob'),\n",
              " ('Dave', 'Carol'),\n",
              " ('Dave', 'Dave')]"
            ]
          },
          "metadata": {
            "tags": []
          },
          "execution_count": 31
        }
      ]
    },
    {
      "cell_type": "markdown",
      "metadata": {
        "id": "vmLzbCd8OGkz",
        "colab_type": "text"
      },
      "source": [
        "Note here that instead of just adding names to the `student_pairs` list, we are adding *tuples* `(student_name, language)`. This means each item in the list is a 2-tuple:"
      ]
    },
    {
      "cell_type": "code",
      "metadata": {
        "id": "lnu5JveZOGkz",
        "colab_type": "code",
        "outputId": "91fd1a01-6e07-4f33-a3d0-8fff559def33",
        "colab": {}
      },
      "source": [
        "student_pairs[0]"
      ],
      "execution_count": 0,
      "outputs": [
        {
          "output_type": "execute_result",
          "data": {
            "text/plain": [
              "('Alice', 'Alice')"
            ]
          },
          "metadata": {
            "tags": []
          },
          "execution_count": 20
        }
      ]
    },
    {
      "cell_type": "markdown",
      "metadata": {
        "id": "o8j1Fu-QOGk1",
        "colab_type": "text"
      },
      "source": [
        "We'll talk more about tuples in the next section. The second thing to notice is that we're including pairs with two of the same student. Suppose we wish to exclude those. We can accomplish this by adding an if-statement in the second for-loop to *filter* out those repeats:"
      ]
    },
    {
      "cell_type": "code",
      "metadata": {
        "id": "svaK3yOOOGk1",
        "colab_type": "code",
        "outputId": "6342de0d-f933-4e1c-dee8-89a31eae0c75",
        "colab": {
          "base_uri": "https://localhost:8080/",
          "height": 227
        }
      },
      "source": [
        "student_names = ['Alice', 'Bob', 'Carol', 'Dave']\n",
        "\n",
        "student_pairs = []\n",
        "for student_name_0 in student_names:\n",
        "    for student_name_1 in student_names:\n",
        "        # This is the criterion we added\n",
        "        if student_name_0 != student_name_1:\n",
        "            student_pairs.append(\n",
        "                (student_name_0, student_name_1)\n",
        "            )\n",
        "\n",
        "student_pairs"
      ],
      "execution_count": 0,
      "outputs": [
        {
          "output_type": "execute_result",
          "data": {
            "text/plain": [
              "[('Alice', 'Bob'),\n",
              " ('Alice', 'Carol'),\n",
              " ('Alice', 'Dave'),\n",
              " ('Bob', 'Alice'),\n",
              " ('Bob', 'Carol'),\n",
              " ('Bob', 'Dave'),\n",
              " ('Carol', 'Alice'),\n",
              " ('Carol', 'Bob'),\n",
              " ('Carol', 'Dave'),\n",
              " ('Dave', 'Alice'),\n",
              " ('Dave', 'Bob'),\n",
              " ('Dave', 'Carol')]"
            ]
          },
          "metadata": {
            "tags": []
          },
          "execution_count": 32
        }
      ]
    },
    {
      "cell_type": "markdown",
      "metadata": {
        "id": "tGu1oAw7OGk2",
        "colab_type": "text"
      },
      "source": [
        "And now the list has no repeats."
      ]
    },
    {
      "cell_type": "markdown",
      "metadata": {
        "id": "1Bmc5UVzOGk3",
        "colab_type": "text"
      },
      "source": [
        "# 5. Tuples\n",
        "\n",
        "Even experienced Python users often are confused about the difference between tuples and lists, so definitely read this short section even if you have some experience.\n",
        "\n",
        "Tuples ([documentation](https://docs.python.org/3/library/stdtypes.html#tuple)) are superficially similar to lists as they are an ordered collection of non-unique items:"
      ]
    },
    {
      "cell_type": "code",
      "metadata": {
        "id": "zwW4dtmKofHM",
        "colab_type": "code",
        "colab": {}
      },
      "source": [
        ""
      ],
      "execution_count": 0,
      "outputs": []
    },
    {
      "cell_type": "code",
      "metadata": {
        "id": "4xcnWrsyOGk3",
        "colab_type": "code",
        "outputId": "63ea17ab-3900-4573-c3ca-699d5b2faa31",
        "colab": {
          "base_uri": "https://localhost:8080/",
          "height": 34
        }
      },
      "source": [
        "student_grade = ('Alice', 'Spanish', 'A-')\n",
        "student_grade"
      ],
      "execution_count": 0,
      "outputs": [
        {
          "output_type": "execute_result",
          "data": {
            "text/plain": [
              "('Alice', 'Spanish', 'A-')"
            ]
          },
          "metadata": {
            "tags": []
          },
          "execution_count": 33
        }
      ]
    },
    {
      "cell_type": "code",
      "metadata": {
        "id": "UgDeNmNZOGk4",
        "colab_type": "code",
        "outputId": "23388663-227b-48a5-ff7a-7a300c7b9977",
        "colab": {
          "base_uri": "https://localhost:8080/",
          "height": 34
        }
      },
      "source": [
        "student_grade[0]"
      ],
      "execution_count": 0,
      "outputs": [
        {
          "output_type": "execute_result",
          "data": {
            "text/plain": [
              "'Alice'"
            ]
          },
          "metadata": {
            "tags": []
          },
          "execution_count": 34
        }
      ]
    },
    {
      "cell_type": "markdown",
      "metadata": {
        "id": "qsqkuYBoOGk6",
        "colab_type": "text"
      },
      "source": [
        "## 5.1 Immutable\n",
        "\n",
        "The big difference from lists is that tuples are **immutable**. Each of the following cells should raise an exception."
      ]
    },
    {
      "cell_type": "code",
      "metadata": {
        "tags": [
          "raises-exception"
        ],
        "id": "VWVMqvuWOGk7",
        "colab_type": "code",
        "outputId": "645976c5-c3a5-49b6-f883-826c598e0336",
        "colab": {
          "base_uri": "https://localhost:8080/",
          "height": 167
        }
      },
      "source": [
        "student_grade.append('IU Bloomington')"
      ],
      "execution_count": 0,
      "outputs": [
        {
          "output_type": "error",
          "ename": "AttributeError",
          "evalue": "ignored",
          "traceback": [
            "\u001b[0;31m---------------------------------------------------------------------------\u001b[0m",
            "\u001b[0;31mAttributeError\u001b[0m                            Traceback (most recent call last)",
            "\u001b[0;32m<ipython-input-35-782d93a0b0cf>\u001b[0m in \u001b[0;36m<module>\u001b[0;34m()\u001b[0m\n\u001b[0;32m----> 1\u001b[0;31m \u001b[0mstudent_grade\u001b[0m\u001b[0;34m.\u001b[0m\u001b[0mappend\u001b[0m\u001b[0;34m(\u001b[0m\u001b[0;34m'IU Bloomington'\u001b[0m\u001b[0;34m)\u001b[0m\u001b[0;34m\u001b[0m\u001b[0;34m\u001b[0m\u001b[0m\n\u001b[0m",
            "\u001b[0;31mAttributeError\u001b[0m: 'tuple' object has no attribute 'append'"
          ]
        }
      ]
    },
    {
      "cell_type": "code",
      "metadata": {
        "tags": [
          "raises-exception"
        ],
        "id": "Zl2McaW_OGk8",
        "colab_type": "code",
        "outputId": "25f7b9be-2d5f-4b13-9765-3358c3a11c15",
        "colab": {
          "base_uri": "https://localhost:8080/",
          "height": 167
        }
      },
      "source": [
        "del student_grade[2]"
      ],
      "execution_count": 0,
      "outputs": [
        {
          "output_type": "error",
          "ename": "TypeError",
          "evalue": "ignored",
          "traceback": [
            "\u001b[0;31m---------------------------------------------------------------------------\u001b[0m",
            "\u001b[0;31mTypeError\u001b[0m                                 Traceback (most recent call last)",
            "\u001b[0;32m<ipython-input-36-f8ded3b186ff>\u001b[0m in \u001b[0;36m<module>\u001b[0;34m()\u001b[0m\n\u001b[0;32m----> 1\u001b[0;31m \u001b[0;32mdel\u001b[0m \u001b[0mstudent_grade\u001b[0m\u001b[0;34m[\u001b[0m\u001b[0;36m2\u001b[0m\u001b[0;34m]\u001b[0m\u001b[0;34m\u001b[0m\u001b[0;34m\u001b[0m\u001b[0m\n\u001b[0m",
            "\u001b[0;31mTypeError\u001b[0m: 'tuple' object doesn't support item deletion"
          ]
        }
      ]
    },
    {
      "cell_type": "code",
      "metadata": {
        "tags": [
          "raises-exception"
        ],
        "id": "asBchE7hOGk9",
        "colab_type": "code",
        "outputId": "77d3928f-9c3a-4233-9e5d-5d213402ce0e",
        "colab": {
          "base_uri": "https://localhost:8080/",
          "height": 167
        }
      },
      "source": [
        "student_grade[2] = 'C'"
      ],
      "execution_count": 0,
      "outputs": [
        {
          "output_type": "error",
          "ename": "TypeError",
          "evalue": "ignored",
          "traceback": [
            "\u001b[0;31m---------------------------------------------------------------------------\u001b[0m",
            "\u001b[0;31mTypeError\u001b[0m                                 Traceback (most recent call last)",
            "\u001b[0;32m<ipython-input-37-c9fd9c464431>\u001b[0m in \u001b[0;36m<module>\u001b[0;34m()\u001b[0m\n\u001b[0;32m----> 1\u001b[0;31m \u001b[0mstudent_grade\u001b[0m\u001b[0;34m[\u001b[0m\u001b[0;36m2\u001b[0m\u001b[0;34m]\u001b[0m \u001b[0;34m=\u001b[0m \u001b[0;34m'C'\u001b[0m\u001b[0;34m\u001b[0m\u001b[0;34m\u001b[0m\u001b[0m\n\u001b[0m",
            "\u001b[0;31mTypeError\u001b[0m: 'tuple' object does not support item assignment"
          ]
        }
      ]
    },
    {
      "cell_type": "markdown",
      "metadata": {
        "id": "AMO6N6AVOGk_",
        "colab_type": "text"
      },
      "source": [
        "This immutability makes tuples useful when **index matters**. In this example, the index matters semantically: index 0 is the student's name, index 1 is the course name, and index 2 is their grade in the course. The inability to insert or append items to the tuple means that we are certain that, say, the course name won't move around to a different index.\n",
        "\n",
        "## 5.2 Unpacking\n",
        "\n",
        "Tuples' immutability makes them useful for *unpacking*. At its simplest, tuple unpacking allows the following:"
      ]
    },
    {
      "cell_type": "code",
      "metadata": {
        "id": "Rq5Zi2L-OGk_",
        "colab_type": "code",
        "outputId": "46988cd1-5eda-4045-9144-da6d56496590",
        "colab": {
          "base_uri": "https://localhost:8080/",
          "height": 69
        }
      },
      "source": [
        "student_grade = ('Alice', 'Spanish', 'A-')\n",
        "student_name, subject, grade = student_grade\n",
        "\n",
        "print(student_name)\n",
        "print(subject)\n",
        "print(grade)\n",
        "\n"
      ],
      "execution_count": 0,
      "outputs": [
        {
          "output_type": "stream",
          "text": [
            "Alice\n",
            "Spanish\n",
            "A-\n"
          ],
          "name": "stdout"
        }
      ]
    },
    {
      "cell_type": "markdown",
      "metadata": {
        "id": "ijAWr7tUOGlA",
        "colab_type": "text"
      },
      "source": [
        "While occasionally useful on its own, tuple unpacking is most useful when used with loops. Consider the following piece of code, which congratulates students on getting good grades:"
      ]
    },
    {
      "cell_type": "code",
      "metadata": {
        "id": "AoaRrc43OGlA",
        "colab_type": "code",
        "outputId": "c6f31d4e-d020-4d37-e8ca-fab94e47c7fa",
        "colab": {
          "base_uri": "https://localhost:8080/",
          "height": 52
        }
      },
      "source": [
        "student_grades = [\n",
        "    ('Alice', 'Spanish', 'A'),\n",
        "    ('Bob', 'French', 'C'),\n",
        "    ('Carol', 'Italian', 'B+'),\n",
        "    ('Dave', 'Italian', 'A-'),\n",
        "]\n",
        "\n",
        "for student_name, subject, grade in student_grades:\n",
        "    if grade.startswith('A'):\n",
        "        print('Congratulations', student_name,\n",
        "              'on getting an', grade,\n",
        "              'in', subject)"
      ],
      "execution_count": 0,
      "outputs": [
        {
          "output_type": "stream",
          "text": [
            "Congratulations Alice on getting an A in Spanish\n",
            "Congratulations Dave on getting an A- in Italian\n"
          ],
          "name": "stdout"
        }
      ]
    },
    {
      "cell_type": "markdown",
      "metadata": {
        "id": "YsZiXBlTOGlC",
        "colab_type": "text"
      },
      "source": [
        "Compare this to the same code using indices:"
      ]
    },
    {
      "cell_type": "code",
      "metadata": {
        "id": "H8g0w6QzOGlC",
        "colab_type": "code",
        "outputId": "e1fe399a-d015-4053-875e-4d53c9431f51",
        "colab": {
          "base_uri": "https://localhost:8080/",
          "height": 52
        }
      },
      "source": [
        "for student_grade in student_grades:\n",
        "    if student_grade[2].startswith('A'):\n",
        "        print('Congratulations', student_grade[0],\n",
        "              'on getting an', student_grade[2],\n",
        "              'in', student_grade[1])"
      ],
      "execution_count": 0,
      "outputs": [
        {
          "output_type": "stream",
          "text": [
            "Congratulations Alice on getting an A in Spanish\n",
            "Congratulations Dave on getting an A- in Italian\n"
          ],
          "name": "stdout"
        }
      ]
    },
    {
      "cell_type": "markdown",
      "metadata": {
        "id": "1mo52GOzOGlE",
        "colab_type": "text"
      },
      "source": [
        "Tuple unpacking allows us to easily refer to this structured data by semantic names instead of having to keep the indices straight. The second example, while functionally identical, is more difficult to write and harder still to read."
      ]
    },
    {
      "cell_type": "markdown",
      "metadata": {
        "id": "eBddav_TOGlE",
        "colab_type": "text"
      },
      "source": [
        "# 6. Dictionaries\n",
        "\n",
        "The next type of collection is much different than the previous two, but is among the most powerful tools in Python: the dictionary ([documentation](https://docs.python.org/3/library/stdtypes.html#dict)). The dictionary is an **unordered**, **mutable**, collection of **unique** items. In other languages these are called maps, mappings, hashmaps, hashes, or associative arrays.\n",
        "\n",
        "## 6.1 Unordered\n",
        "\n",
        "By unordered, we mean that dictionary items aren't referred to by their position, or index, in the collection. Instead, dictionary items have *keys*, each of which is associated with a value. Here's a very basic example:"
      ]
    },
    {
      "cell_type": "code",
      "metadata": {
        "id": "84Mznsy2OGlE",
        "colab_type": "code",
        "colab": {}
      },
      "source": [
        "foreign_languages = {\n",
        "    'Alice': 'Spanish',\n",
        "    'Bob': 'French',\n",
        "    'Carol': 'Italian',\n",
        "    'Dave': 'Italian',\n",
        "}"
      ],
      "execution_count": 0,
      "outputs": []
    },
    {
      "cell_type": "markdown",
      "metadata": {
        "id": "mIn_dzowOGlF",
        "colab_type": "text"
      },
      "source": [
        "Here the student names are the keys and the students' foreign language courses are the values. So to see Carol's foreign language, we use the key -- her name -- instead of an index:"
      ]
    },
    {
      "cell_type": "code",
      "metadata": {
        "id": "fvH1aMeDOGlG",
        "colab_type": "code",
        "outputId": "eb220ac1-bf66-4fc2-8a50-5d51fdc03428",
        "colab": {
          "base_uri": "https://localhost:8080/",
          "height": 34
        }
      },
      "source": [
        "foreign_languages['Carol']"
      ],
      "execution_count": 0,
      "outputs": [
        {
          "output_type": "execute_result",
          "data": {
            "text/plain": [
              "'Italian'"
            ]
          },
          "metadata": {
            "tags": []
          },
          "execution_count": 46
        }
      ]
    },
    {
      "cell_type": "markdown",
      "metadata": {
        "id": "wjaAivbGOGlH",
        "colab_type": "text"
      },
      "source": [
        "Trying to get the value for a key that does not exist in the dictionary results in a `KeyError`:"
      ]
    },
    {
      "cell_type": "code",
      "metadata": {
        "tags": [
          "raises-exception"
        ],
        "id": "Yd7oUNyNOGlI",
        "colab_type": "code",
        "outputId": "55793f17-56a4-429b-a230-572e7b57b54c",
        "colab": {}
      },
      "source": [
        "foreign_languages['Zeke']"
      ],
      "execution_count": 0,
      "outputs": [
        {
          "output_type": "error",
          "ename": "KeyError",
          "evalue": "'Zeke'",
          "traceback": [
            "\u001b[0;31m---------------------------------------------------------------------------\u001b[0m",
            "\u001b[0;31mKeyError\u001b[0m                                  Traceback (most recent call last)",
            "\u001b[0;32m<ipython-input-32-1ff8fc89736a>\u001b[0m in \u001b[0;36m<module>\u001b[0;34m()\u001b[0m\n\u001b[0;32m----> 1\u001b[0;31m \u001b[0mforeign_languages\u001b[0m\u001b[0;34m[\u001b[0m\u001b[0;34m'Zeke'\u001b[0m\u001b[0;34m]\u001b[0m\u001b[0;34m\u001b[0m\u001b[0;34m\u001b[0m\u001b[0m\n\u001b[0m",
            "\u001b[0;31mKeyError\u001b[0m: 'Zeke'"
          ]
        }
      ]
    },
    {
      "cell_type": "markdown",
      "metadata": {
        "id": "niDZGavxOGlJ",
        "colab_type": "text"
      },
      "source": [
        "We can check if a particular key is in a dictionary with the `in` keyword:"
      ]
    },
    {
      "cell_type": "code",
      "metadata": {
        "id": "OxUtZXf4OGlJ",
        "colab_type": "code",
        "outputId": "94dee1f2-8583-4375-b9a8-2cb977c1b58d",
        "colab": {
          "base_uri": "https://localhost:8080/",
          "height": 34
        }
      },
      "source": [
        "'Zeke' in foreign_languages"
      ],
      "execution_count": 0,
      "outputs": [
        {
          "output_type": "execute_result",
          "data": {
            "text/plain": [
              "False"
            ]
          },
          "metadata": {
            "tags": []
          },
          "execution_count": 47
        }
      ]
    },
    {
      "cell_type": "code",
      "metadata": {
        "id": "L31XYbWFOGlK",
        "colab_type": "code",
        "outputId": "064902dc-4bd3-4661-e85b-529761983ffd",
        "colab": {
          "base_uri": "https://localhost:8080/",
          "height": 34
        }
      },
      "source": [
        "'Alice' in foreign_languages"
      ],
      "execution_count": 0,
      "outputs": [
        {
          "output_type": "execute_result",
          "data": {
            "text/plain": [
              "True"
            ]
          },
          "metadata": {
            "tags": []
          },
          "execution_count": 48
        }
      ]
    },
    {
      "cell_type": "markdown",
      "metadata": {
        "id": "xYG9ahYzOGlN",
        "colab_type": "text"
      },
      "source": [
        "Note that keys are case-sensitive:"
      ]
    },
    {
      "cell_type": "code",
      "metadata": {
        "id": "8WaKW5NzOGlO",
        "colab_type": "code",
        "outputId": "55758b70-af17-422f-99e4-6e5a983382c5",
        "colab": {}
      },
      "source": [
        "'alice' in foreign_languages"
      ],
      "execution_count": 0,
      "outputs": [
        {
          "output_type": "execute_result",
          "data": {
            "text/plain": [
              "False"
            ]
          },
          "metadata": {
            "tags": []
          },
          "execution_count": 35
        }
      ]
    },
    {
      "cell_type": "markdown",
      "metadata": {
        "id": "jJrB3WcYOGlP",
        "colab_type": "text"
      },
      "source": [
        "## 6.2 Mutable\n",
        "\n",
        "We can add, delete, and change entries in a dictionary:"
      ]
    },
    {
      "cell_type": "code",
      "metadata": {
        "id": "5KdQn7IAOGlP",
        "colab_type": "code",
        "outputId": "339b19c9-5936-4335-e46b-d212a8b9d43d",
        "colab": {
          "base_uri": "https://localhost:8080/",
          "height": 105
        }
      },
      "source": [
        "# Add an entry that doesn't exist\n",
        "foreign_languages['Esther'] = 'French'\n",
        "foreign_languages"
      ],
      "execution_count": 0,
      "outputs": [
        {
          "output_type": "execute_result",
          "data": {
            "text/plain": [
              "{'Alice': 'Spanish',\n",
              " 'Bob': 'French',\n",
              " 'Carol': 'Italian',\n",
              " 'Dave': 'Italian',\n",
              " 'Esther': 'French'}"
            ]
          },
          "metadata": {
            "tags": []
          },
          "execution_count": 49
        }
      ]
    },
    {
      "cell_type": "code",
      "metadata": {
        "id": "7qHmXleCOGlQ",
        "colab_type": "code",
        "outputId": "47ce4ea8-954a-4a50-b362-de3f9e7fa10f",
        "colab": {
          "base_uri": "https://localhost:8080/",
          "height": 34
        }
      },
      "source": [
        "# Delete an entry that exists\n",
        "del foreign_languages['Bob']\n",
        "foreign_languages"
      ],
      "execution_count": 0,
      "outputs": [
        {
          "output_type": "execute_result",
          "data": {
            "text/plain": [
              "{'Alice': 'Spanish', 'Carol': 'Italian', 'Dave': 'Italian', 'Esther': 'French'}"
            ]
          },
          "metadata": {
            "tags": []
          },
          "execution_count": 50
        }
      ]
    },
    {
      "cell_type": "code",
      "metadata": {
        "id": "73V4r2AqOGlT",
        "colab_type": "code",
        "outputId": "3547eb72-84fe-4c5b-c779-48f74df4881f",
        "colab": {
          "base_uri": "https://localhost:8080/",
          "height": 87
        }
      },
      "source": [
        "# Change an entry that does exist\n",
        "foreign_languages['Esther'] = 'Italian'\n",
        "foreign_languages"
      ],
      "execution_count": 0,
      "outputs": [
        {
          "output_type": "execute_result",
          "data": {
            "text/plain": [
              "{'Alice': 'Spanish',\n",
              " 'Carol': 'Italian',\n",
              " 'Dave': 'Italian',\n",
              " 'Esther': 'Italian'}"
            ]
          },
          "metadata": {
            "tags": []
          },
          "execution_count": 51
        }
      ]
    },
    {
      "cell_type": "markdown",
      "metadata": {
        "id": "XhSXdiKIOGlU",
        "colab_type": "text"
      },
      "source": [
        "## 6.3 Unique\n",
        "Note that the syntax for adding an entry that does not exist and changing an existing entry are the same. When assigning a value to a key in a dictionary, it adds the key if it doesn't exist, or else updates the value for the key if it does exist. As a consequence, keys are necessarily *unique* -- there can't be more than one element with the same key in a dictionary."
      ]
    },
    {
      "cell_type": "markdown",
      "metadata": {
        "id": "nEYcRGwCOGlU",
        "colab_type": "text"
      },
      "source": [
        "## 6.4 Looping over dictionaries\n",
        "\n",
        "While not performed as often as with lists, it is possible to loop over entries in a dictionary. There are two ways to accomplish this task:"
      ]
    },
    {
      "cell_type": "code",
      "metadata": {
        "id": "ux75T8X6OGlV",
        "colab_type": "code",
        "outputId": "db0adb4b-fe23-447c-d9d6-3c351ffdd807",
        "colab": {
          "base_uri": "https://localhost:8080/",
          "height": 87
        }
      },
      "source": [
        "for key in foreign_languages:\n",
        "    value = foreign_languages[key]\n",
        "    print(key, 'is taking', value)"
      ],
      "execution_count": 0,
      "outputs": [
        {
          "output_type": "stream",
          "text": [
            "Alice is taking Spanish\n",
            "Carol is taking Italian\n",
            "Dave is taking Italian\n",
            "Esther is taking Italian\n"
          ],
          "name": "stdout"
        }
      ]
    },
    {
      "cell_type": "code",
      "metadata": {
        "id": "5fdgPZVvOGlW",
        "colab_type": "code",
        "outputId": "dd7913ea-1199-4b82-bbeb-6558ec84b16a",
        "colab": {
          "base_uri": "https://localhost:8080/",
          "height": 87
        }
      },
      "source": [
        "for student, subject in foreign_languages.items():\n",
        "    print(student, 'is taking', subject)"
      ],
      "execution_count": 0,
      "outputs": [
        {
          "output_type": "stream",
          "text": [
            "Alice is taking Spanish\n",
            "Carol is taking Italian\n",
            "Dave is taking Italian\n",
            "Esther is taking Italian\n"
          ],
          "name": "stdout"
        }
      ]
    },
    {
      "cell_type": "markdown",
      "metadata": {
        "id": "OQKVk0sVOGlX",
        "colab_type": "text"
      },
      "source": [
        "Here I'm using variables named `key` and `value` to show the general principle. When you write loops over dictionaries in your own code, you should use descriptive names as opposed to `key` and `value`."
      ]
    },
    {
      "cell_type": "markdown",
      "metadata": {
        "id": "kis2cDrtZc-m",
        "colab_type": "text"
      },
      "source": [
        "## <font color='red'>EXERCISE 2</font>\n",
        "\n",
        "Write code to loop through the 'foreign_languages' dictionary and print out the names of the students who **do not** take Spanish. "
      ]
    },
    {
      "cell_type": "code",
      "metadata": {
        "id": "G7tDRGgkaCcY",
        "colab_type": "code",
        "colab": {}
      },
      "source": [
        ""
      ],
      "execution_count": 0,
      "outputs": []
    },
    {
      "cell_type": "markdown",
      "metadata": {
        "id": "JYcNTqj6OGlY",
        "colab_type": "text"
      },
      "source": [
        "## 6.5 Dictionaries as records\n",
        "\n",
        "In `foreign_languages` we have paired data -- every name is associated with a subject. Dictionaries are also often used to contain several different data about a single entity. To illustrate this subtle difference, let's take a look at one item from `student_grades`:"
      ]
    },
    {
      "cell_type": "code",
      "metadata": {
        "id": "9Os0aN4eOGlY",
        "colab_type": "code",
        "colab": {}
      },
      "source": [
        "student_grade = ('Alice', 'Spanish', 'A')"
      ],
      "execution_count": 0,
      "outputs": []
    },
    {
      "cell_type": "markdown",
      "metadata": {
        "id": "A2l8uy-gOGlZ",
        "colab_type": "text"
      },
      "source": [
        "Here we know that the items in each of these tuples is a name, subject, and grade:"
      ]
    },
    {
      "cell_type": "code",
      "metadata": {
        "id": "1ffswI78OGlZ",
        "colab_type": "code",
        "outputId": "8cfba367-f14e-4ae9-9aaa-132e1b680fc9",
        "colab": {}
      },
      "source": [
        "student_name, subject, grade = student_grades[0]\n",
        "print(student_name, 'got a grade of', grade, 'in', subject)"
      ],
      "execution_count": 0,
      "outputs": [
        {
          "output_type": "stream",
          "text": [
            "Alice got a grade of A in Spanish\n"
          ],
          "name": "stdout"
        }
      ]
    },
    {
      "cell_type": "markdown",
      "metadata": {
        "id": "tcmkT7QHOGlb",
        "colab_type": "text"
      },
      "source": [
        "We could instead represent this data as a dictionary and use it as such. A dictionary of information describing a single item is often referred to as a *record*:"
      ]
    },
    {
      "cell_type": "code",
      "metadata": {
        "id": "9vxwOAPSOGlb",
        "colab_type": "code",
        "outputId": "234e8edb-eef7-4d8f-dd85-a7e9340ed8f4",
        "colab": {}
      },
      "source": [
        "record = {\n",
        "    'name': 'Alice',\n",
        "    'subject': 'Spanish',\n",
        "    'grade': 'A',\n",
        "}\n",
        "print(record['name'],\n",
        "      'got a grade of', record['grade'],\n",
        "      'in', record['subject'])"
      ],
      "execution_count": 0,
      "outputs": [
        {
          "output_type": "stream",
          "text": [
            "Alice got a grade of A in Spanish\n"
          ],
          "name": "stdout"
        }
      ]
    },
    {
      "cell_type": "markdown",
      "metadata": {
        "id": "a-85TsuyOGlc",
        "colab_type": "text"
      },
      "source": [
        "While the code is slightly longer, there is absolutely no ambiguity here about matching up indices and what each value represents. This is also useful in contexts where some of the fields might be optional."
      ]
    },
    {
      "cell_type": "markdown",
      "metadata": {
        "id": "KxjJ2GTxOGld",
        "colab_type": "text"
      },
      "source": [
        "# 7. Combining Data Types\n",
        "\n",
        "In most of these simple examples we've worked with collections of simple values like strings and numbers, however data analysis often involves working with complex data, where each item of interest has several data associated with it. These complex data are often represented as collections of collections, *e.g.,* lists of dictionaries.\n",
        "\n",
        "Choosing the appropriate data types for a given problem will make it easier for you to write bug-free code and will make your code easier for others to read, but identifying the best data types is a skill gained through experience. Some of the commonly-used combination data types are illustrated below, but this is hardly exhaustive.\n",
        "\n",
        "## 7.1 List of tuples\n",
        "\n",
        "We've actually seen this one before. Consider the `student_grades` data from the earlier example on tuple unpacking:"
      ]
    },
    {
      "cell_type": "code",
      "metadata": {
        "id": "lfG4-ubjOGld",
        "colab_type": "code",
        "colab": {}
      },
      "source": [
        "student_grades = [\n",
        "    ('Alice', 'Spanish', 'A'),\n",
        "    ('Bob', 'French', 'C'),\n",
        "    ('Carol', 'Italian', 'B+'),\n",
        "    ('Dave', 'Italian', 'A-'),\n",
        "]"
      ],
      "execution_count": 0,
      "outputs": []
    },
    {
      "cell_type": "markdown",
      "metadata": {
        "id": "yoafE7-GOGlf",
        "colab_type": "text"
      },
      "source": [
        "This is a list of tuples:"
      ]
    },
    {
      "cell_type": "code",
      "metadata": {
        "id": "xiyO3Yy6OGlg",
        "colab_type": "code",
        "outputId": "c44d56a4-a5fa-4d4e-cd9d-802a4cb794e5",
        "colab": {}
      },
      "source": [
        "student_grades[1]"
      ],
      "execution_count": 0,
      "outputs": [
        {
          "output_type": "execute_result",
          "data": {
            "text/plain": [
              "('Bob', 'French', 'C')"
            ]
          },
          "metadata": {
            "tags": []
          },
          "execution_count": 45
        }
      ]
    },
    {
      "cell_type": "markdown",
      "metadata": {
        "id": "qS--GeCROGlh",
        "colab_type": "text"
      },
      "source": [
        "and we can work with the individual tuples as such:"
      ]
    },
    {
      "cell_type": "code",
      "metadata": {
        "id": "oKVaPbMROGlh",
        "colab_type": "code",
        "outputId": "35928275-1ce7-4a4e-d576-b3523531797f",
        "colab": {}
      },
      "source": [
        "student_grades[1][2]"
      ],
      "execution_count": 0,
      "outputs": [
        {
          "output_type": "execute_result",
          "data": {
            "text/plain": [
              "'C'"
            ]
          },
          "metadata": {
            "tags": []
          },
          "execution_count": 46
        }
      ]
    },
    {
      "cell_type": "markdown",
      "metadata": {
        "id": "z3NRvNwbOGlj",
        "colab_type": "text"
      },
      "source": [
        "## 7.2 List of dictionaries\n",
        "\n",
        "In the section on dictionaries, we explored how dictionaries are often used to contain several data about a single entity, and each such dictionary is sometimes called a *record*. Let's convert the list of tuples `student_grades` into a list of records `student_grade_records`:"
      ]
    },
    {
      "cell_type": "code",
      "metadata": {
        "id": "JlEViIeVOGlj",
        "colab_type": "code",
        "outputId": "8913f72c-c119-4e0a-e32e-e41cb2f20fcd",
        "colab": {}
      },
      "source": [
        "student_grade_records = []\n",
        "for student_name, subject, grade in student_grades:\n",
        "    record = {\n",
        "        'name': student_name,\n",
        "        'subject': subject,\n",
        "        'grade': grade,\n",
        "    }\n",
        "    student_grade_records.append(record)\n",
        "    \n",
        "student_grade_records"
      ],
      "execution_count": 0,
      "outputs": [
        {
          "output_type": "execute_result",
          "data": {
            "text/plain": [
              "[{'name': 'Alice', 'subject': 'Spanish', 'grade': 'A'},\n",
              " {'name': 'Bob', 'subject': 'French', 'grade': 'C'},\n",
              " {'name': 'Carol', 'subject': 'Italian', 'grade': 'B+'},\n",
              " {'name': 'Dave', 'subject': 'Italian', 'grade': 'A-'}]"
            ]
          },
          "metadata": {
            "tags": []
          },
          "execution_count": 47
        }
      ]
    },
    {
      "cell_type": "markdown",
      "metadata": {
        "id": "Sa5uaLmoOGlk",
        "colab_type": "text"
      },
      "source": [
        "Now each item in the list is a dictionary:"
      ]
    },
    {
      "cell_type": "code",
      "metadata": {
        "id": "xBPAk6AKOGll",
        "colab_type": "code",
        "outputId": "17ec0a77-c880-455a-bc4e-9f80894156dc",
        "colab": {}
      },
      "source": [
        "student_grade_records[1]"
      ],
      "execution_count": 0,
      "outputs": [
        {
          "output_type": "execute_result",
          "data": {
            "text/plain": [
              "{'name': 'Bob', 'subject': 'French', 'grade': 'C'}"
            ]
          },
          "metadata": {
            "tags": []
          },
          "execution_count": 48
        }
      ]
    },
    {
      "cell_type": "markdown",
      "metadata": {
        "id": "u5_NGdhnOGlm",
        "colab_type": "text"
      },
      "source": [
        "and we can work with the individual records as such:"
      ]
    },
    {
      "cell_type": "code",
      "metadata": {
        "id": "fB-N8u5GOGlm",
        "colab_type": "code",
        "outputId": "28b40232-a176-4d08-dd64-9c10b57010d0",
        "colab": {}
      },
      "source": [
        "student_grade_records[1]['grade']"
      ],
      "execution_count": 0,
      "outputs": [
        {
          "output_type": "execute_result",
          "data": {
            "text/plain": [
              "'C'"
            ]
          },
          "metadata": {
            "tags": []
          },
          "execution_count": 49
        }
      ]
    },
    {
      "cell_type": "markdown",
      "metadata": {
        "id": "ZTnfKqudOGln",
        "colab_type": "text"
      },
      "source": [
        "This list-of-dicts is often used to represent data from a database or an API. Let's use this data to write our code congratulating students for good grades, as we did in the section on tuple unpacking:"
      ]
    },
    {
      "cell_type": "code",
      "metadata": {
        "id": "IVV1NncMOGln",
        "colab_type": "code",
        "outputId": "38b54d83-0723-47d7-e658-c24defe62295",
        "colab": {}
      },
      "source": [
        "for record in student_grade_records:\n",
        "    if record['grade'].startswith('A'):\n",
        "        print('Congratulations', record['name'], \n",
        "              'on getting an', record['grade'], \n",
        "              'in', record['subject'])"
      ],
      "execution_count": 0,
      "outputs": [
        {
          "output_type": "stream",
          "text": [
            "Congratulations Alice on getting an A in Spanish\n",
            "Congratulations Dave on getting an A- in Italian\n"
          ],
          "name": "stdout"
        }
      ]
    },
    {
      "cell_type": "markdown",
      "metadata": {
        "id": "0M30QR5qOGlo",
        "colab_type": "text"
      },
      "source": [
        "## 7.3 Dictionary of dictionaries\n",
        "\n",
        "The list of dictionaries is very useful when dealing with non-unique data; in the previous example each student might have several grades from different classes. But sometimes we want to refer to the data by a particular name or key. In this case, we can use a dictionary whose values are records, *i.e.*, other dictionaries.\n",
        "\n",
        "Let's use data from `student_grades` again, but assume we just want the foreign language grade so we can use the students name as a key:"
      ]
    },
    {
      "cell_type": "code",
      "metadata": {
        "id": "0VAcTQyBOGlp",
        "colab_type": "code",
        "outputId": "6b4a8457-6e38-454c-9189-2d97b7347646",
        "colab": {}
      },
      "source": [
        "foreign_language_grades = {}\n",
        "for student_name, subject, grade in student_grades:\n",
        "    record = {\n",
        "        'subject': subject,\n",
        "        'grade': grade,\n",
        "    }\n",
        "    foreign_language_grades[student_name] = record\n",
        "    \n",
        "foreign_language_grades"
      ],
      "execution_count": 0,
      "outputs": [
        {
          "output_type": "execute_result",
          "data": {
            "text/plain": [
              "{'Alice': {'subject': 'Spanish', 'grade': 'A'},\n",
              " 'Bob': {'subject': 'French', 'grade': 'C'},\n",
              " 'Carol': {'subject': 'Italian', 'grade': 'B+'},\n",
              " 'Dave': {'subject': 'Italian', 'grade': 'A-'}}"
            ]
          },
          "metadata": {
            "tags": []
          },
          "execution_count": 51
        }
      ]
    },
    {
      "cell_type": "markdown",
      "metadata": {
        "id": "V9FCa2uZOGlr",
        "colab_type": "text"
      },
      "source": [
        "Now we can refer to these by student name:"
      ]
    },
    {
      "cell_type": "code",
      "metadata": {
        "id": "_wW4Ri6HOGlr",
        "colab_type": "code",
        "outputId": "73abcb5e-2448-4313-f0ad-ddc0d4dcf30e",
        "colab": {}
      },
      "source": [
        "foreign_language_grades['Alice']"
      ],
      "execution_count": 0,
      "outputs": [
        {
          "output_type": "execute_result",
          "data": {
            "text/plain": [
              "{'subject': 'Spanish', 'grade': 'A'}"
            ]
          },
          "metadata": {
            "tags": []
          },
          "execution_count": 52
        }
      ]
    },
    {
      "cell_type": "markdown",
      "metadata": {
        "id": "_8pw8kY7OGls",
        "colab_type": "text"
      },
      "source": [
        "And we can get the individual data that we care about:"
      ]
    },
    {
      "cell_type": "code",
      "metadata": {
        "id": "tmdooaGGOGls",
        "colab_type": "code",
        "outputId": "41d2e41f-2df7-4b50-e01f-99e758f9d532",
        "colab": {}
      },
      "source": [
        "foreign_language_grades['Alice']['grade']"
      ],
      "execution_count": 0,
      "outputs": [
        {
          "output_type": "execute_result",
          "data": {
            "text/plain": [
              "'A'"
            ]
          },
          "metadata": {
            "tags": []
          },
          "execution_count": 53
        }
      ]
    },
    {
      "cell_type": "markdown",
      "metadata": {
        "id": "hhxCrrDKOGlt",
        "colab_type": "text"
      },
      "source": [
        "## 7.4 Dictionary with tuple keys\n",
        "\n",
        "It is occasionally useful to key dictionaries on more than one data. Dictionaries can use any immutable object as a key, which includes tuples. Continuing with our student grades example, we may want the keys to be the student name and subject:"
      ]
    },
    {
      "cell_type": "code",
      "metadata": {
        "id": "-xXiaB9UOGlt",
        "colab_type": "code",
        "outputId": "e183d194-0afd-465b-921a-5a92dadeb423",
        "colab": {}
      },
      "source": [
        "student_course_grades = {}\n",
        "for student_name, subject, grade in student_grades:\n",
        "    student_course_grades[student_name, subject] = grade\n",
        "    \n",
        "student_course_grades"
      ],
      "execution_count": 0,
      "outputs": [
        {
          "output_type": "execute_result",
          "data": {
            "text/plain": [
              "{('Alice', 'Spanish'): 'A',\n",
              " ('Bob', 'French'): 'C',\n",
              " ('Carol', 'Italian'): 'B+',\n",
              " ('Dave', 'Italian'): 'A-'}"
            ]
          },
          "metadata": {
            "tags": []
          },
          "execution_count": 54
        }
      ]
    },
    {
      "cell_type": "markdown",
      "metadata": {
        "id": "Od4qM3ktOGlv",
        "colab_type": "text"
      },
      "source": [
        "Now we can represent all of a student's grades:"
      ]
    },
    {
      "cell_type": "code",
      "metadata": {
        "id": "HpQ9opTPOGlv",
        "colab_type": "code",
        "colab": {}
      },
      "source": [
        "student_course_grades['Alice', 'Math'] = 'A'\n",
        "student_course_grades['Alice', 'History'] = 'B'"
      ],
      "execution_count": 0,
      "outputs": []
    },
    {
      "cell_type": "code",
      "metadata": {
        "id": "KLZX-CPwOGlw",
        "colab_type": "code",
        "outputId": "d082251c-93c1-4506-a934-aac63b21c8fc",
        "colab": {}
      },
      "source": [
        "student_course_grades"
      ],
      "execution_count": 0,
      "outputs": [
        {
          "output_type": "execute_result",
          "data": {
            "text/plain": [
              "{('Alice', 'Spanish'): 'A',\n",
              " ('Bob', 'French'): 'C',\n",
              " ('Carol', 'Italian'): 'B+',\n",
              " ('Dave', 'Italian'): 'A-',\n",
              " ('Alice', 'Math'): 'A',\n",
              " ('Alice', 'History'): 'B'}"
            ]
          },
          "metadata": {
            "tags": []
          },
          "execution_count": 56
        }
      ]
    },
    {
      "cell_type": "markdown",
      "metadata": {
        "id": "9W7WpBVWOGlx",
        "colab_type": "text"
      },
      "source": [
        "## 7.5 Another dictionary of dictionaries\n",
        "\n",
        "Let's take advantage of the fact that, for a particular student, we often want to get subject-grade pairs, *i.e.* a report card. We can create a dictionary with student names as keys and the values being dictionaries of subject-grade pairs. In this case we need to do a bit of checking; that step is commented below:"
      ]
    },
    {
      "cell_type": "code",
      "metadata": {
        "id": "EgOE9XMdOGlx",
        "colab_type": "code",
        "colab": {}
      },
      "source": [
        "student_report_cards = {}\n",
        "for student_name, subject, grade in student_grades:\n",
        "    # If there is no report card for a student,\n",
        "    # we need to create a blank one\n",
        "    if student_name not in student_report_cards:\n",
        "        student_report_cards[student_name] = {}\n",
        "    student_report_cards[student_name][subject] = grade"
      ],
      "execution_count": 0,
      "outputs": []
    },
    {
      "cell_type": "code",
      "metadata": {
        "id": "7nJ3CeyIOGly",
        "colab_type": "code",
        "outputId": "f2f695b5-b84b-491f-9f61-45be30346268",
        "colab": {}
      },
      "source": [
        "student_report_cards"
      ],
      "execution_count": 0,
      "outputs": [
        {
          "output_type": "execute_result",
          "data": {
            "text/plain": [
              "{'Alice': {'Spanish': 'A'},\n",
              " 'Bob': {'French': 'C'},\n",
              " 'Carol': {'Italian': 'B+'},\n",
              " 'Dave': {'Italian': 'A-'}}"
            ]
          },
          "metadata": {
            "tags": []
          },
          "execution_count": 58
        }
      ]
    },
    {
      "cell_type": "markdown",
      "metadata": {
        "id": "ztRCQeuCOGlz",
        "colab_type": "text"
      },
      "source": [
        "The advantage of this extra work is that we can now easily have multiple grades per student:"
      ]
    },
    {
      "cell_type": "code",
      "metadata": {
        "id": "8t6Z3xVDOGlz",
        "colab_type": "code",
        "colab": {}
      },
      "source": [
        "student_report_cards['Alice']['Math'] = 'A'\n",
        "student_report_cards['Alice']['History'] = 'B'"
      ],
      "execution_count": 0,
      "outputs": []
    },
    {
      "cell_type": "code",
      "metadata": {
        "id": "NFKPRffkOGl1",
        "colab_type": "code",
        "outputId": "0bc4e995-2375-4ac3-c704-73f184446789",
        "colab": {}
      },
      "source": [
        "student_report_cards"
      ],
      "execution_count": 0,
      "outputs": [
        {
          "output_type": "execute_result",
          "data": {
            "text/plain": [
              "{'Alice': {'Spanish': 'A', 'Math': 'A', 'History': 'B'},\n",
              " 'Bob': {'French': 'C'},\n",
              " 'Carol': {'Italian': 'B+'},\n",
              " 'Dave': {'Italian': 'A-'}}"
            ]
          },
          "metadata": {
            "tags": []
          },
          "execution_count": 60
        }
      ]
    },
    {
      "cell_type": "markdown",
      "metadata": {
        "id": "QH7UY7sMOGl2",
        "colab_type": "text"
      },
      "source": [
        "And we can easily fetch a student's \"report card\":"
      ]
    },
    {
      "cell_type": "code",
      "metadata": {
        "id": "sbaK2Ft5OGl2",
        "colab_type": "code",
        "outputId": "de13b0a7-1264-47f7-9440-692315859b51",
        "colab": {}
      },
      "source": [
        "student_report_cards['Alice']"
      ],
      "execution_count": 0,
      "outputs": [
        {
          "output_type": "execute_result",
          "data": {
            "text/plain": [
              "{'Spanish': 'A', 'Math': 'A', 'History': 'B'}"
            ]
          },
          "metadata": {
            "tags": []
          },
          "execution_count": 61
        }
      ]
    },
    {
      "cell_type": "markdown",
      "metadata": {
        "id": "zWOU4ib8aKMn",
        "colab_type": "text"
      },
      "source": [
        "## <font color='red'>EXERCISE 3</font>\n",
        "\n",
        "Make a collection of records, one for each student. Then write code to loop through your records and print the information (name, subject, grade) for each student.\n",
        "\n",
        "You may use whichever type (list, dictionary, tuple) of data structure you wish to contain the records, but justify your decision in the comments.\n",
        "\n",
        "Print the students in alphabetical order first according to class subject, then according to class time. \n",
        "\n",
        "Consider that what you are doing is building networks - we will learn much more effective ways to do this later, but everything builds on these concepts.\n",
        "\n",
        "-\n",
        "\n",
        "Kelly P, Spanish, 9:30\n",
        "\n",
        "Jacob Y, Portuguese, 2:15\n",
        "\n",
        "Kata T, German, 10:00\n",
        "\n",
        "Breesha H, Italian, 2:15\n",
        "\n",
        "Antawn O, Russian, 9:30\n",
        "\n",
        "Petra N, Portuguese, 2:15\n",
        "\n",
        "Rodger I, Italian, 2:15\n",
        "\n",
        "Fillip S, Spanish, 9:30\n",
        "\n",
        "Tate S, Spanish, 9:30\n",
        "\n",
        "Devi O, Italian, 2:15\n",
        "\n",
        "Irene C, German, 10:00\n",
        "\n",
        "Lars O, Russian, 9:30\n",
        "\n",
        "Ye O, German, 10:00 \n",
        "\n",
        "Thomas L, Portuguese, 2:15\n",
        "\n"
      ]
    },
    {
      "cell_type": "code",
      "metadata": {
        "id": "rCOChSFaqjhg",
        "colab_type": "code",
        "colab": {}
      },
      "source": [
        ""
      ],
      "execution_count": 0,
      "outputs": []
    },
    {
      "cell_type": "markdown",
      "metadata": {
        "id": "xQd1YHZbqh0V",
        "colab_type": "text"
      },
      "source": [
        "## <font color='red'>EXERCISE 4</font>\n",
        "\n",
        "An anonymous wealthy individual has offered the students 100k each if they sign up for another language! It is most likely some sort of trap (because who does that?) But of course, they all accept (because who wouldn't?) Their schedules now look like this: \n",
        "\n",
        "\n",
        "Kelly P: \n",
        "* Spanish, 9:30\n",
        "* Italian, 2:15\n",
        "\n",
        "Jacob Y:\n",
        "* Portuguese, 2:15\n",
        "* Russian, 9:30\n",
        "\n",
        "Kata T:\n",
        "* German, 10:00\n",
        "* Italian, 2:15\n",
        "\n",
        "Breesha H:\n",
        "* Italian, 2:15\n",
        "* Spanish, 9:30\n",
        "\n",
        "Antawn O:\n",
        "* Russian, 9:30\n",
        "* Portuguese, 2:15\n",
        "\n",
        "Petra N:\n",
        "* Portuguese, 2:15\n",
        "* Italian, 2:15\n",
        "\n",
        "Rodger I:\n",
        "* Italian, 2:15\n",
        "* German, 10:00\n",
        "\n",
        "Fillip S:\n",
        "* Spanish, 9:30\n",
        "* Russian, 9:30\n",
        "\n",
        "Tate S: \n",
        "* Spanish, 9:30\n",
        "* Portuguese, 2:15\n",
        "\n",
        "Devi O:\n",
        "* Italian, 2:15\n",
        "* German, 10:00\n",
        "\n",
        "Irene C:\n",
        "* German, 10:00\n",
        "* Italian, 2:15\n",
        "\n",
        "Lars O:\n",
        "* Russian, 9:30\n",
        "* Portuguese, 2:15\n",
        "\n",
        "Ye O:\n",
        "* German, 10:00 \n",
        "* Italian, 2:15\n",
        "\n",
        "Thomas L:\n",
        "* Portuguese, 2:15\n",
        "* German, 10:00 \n",
        "\n",
        "\n",
        "\n",
        "Store this updated information in the data structure of your choosing - again, justifying your decision in the comments. \n",
        "You may have noticed that there are some schedule conflicts! Write code which checks each student's schedule for conflicts - if there is a conflict, change the second class in the list to another class whose time is at least 2 hours before or after the first class. \n"
      ]
    },
    {
      "cell_type": "code",
      "metadata": {
        "id": "Zuj6tcuorSw6",
        "colab_type": "code",
        "colab": {}
      },
      "source": [
        ""
      ],
      "execution_count": 0,
      "outputs": []
    },
    {
      "cell_type": "markdown",
      "metadata": {
        "id": "o7X7EO96zRU6",
        "colab_type": "text"
      },
      "source": [
        "## <font color='red'>EXERCISE 5</font>\n",
        "\n",
        "It's the end of the term, and final grades are due.\n",
        "Write code which goes though the students, and assigns each student random grade in each of their classes. The grades should be in the range A through F (do not worry about +/-).\n",
        "\n",
        "Then, print out the list of grades for each class in the format \"Student Name: Student Grade\"\n",
        "\n",
        "*Pay careful attention to these instructions*: \n",
        "* The classes should be listed in alphabetical order. \n",
        "* Within the listing for each class, the grades should be printed in descending order.\n",
        "* The grades should be right-justified to all start at a consistant point, based on the length of the students' names. \n",
        "\n",
        "\n",
        "\n"
      ]
    },
    {
      "cell_type": "code",
      "metadata": {
        "id": "KkEvIavV0zfU",
        "colab_type": "code",
        "colab": {}
      },
      "source": [
        ""
      ],
      "execution_count": 0,
      "outputs": []
    }
  ]
}