{
  "nbformat": 4,
  "nbformat_minor": 0,
  "metadata": {
    "kernelspec": {
      "display_name": "Python 3",
      "language": "python",
      "name": "python3"
    },
    "language_info": {
      "codemirror_mode": {
        "name": "ipython",
        "version": 3
      },
      "file_extension": ".py",
      "mimetype": "text/x-python",
      "name": "python",
      "nbconvert_exporter": "python",
      "pygments_lexer": "ipython3",
      "version": "3.6.3"
    },
    "colab": {
      "name": "Homework 8.ipynb",
      "provenance": []
    }
  },
  "cells": [
    {
      "cell_type": "code",
      "metadata": {
        "id": "d-cKfkBtQtoa",
        "colab_type": "code",
        "colab": {}
      },
      "source": [
        "import networkx as nx\n",
        "%matplotlib inline"
      ],
      "execution_count": 0,
      "outputs": []
    },
    {
      "cell_type": "markdown",
      "metadata": {
        "id": "tbDvXBVEQton",
        "colab_type": "text"
      },
      "source": [
        "# Homework 8\n",
        "\n",
        "In this homework, we will be working with the Wikipedia Mathematics network, and the Northwestern University Facebook network snapshot. \n",
        "\n",
        "This assignment builds on everything we have covered so far, so there's less review. If you want to review previous assignments/tutorials, feel free - and remember, Google is always a great resource!"
      ]
    },
    {
      "cell_type": "markdown",
      "metadata": {
        "id": "zd6lx279TWvw",
        "colab_type": "text"
      },
      "source": [
        "We'll start with the Wikipedia Math Network"
      ]
    },
    {
      "cell_type": "code",
      "metadata": {
        "id": "rgk5DhE-Qtps",
        "colab_type": "code",
        "colab": {}
      },
      "source": [
        "# You may need to replace the path if your setup is different.\n",
        "wiki_math_file_path = 'enwiki_math.graphml.gz'\n",
        "G = nx.read_graphml(wiki_math_file_path)"
      ],
      "execution_count": 0,
      "outputs": []
    },
    {
      "cell_type": "markdown",
      "metadata": {
        "id": "x2H6HxPqQtpx",
        "colab_type": "text"
      },
      "source": [
        "# EXERCISE 1\n",
        "\n",
        "Compute the average in-degree and average out-degree of this network.\n",
        "\n",
        "*What do you notice? Why? Put your answer as a comment, or add a text box below your code.*"
      ]
    },
    {
      "cell_type": "code",
      "metadata": {
        "id": "-Wn6lb_QQtpy",
        "colab_type": "code",
        "colab": {}
      },
      "source": [
        ""
      ],
      "execution_count": 0,
      "outputs": []
    },
    {
      "cell_type": "markdown",
      "metadata": {
        "id": "Auxq5hjNQtpz",
        "colab_type": "text"
      },
      "source": [
        "# EXERCISE 2\n",
        "\n",
        "Which node has the highest in-degree? \n",
        "\n",
        "*Print your answer using code - making sure you format it in a nice, readable form.*"
      ]
    },
    {
      "cell_type": "code",
      "metadata": {
        "id": "34PiTkZNQtpz",
        "colab_type": "code",
        "colab": {}
      },
      "source": [
        ""
      ],
      "execution_count": 0,
      "outputs": []
    },
    {
      "cell_type": "markdown",
      "metadata": {
        "id": "rmixTitPQtp1",
        "colab_type": "text"
      },
      "source": [
        "# EXERCISE 3\n",
        "\n",
        "Which node has the highest out-degree?\n",
        "\n",
        "*Print your answer using code - making sure you format it in a nice, readable form.*"
      ]
    },
    {
      "cell_type": "code",
      "metadata": {
        "id": "trBepLhrQtp1",
        "colab_type": "code",
        "colab": {}
      },
      "source": [
        ""
      ],
      "execution_count": 0,
      "outputs": []
    },
    {
      "cell_type": "markdown",
      "metadata": {
        "id": "FUbg_odyRpKI",
        "colab_type": "text"
      },
      "source": [
        "# EXERCISE 4\n",
        "\n",
        "Compute the maximum in-degree, and maximum out-degree. \n",
        "\n",
        "**4.1:** In this graph, which is greater: the maximum in-degree or the maximum\n",
        "out-degree?\n",
        "\n",
        "**4.2:** Would you expect this to be the same for otherWeb graphs?\n",
        "Why?\n",
        "\n",
        "*What do you notice? Why? Put your answer as a comment, or add a text box below your code.*\n"
      ]
    },
    {
      "cell_type": "code",
      "metadata": {
        "id": "Nx9zR2uySJCo",
        "colab_type": "code",
        "colab": {}
      },
      "source": [
        ""
      ],
      "execution_count": 0,
      "outputs": []
    },
    {
      "cell_type": "markdown",
      "metadata": {
        "id": "KiVsQR3GSJz6",
        "colab_type": "text"
      },
      "source": [
        "# EXERCISE 5\n",
        "\n",
        "Compute the heterogeneity parameter for this graph’s in-degree distribution."
      ]
    },
    {
      "cell_type": "code",
      "metadata": {
        "id": "f9iVtCDRSUkk",
        "colab_type": "code",
        "colab": {}
      },
      "source": [
        ""
      ],
      "execution_count": 0,
      "outputs": []
    },
    {
      "cell_type": "markdown",
      "metadata": {
        "id": "1HKtuaxNSVfs",
        "colab_type": "text"
      },
      "source": [
        "# EXERCISE 6\n",
        "\n",
        "Compute the heterogeneity parameter for this graph’s out-degree distribution."
      ]
    },
    {
      "cell_type": "code",
      "metadata": {
        "id": "lS_V6OCWSir5",
        "colab_type": "code",
        "colab": {}
      },
      "source": [
        ""
      ],
      "execution_count": 0,
      "outputs": []
    },
    {
      "cell_type": "markdown",
      "metadata": {
        "id": "SJOSCJF1Vh13",
        "colab_type": "text"
      },
      "source": [
        "# 2. Northwestern University Facebook network\n",
        "\n",
        "Now we will look at the network of Facebook connections at Northwestern University. Users in this network have been anonymized by giving the nodes numerical names.\n"
      ]
    },
    {
      "cell_type": "code",
      "metadata": {
        "id": "1u8G1-0SXSVx",
        "colab_type": "code",
        "colab": {}
      },
      "source": [
        "# You may need to replace the path if your setup is different.\n",
        "northwestern_fb_file_path = 'socfb-Northwestern25.edgelist'\n",
        "nx.read_edgelist(northwestern_fb_file_path)"
      ],
      "execution_count": 0,
      "outputs": []
    },
    {
      "cell_type": "markdown",
      "metadata": {
        "id": "RvxzsJlSY2qY",
        "colab_type": "text"
      },
      "source": [
        "# EXERCISE 7\n",
        "\n",
        "Print out the proportion of nodes that have degree 100 or greater."
      ]
    },
    {
      "cell_type": "code",
      "metadata": {
        "id": "H7WrtSUEYKEx",
        "colab_type": "code",
        "colab": {}
      },
      "source": [
        ""
      ],
      "execution_count": 0,
      "outputs": []
    },
    {
      "cell_type": "markdown",
      "metadata": {
        "id": "FZtdeEUBZBOB",
        "colab_type": "text"
      },
      "source": [
        "# EXERCISE 8\n",
        "\n",
        "Print out the maximum degree for nodes in this network. "
      ]
    },
    {
      "cell_type": "code",
      "metadata": {
        "id": "GIU5TpnhZJfB",
        "colab_type": "code",
        "colab": {}
      },
      "source": [
        ""
      ],
      "execution_count": 0,
      "outputs": []
    },
    {
      "cell_type": "markdown",
      "metadata": {
        "id": "v1op5fp5ZKej",
        "colab_type": "text"
      },
      "source": [
        "# EXERCISE 9\n",
        "\n",
        "Print out the id of the node with the highest degree"
      ]
    },
    {
      "cell_type": "code",
      "metadata": {
        "id": "GmyoMWrBZV-8",
        "colab_type": "code",
        "colab": {}
      },
      "source": [
        ""
      ],
      "execution_count": 0,
      "outputs": []
    },
    {
      "cell_type": "markdown",
      "metadata": {
        "id": "QCOSg1a3ZU_S",
        "colab_type": "text"
      },
      "source": [
        "# EXERCISE 10\n",
        "\n",
        "Print out the 95th percentile for degree, i.e., the value such that 95% of nodes have this degree or less. "
      ]
    },
    {
      "cell_type": "code",
      "metadata": {
        "id": "lcmfKMTXZsBr",
        "colab_type": "code",
        "colab": {}
      },
      "source": [
        ""
      ],
      "execution_count": 0,
      "outputs": []
    },
    {
      "cell_type": "markdown",
      "metadata": {
        "id": "0utCsnhBZsn2",
        "colab_type": "text"
      },
      "source": [
        "# EXERCISE 12\n",
        "\n",
        "Print out the mean degree for nodes in this network. Round to the nearest integer."
      ]
    },
    {
      "cell_type": "code",
      "metadata": {
        "id": "iwYTqBXQZ1lL",
        "colab_type": "code",
        "colab": {}
      },
      "source": [
        ""
      ],
      "execution_count": 0,
      "outputs": []
    }
  ]
}