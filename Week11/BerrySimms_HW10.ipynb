{
 "cells": [
  {
   "cell_type": "code",
   "execution_count": 0,
   "metadata": {},
   "outputs": [],
   "source": [
    "# Change directory to VSCode workspace root so that relative path loads work correctly. Turn this addition off with the DataScience.changeDirOnImportExport setting\n",
    "# ms-python.python added\n",
    "import os\n",
    "try:\n",
    "\tos.chdir(os.path.join(os.getcwd(), '../Week12'))\n",
    "\tprint(os.getcwd())\n",
    "except:\n",
    "\tpass\n"
   ]
  },
  {
   "cell_type": "code",
   "execution_count": 0,
   "metadata": {},
   "outputs": [],
   "source": [
    "import networkx as nx\n",
    "import matplotlib as mpl\n"
   ]
  },
  {
   "cell_type": "code",
   "execution_count": 0,
   "metadata": {},
   "outputs": [],
   "source": [
    "# Make graph\n",
    "G = nx.read_edgelist('/Users/khalea/Desktop/Fall19/NetworkSci/Week12/facebook_combined.txt.gz')"
   ]
  },
  {
   "cell_type": "code",
   "execution_count": 0,
   "metadata": {},
   "outputs": [],
   "source": [
    "# Total number of nodes\n",
    "totalNodes = len(G.nodes())\n",
    "print(totalNodes)"
   ]
  },
  {
   "cell_type": "code",
   "execution_count": 0,
   "metadata": {},
   "outputs": [],
   "source": [
    "# What proportion of nodes have a degree of 10 or higher?\n",
    "\n",
    "# Number of nodes with degree >= 10\n",
    "count = 0 \n",
    "# Counting nodes with degree >= 10\n",
    "for node in G.nodes():\n",
    "    if G.degree(node) >= 10:\n",
    "        count += 1\n",
    "\n",
    "print(count, 'nodes have degree greater than 10')\n",
    "\n",
    "proportion = count / totalNodes\n",
    "print('The proportion of nodes with degree greater than 10 is', proportion)\n",
    "\n"
   ]
  },
  {
   "cell_type": "code",
   "execution_count": 0,
   "metadata": {},
   "outputs": [],
   "source": [
    "# What proportion of nodes have a degree of 100 or higher?\n",
    "\n",
    "# Number of nodes with degree >= 100\n",
    "count = 0 \n",
    "# Counting nodes with degree >= 100\n",
    "for node in G.nodes():\n",
    "    if G.degree(node) >= 100:\n",
    "        count += 1\n",
    "\n",
    "print(count, 'nodes have degree greater than 100')\n",
    "\n",
    "proportion = count / totalNodes\n",
    "print('The proportion of nodes with degree greater than 100 is', proportion)\n"
   ]
  },
  {
   "cell_type": "code",
   "execution_count": 0,
   "metadata": {},
   "outputs": [],
   "source": [
    "# Find the maximum degree in the network\n",
    "degrees = [G.degree(n) for n in G.nodes]\n",
    "print(max(degrees))\n",
    "\n"
   ]
  },
  {
   "cell_type": "code",
   "execution_count": 0,
   "metadata": {},
   "outputs": [],
   "source": [
    "import numpy as np\n",
    "\n",
    "# Sort degrees in ascending order\n",
    "degrees = sorted(degrees)\n",
    "# print(degrees)\n",
    "\n",
    "np.quantile(degrees, [.95])\n",
    "\n"
   ]
  },
  {
   "cell_type": "code",
   "execution_count": 0,
   "metadata": {},
   "outputs": [],
   "source": [
    "# Sort nodes by degree and pick the max\n",
    "s = sorted(G.nodes, key=G.degree, reverse=True)\n",
    "print('Node', s[0], 'has degree', G.degree(s[0]))\n"
   ]
  },
  {
   "cell_type": "code",
   "execution_count": 0,
   "metadata": {},
   "outputs": [],
   "source": [
    "# Maximum number of pairs of nodes\n",
    "pairs = (totalNodes * (totalNodes-1)) / 2\n",
    "print(pairs)\n"
   ]
  },
  {
   "cell_type": "code",
   "execution_count": 0,
   "metadata": {},
   "outputs": [],
   "source": [
    "import random\n",
    "\n",
    "picks = 0\n",
    "sumSP = 0\n",
    "\n",
    "while picks < 1000:\n",
    "    # Pick a random pair of nodes\n",
    "    pair = random.sample(G.nodes(), 2)\n",
    "    # print(pair)\n",
    "    picks += 1\n",
    "    # Find path length\n",
    "    spLen = nx.shortest_path_length(G, pair[0], pair[1])\n",
    "    sumSP += spLen\n",
    "\n",
    "avgSP = sumSP/1000\n",
    "print('Avg shortest path from the sample:', avgSP)\n",
    "\n",
    "\n"
   ]
  },
  {
   "cell_type": "code",
   "execution_count": 0,
   "metadata": {},
   "outputs": [],
   "source": []
  }
 ],
 "metadata": {
  "file_extension": ".py",
  "kernelspec": {
   "display_name": "Python 3",
   "language": "python",
   "name": "python3"
  },
  "language_info": {
   "codemirror_mode": {
    "name": "ipython",
    "version": 3
   },
   "file_extension": ".py",
   "mimetype": "text/x-python",
   "name": "python",
   "nbconvert_exporter": "python",
   "pygments_lexer": "ipython3",
   "version": "3.7.4"
  },
  "mimetype": "text/x-python",
  "name": "python",
  "npconvert_exporter": "python",
  "pygments_lexer": "ipython3",
  "version": 3
 },
 "nbformat": 4,
 "nbformat_minor": 2
}
