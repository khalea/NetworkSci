{
  "nbformat": 4,
  "nbformat_minor": 0,
  "metadata": {
    "kernelspec": {
      "display_name": "Python [Root]",
      "language": "python",
      "name": "Python [Root]"
    },
    "language_info": {
      "codemirror_mode": {
        "name": "ipython",
        "version": 3
      },
      "file_extension": ".py",
      "mimetype": "text/x-python",
      "name": "python",
      "nbconvert_exporter": "python",
      "pygments_lexer": "ipython3",
      "version": "3.5.2"
    },
    "colab": {
      "name": "Basics II [Fall 2019].ipynb",
      "version": "0.3.2",
      "provenance": []
    }
  },
  "cells": [
    {
      "cell_type": "markdown",
      "metadata": {
        "id": "Vp5jaLn94iJa",
        "colab_type": "text"
      },
      "source": [
        "Python Basics part 2\n",
        "====\n",
        "\n",
        "Intro to data munging\n",
        "----\n",
        "\n",
        "From [Wikipedia](https://en.wikipedia.org/wiki/Data_wrangling):\n",
        "> Data munging or data wrangling is loosely the process of manually converting or mapping data from one \"raw\" form into another format that allows for more convenient consumption of the data with the help of semi-automated tools.\n",
        "\n",
        "\n",
        "\n",
        "A large part of working with data is reading and transforming that data prior to analysis. Getting comfortable with reading, writing, and working with data is crucial to doing any real work.\n",
        "\n"
      ]
    },
    {
      "cell_type": "markdown",
      "metadata": {
        "id": "NYafj_kQ4iJa",
        "colab_type": "text"
      },
      "source": [
        "1. Strings\n",
        "----\n",
        "We're going to start where we left off in the Python Basics tutorial, on strings. Python features extremely powerful and sophisticated string handling, but it comes at a slight cost of complexity: of all the built-in datatypes, strings probably have the highest number of commonly-used methods.\n",
        "\n",
        "### String methods\n",
        "\n",
        "The `replace()` method is used to replace all occurrences of one string with another:"
      ]
    },
    {
      "cell_type": "code",
      "metadata": {
        "id": "-UTyvFrO4iJb",
        "colab_type": "code",
        "colab": {}
      },
      "source": [
        "header = 'mpg,cyl,displ,hp,weight,accel,yr,origin,name'\n",
        "header.replace(',', ' ')"
      ],
      "execution_count": 0,
      "outputs": []
    },
    {
      "cell_type": "markdown",
      "metadata": {
        "id": "hIA-K-hm4iJc",
        "colab_type": "text"
      },
      "source": [
        "The `split()` method returns a list of substrings separated by the given character"
      ]
    },
    {
      "cell_type": "code",
      "metadata": {
        "id": "sX39p61c4iJd",
        "colab_type": "code",
        "colab": {}
      },
      "source": [
        "header = 'mpg,cyl,displ,hp,weight,accel,yr,origin,name'\n",
        "fields = header.split(',')\n",
        "print(fields)"
      ],
      "execution_count": 0,
      "outputs": []
    },
    {
      "cell_type": "markdown",
      "metadata": {
        "id": "S6-l99fx4iJe",
        "colab_type": "text"
      },
      "source": [
        "The `join()` method can be thought of as the inverse of the `split()` method; it takes a list of strings, and joins them into a single string separated by the given character. It has a somewhat unintuitive syntax though:"
      ]
    },
    {
      "cell_type": "code",
      "metadata": {
        "id": "5t9NMECT4iJf",
        "colab_type": "code",
        "colab": {}
      },
      "source": [
        "'|'.join(fields)"
      ],
      "execution_count": 0,
      "outputs": []
    },
    {
      "cell_type": "markdown",
      "metadata": {
        "id": "3lTTTGdT4iJg",
        "colab_type": "text"
      },
      "source": [
        "Often when dealing with reading from files, it's desirable to strip whitespace from the ends of a string. Whitespace includes spaces, tabs, and newline characters (`'\\n'` in Python). The `strip()` convenience method makes this task easy:"
      ]
    },
    {
      "cell_type": "code",
      "metadata": {
        "id": "0cd-p8cN4iJh",
        "colab_type": "code",
        "colab": {}
      },
      "source": [
        "read_string = '    this could come from a file\\n'\n",
        "print(read_string)"
      ],
      "execution_count": 0,
      "outputs": []
    },
    {
      "cell_type": "code",
      "metadata": {
        "id": "1gA2leH74iJi",
        "colab_type": "code",
        "colab": {}
      },
      "source": [
        "stripped_string = read_string.strip()\n",
        "print(stripped_string)"
      ],
      "execution_count": 0,
      "outputs": []
    },
    {
      "cell_type": "markdown",
      "metadata": {
        "id": "gb_igG8F4iJk",
        "colab_type": "text"
      },
      "source": [
        "### Reading text files\n",
        "\n",
        "A lot of the common tasks for reading and writing text files boil down to string operations. To open a file for reading, we can use the `open()` builtin function. The `open()` function returns a file handle, which can be `read()` to retrieve the contents as a string.\n",
        "\n",
        "The `open()` function can be used as a \"context manager\" so that the file handle is automatically closed when we leave the indented block. Context managers are indicated by the `with` keyword.\n",
        "\n",
        "In the Homeworks folder for this assignment on Canvas, you will find the 'employees.tsv' file you will need to download for the next portion of this assignment. \n",
        "\n",
        "**Note:** If you are using Google Colab, you can upload the file to this notebook by expanding the left-side menu, and then dragging a file into space marked \"Files\"\n",
        "If you are using Juypter Notebook, ensure the 'employees.tsv' file is in the same folder as the .ipynb file for this assignment\n"
      ]
    },
    {
      "cell_type": "code",
      "metadata": {
        "id": "V0QiRvcl4iJk",
        "colab_type": "code",
        "colab": {}
      },
      "source": [
        "with open('employees.tsv') as f_in:\n",
        "    file_contents = f_in.read()\n",
        "\n",
        "file_contents"
      ],
      "execution_count": 0,
      "outputs": []
    },
    {
      "cell_type": "markdown",
      "metadata": {
        "id": "mIEK7N7H4iJm",
        "colab_type": "text"
      },
      "source": [
        "Note that the more complex strings often encountered in files act differently in Jupyter Notebook whether they are `print()`ed or just executed by themselves:"
      ]
    },
    {
      "cell_type": "code",
      "metadata": {
        "id": "_ArKeX1y4iJm",
        "colab_type": "code",
        "colab": {}
      },
      "source": [
        "print(file_contents)"
      ],
      "execution_count": 0,
      "outputs": []
    },
    {
      "cell_type": "markdown",
      "metadata": {
        "id": "FVWwOPCU4iJp",
        "colab_type": "text"
      },
      "source": [
        "As the `.tsv` file extension hints at, this file is a tab-separated values file. Think of it like an Excel spreadsheet; each line is a row, and the cells are delimited by tab characters. Like many spreadsheets, we can see that the first row has labels for the columns."
      ]
    },
    {
      "cell_type": "markdown",
      "metadata": {
        "id": "l9GjjBi34iJp",
        "colab_type": "text"
      },
      "source": [
        "## <font color='red'>EXERCISE 1.1</font>\n",
        "Read the `employees.tsv` file in this directory and get a list of the column names. Assign this list to a variable named `column_names`. Don't reuse the `file_contents` variable from above, do the file reading yourself."
      ]
    },
    {
      "cell_type": "code",
      "metadata": {
        "id": "nnoxKZu94iJq",
        "colab_type": "code",
        "colab": {}
      },
      "source": [
        ""
      ],
      "execution_count": 0,
      "outputs": []
    },
    {
      "cell_type": "code",
      "metadata": {
        "id": "NDWbiL9G4iJs",
        "colab_type": "code",
        "colab": {}
      },
      "source": [
        "assert tuple(column_names) == (\n",
        "    'NAME',\n",
        "    'JOB TITLE',\n",
        "    'DEPARTMENT',\n",
        "    'EMPLOYEE ANNUAL SALARY',\n",
        "    'ESTIMATED ANNUAL SALARY MINUS FURLOUGHS',\n",
        ")"
      ],
      "execution_count": 0,
      "outputs": []
    },
    {
      "cell_type": "markdown",
      "metadata": {
        "id": "mhxOuDEh4iJt",
        "colab_type": "text"
      },
      "source": [
        "The use-case of iterating through the lines of a file is so common that file handles can be used as iterators in order to process a file one line at a time:"
      ]
    },
    {
      "cell_type": "code",
      "metadata": {
        "id": "hRlOZ2eQ4iJu",
        "colab_type": "code",
        "colab": {
          "base_uri": "https://localhost:8080/",
          "height": 319
        },
        "outputId": "5190f3d8-3660-4e6d-b625-c1957548cdde"
      },
      "source": [
        "for line in open('employees.tsv'):\n",
        "    print('Here is the next line')\n",
        "    print(line)"
      ],
      "execution_count": 1,
      "outputs": [
        {
          "output_type": "stream",
          "text": [
            "Here is the next line\n",
            "NAME\tJOB TITLE\tDEPARTMENT\tEMPLOYEE ANNUAL SALARY\tESTIMATED ANNUAL SALARY MINUS FURLOUGHS\n",
            "\n",
            "Here is the next line\n",
            "BATEMAN,  KELLY ANNE\tDEPUTY CHIEF ADMINISTRATIVE OFFICER\tBOARD OF ELECTION\t$118404.00\t$107516.00\n",
            "\n",
            "Here is the next line\n",
            "CREMINS,  KEVIN M\tFIREFIGHTER\tFIRE\t$77238.00\t$77238.00\n",
            "\n",
            "Here is the next line\n",
            "DAVIS,  CRAIG W\tPOLICE OFFICER\tPOLICE\t$77238.00\t$77238.00\n",
            "\n",
            "Here is the next line\n",
            "MORENO,  JOSE\tCAPTAIN-EMT\tFIRE\t$120228.00\t$120228.00\n",
            "\n",
            "Here is the next line\n",
            "URSETTA,  ROSARIO\tSUPERVISING TRAFFIC CONTROL AIDE\tOEMC\t$51216.00\t$49057.00\n",
            "\n"
          ],
          "name": "stdout"
        }
      ]
    },
    {
      "cell_type": "markdown",
      "metadata": {
        "id": "POdRsSO24iJv",
        "colab_type": "text"
      },
      "source": [
        "Notice the newline characters in the above block. Eliminating those is a primary use-case for the `strip()` method."
      ]
    },
    {
      "cell_type": "markdown",
      "metadata": {
        "id": "MJ0wCcQT4iJv",
        "colab_type": "text"
      },
      "source": [
        "## <font color='red'>EXERCISE 1.2</font>\n",
        "Recall that lists are used when you have a homogeneous collection of things, and tuples are used for heterogeneous collections. In the case of the Employees \"spreadsheet\" we're working with, the spreadsheet rows are all the same \"type\", a record, while each row is a heterogeneous collection of name, title, etc., and the column number is what defines the cell type, e.g. the first column contains names, the second contains job titles, etc.\n",
        "\n",
        "With that in mind, open the `employees.tsv` file and parse it, returning a list of tuples, with each tuple containing one row's worth of data. Remember to take care of the trailing newlines. Assign this list to a variable named `employee_table`."
      ]
    },
    {
      "cell_type": "code",
      "metadata": {
        "id": "fQ9efpw04iJw",
        "colab_type": "code",
        "colab": {}
      },
      "source": [
        ""
      ],
      "execution_count": 0,
      "outputs": []
    },
    {
      "cell_type": "code",
      "metadata": {
        "id": "O7OTzEQH4iJx",
        "colab_type": "code",
        "colab": {}
      },
      "source": [
        "# There should be five records, six if you keep the header row\n",
        "assert 5 <= len(employee_table) <= 6\n",
        "# The rows should be contained in a list\n",
        "assert isinstance(employee_table, list)\n",
        "# Each row should be a tuple\n",
        "assert all(isinstance(r, tuple) for r in employee_table)\n",
        "# The last character of the last field should not be a newline in any employee record\n",
        "assert not any(r[-1][-1] == '\\n' for r in employee_table)"
      ],
      "execution_count": 0,
      "outputs": []
    },
    {
      "cell_type": "markdown",
      "metadata": {
        "id": "aX_XOpIt4iJz",
        "colab_type": "text"
      },
      "source": [
        "#### A caveat\n",
        "\n",
        "Be careful when manually splitting file contents by newlines. Often text files (especially on UNIX-based OSes) will end with a newline character. In this case, the last item of the split list will be a blank string."
      ]
    },
    {
      "cell_type": "code",
      "metadata": {
        "id": "6LDxO7Oo4iJz",
        "colab_type": "code",
        "colab": {}
      },
      "source": [
        "open('employees.tsv').read().split('\\n')[-1]"
      ],
      "execution_count": 0,
      "outputs": []
    },
    {
      "cell_type": "markdown",
      "metadata": {
        "id": "eqc7Zc3S4iJ0",
        "colab_type": "text"
      },
      "source": [
        "You can make sure a line is not blank with \n",
        "```\n",
        "if line:\n",
        "```\n",
        "since a blank string is evaluated as False:"
      ]
    },
    {
      "cell_type": "code",
      "metadata": {
        "id": "VYjgq5754iJ1",
        "colab_type": "code",
        "colab": {}
      },
      "source": [
        "bool('') == False"
      ],
      "execution_count": 0,
      "outputs": []
    },
    {
      "cell_type": "markdown",
      "metadata": {
        "id": "2fd_RAnz4iJ2",
        "colab_type": "text"
      },
      "source": [
        "### String formatting"
      ]
    },
    {
      "cell_type": "markdown",
      "metadata": {
        "id": "Mmsr4C8K4iJ3",
        "colab_type": "text"
      },
      "source": [
        "String formatting, or string interpolation, is used to to take a string \"template\" and insert the variables into the string. This very often comes up when displaying data read from a database. Python's `format()` method is very powerful, and this is the bare minimum, but here's the gist:"
      ]
    },
    {
      "cell_type": "code",
      "metadata": {
        "id": "hPkMgRXP4iJ3",
        "colab_type": "code",
        "colab": {}
      },
      "source": [
        "person = ('Rob', 21)\n",
        "\n",
        "# Implicit positional arguments\n",
        "print( '{} is {} years old'.format(person[0], person[1]) )\n",
        "\n",
        "# Explicit positional arguments\n",
        "template = '{1} years ago, {0} was born. Yes {1} years old!'\n",
        "print( template.format(person[0], person[1]) )\n",
        "\n",
        "# Named arguments\n",
        "template = '{age} years ago, {name} was born. Yes {age} years old!'\n",
        "print(template.format(name=person[0], age=person[1]) )"
      ],
      "execution_count": 0,
      "outputs": []
    },
    {
      "cell_type": "markdown",
      "metadata": {
        "id": "Q48mi0Ai4iJ5",
        "colab_type": "text"
      },
      "source": [
        "## <font color='red'>EXERCISE 1.3.1</font>\n",
        "Get the data from the `employees.tsv` file. This time you may use the `employee_table` you defined in the previous exercise. Skipping over the header row, use string formatting with implicit or explicit positional arguments in order to print each row's data in English, e.g.\n",
        "```\n",
        "LUKE SKYWALKER is a NERF HERDER in the MAINTENANCE department, making $14,021 per year\n",
        "...\n",
        "```"
      ]
    },
    {
      "cell_type": "code",
      "metadata": {
        "id": "Bd4m5w6j4iJ6",
        "colab_type": "code",
        "colab": {}
      },
      "source": [
        ""
      ],
      "execution_count": 0,
      "outputs": []
    },
    {
      "cell_type": "markdown",
      "metadata": {
        "id": "EGkLsXHA4iJ8",
        "colab_type": "text"
      },
      "source": [
        "## <font color='red'>EXERCISE 1.3.2</font>\n",
        "Repeat the above exercise using the named argument form of string formatting."
      ]
    },
    {
      "cell_type": "code",
      "metadata": {
        "collapsed": true,
        "id": "xe3QriVt4iJ9",
        "colab_type": "code",
        "colab": {}
      },
      "source": [
        ""
      ],
      "execution_count": 0,
      "outputs": []
    },
    {
      "cell_type": "markdown",
      "metadata": {
        "id": "MvU88vvX4iJ_",
        "colab_type": "text"
      },
      "source": [
        "### Writing text files\n",
        "\n",
        "Writing text files is similar to reading but in reverse. Where we would use `read()`, we now use `write()`; `split()` is replaced with `join()`; and we use an `open()` function with an additional argument to specify that we want to open a file for writing."
      ]
    },
    {
      "cell_type": "code",
      "metadata": {
        "id": "aVNajndW4iJ_",
        "colab_type": "code",
        "colab": {}
      },
      "source": [
        "lines = ['line 1', 'line 2', 'line 3']\n",
        "file_contents = '\\n'.join(lines)\n",
        "with open('test.txt', 'w') as f_out:\n",
        "    f_out.write(file_contents)"
      ],
      "execution_count": 0,
      "outputs": []
    },
    {
      "cell_type": "code",
      "metadata": {
        "id": "gAYrzT9l4iKA",
        "colab_type": "code",
        "colab": {}
      },
      "source": [
        "# Statements beginning with a % are called Jupyter \"magic\".\n",
        "# They are not valid Python, but are instead commands for Jupyter\n",
        "# to handle before passing them to the Python kernel\n",
        "%cat test.txt"
      ],
      "execution_count": 0,
      "outputs": []
    },
    {
      "cell_type": "markdown",
      "metadata": {
        "id": "y7NFGh_94iKC",
        "colab_type": "text"
      },
      "source": [
        "## <font color='red'>EXERCISE 1.4</font>\n",
        "Your boss only wants a list of the employee names and estimated annual salary. First generate a list of tuples containing only these data, along with the header giving the column names. Then write this data out to a tab-separated file called `employee_salaries.tsv`"
      ]
    },
    {
      "cell_type": "code",
      "metadata": {
        "id": "k3bE_ix64iKD",
        "colab_type": "code",
        "colab": {}
      },
      "source": [
        ""
      ],
      "execution_count": 0,
      "outputs": []
    },
    {
      "cell_type": "code",
      "metadata": {
        "id": "hNEDWU6e4iKE",
        "colab_type": "code",
        "colab": {}
      },
      "source": [
        "assert open('employee_salaries.tsv').read() == 'NAME\\tEMPLOYEE ANNUAL SALARY\\nBATEMAN,  KELLY ANNE\\t$118404.00\\nCREMINS,  KEVIN M\\t$77238.00\\nDAVIS,  CRAIG W\\t$77238.00\\nMORENO,  JOSE\\t$120228.00\\nURSETTA,  ROSARIO\\t$51216.00'"
      ],
      "execution_count": 0,
      "outputs": []
    },
    {
      "cell_type": "markdown",
      "metadata": {
        "id": "EMd7gPYA4iKG",
        "colab_type": "text"
      },
      "source": [
        "## 2. Dictionaries"
      ]
    },
    {
      "cell_type": "markdown",
      "metadata": {
        "id": "eB6oM-7R4iKG",
        "colab_type": "text"
      },
      "source": [
        "A dictionary (`dict`) can be used to store associations or relations between different entities (person and age, name and alias, person and friends' names etc.). Dict items are specified as **key**:**value** pairs within **curly brackets**. Instead of accessing dictionary values by their index, we use the **key**. As always, values are accessed using **square brackets**."
      ]
    },
    {
      "cell_type": "code",
      "metadata": {
        "id": "MYcZopbM4iKG",
        "colab_type": "code",
        "colab": {}
      },
      "source": [
        "age_data = {'Jerry' : 23, 'Martha' : 21}\n",
        "\n",
        "age_data['Jerry']  # retrieve Jerry's age"
      ],
      "execution_count": 0,
      "outputs": []
    },
    {
      "cell_type": "markdown",
      "metadata": {
        "id": "_pHsdFyE4iKI",
        "colab_type": "text"
      },
      "source": [
        "### Inclusion tests"
      ]
    },
    {
      "cell_type": "code",
      "metadata": {
        "id": "MrXVu39h4iKI",
        "colab_type": "code",
        "colab": {}
      },
      "source": [
        "'Jerry' in age_data"
      ],
      "execution_count": 0,
      "outputs": []
    },
    {
      "cell_type": "code",
      "metadata": {
        "id": "Vu4VdaEk4iKJ",
        "colab_type": "code",
        "colab": {}
      },
      "source": [
        "'Mickey' in age_data"
      ],
      "execution_count": 0,
      "outputs": []
    },
    {
      "cell_type": "code",
      "metadata": {
        "id": "I3vMt_NF4iKL",
        "colab_type": "code",
        "colab": {}
      },
      "source": [
        "age_data['Mickey']"
      ],
      "execution_count": 0,
      "outputs": []
    },
    {
      "cell_type": "markdown",
      "metadata": {
        "id": "5d2tybP64iKM",
        "colab_type": "text"
      },
      "source": [
        "### Looping over dicts"
      ]
    },
    {
      "cell_type": "markdown",
      "metadata": {
        "id": "RXxtEjR34iKM",
        "colab_type": "text"
      },
      "source": [
        "Since we check for key membership with the `in` keyword, which is associated with sequences (lists, tuples, strings), it makes sense that `list(age_data)` gives us the keys in `age_data`:"
      ]
    },
    {
      "cell_type": "code",
      "metadata": {
        "id": "zBTIGc044iKM",
        "colab_type": "code",
        "colab": {}
      },
      "source": [
        "list(age_data)"
      ],
      "execution_count": 0,
      "outputs": []
    },
    {
      "cell_type": "markdown",
      "metadata": {
        "id": "Q87ARbIn4iKO",
        "colab_type": "text"
      },
      "source": [
        "The above is \"syntactic sugar\" for the following:"
      ]
    },
    {
      "cell_type": "code",
      "metadata": {
        "id": "WWMtiJuN4iKO",
        "colab_type": "code",
        "colab": {}
      },
      "source": [
        "list(age_data.keys())"
      ],
      "execution_count": 0,
      "outputs": []
    },
    {
      "cell_type": "markdown",
      "metadata": {
        "id": "02oLhWcs4iKP",
        "colab_type": "text"
      },
      "source": [
        "With a sequence of keys in hand, we have one way to loop over a dict:"
      ]
    },
    {
      "cell_type": "code",
      "metadata": {
        "id": "y30-zy-94iKP",
        "colab_type": "code",
        "colab": {}
      },
      "source": [
        "for name in age_data:\n",
        "    years = age_data[name]\n",
        "    msg = '{} is {} years old'.format(name, years)\n",
        "    print(msg)"
      ],
      "execution_count": 0,
      "outputs": []
    },
    {
      "cell_type": "markdown",
      "metadata": {
        "id": "KAqB9GJ24iKR",
        "colab_type": "text"
      },
      "source": [
        "The `.items()` method gives us another way:"
      ]
    },
    {
      "cell_type": "code",
      "metadata": {
        "id": "Iw8h9-Rq4iKS",
        "colab_type": "code",
        "colab": {}
      },
      "source": [
        "list(age_data.items())"
      ],
      "execution_count": 0,
      "outputs": []
    },
    {
      "cell_type": "code",
      "metadata": {
        "id": "guoWW7-m4iKT",
        "colab_type": "code",
        "colab": {}
      },
      "source": [
        "for name, years in age_data.items():\n",
        "    msg = '{} is {} years old'.format(name, years)\n",
        "    print(msg)"
      ],
      "execution_count": 0,
      "outputs": []
    },
    {
      "cell_type": "markdown",
      "metadata": {
        "id": "HxMpJzHe4iKZ",
        "colab_type": "text"
      },
      "source": [
        "### Mutable values"
      ]
    },
    {
      "cell_type": "markdown",
      "metadata": {
        "id": "hRwXF4Pa4iKa",
        "colab_type": "text"
      },
      "source": [
        "The keys of a dict must be an immutable object e.g. string, number, or tuple.\n",
        "\n",
        "The values of a dict can be anything, including lists:"
      ]
    },
    {
      "cell_type": "code",
      "metadata": {
        "id": "bi7yHNfH4iKa",
        "colab_type": "code",
        "colab": {}
      },
      "source": [
        "friends = {\n",
        "    'Jerry': [\n",
        "        'Alice',\n",
        "        'Bob',\n",
        "    ],\n",
        "    'Martha': [\n",
        "        'Bob',\n",
        "        'Carol',\n",
        "    ],\n",
        "}\n",
        "\n",
        "print( friends['Martha'] )\n",
        "print( friends['Martha'][1] )"
      ],
      "execution_count": 0,
      "outputs": []
    },
    {
      "cell_type": "markdown",
      "metadata": {
        "id": "MpaY1YNu4iKb",
        "colab_type": "text"
      },
      "source": [
        "and mutable values in dicts can be changed."
      ]
    },
    {
      "cell_type": "code",
      "metadata": {
        "id": "FTaCEwne4iKb",
        "colab_type": "code",
        "colab": {}
      },
      "source": [
        "friends['Martha'].append('Daniel')\n",
        "print( friends['Martha'] )"
      ],
      "execution_count": 0,
      "outputs": []
    },
    {
      "cell_type": "markdown",
      "metadata": {
        "id": "SMV1XVUr4iKd",
        "colab_type": "text"
      },
      "source": [
        "Note that the above can be used to define a network. The dict keys are the node names and the dict values contain the node neighbors. Of course additional work would need to be done in the case of undirected networks, but this is the foundation of the NetworkX package that we will use in this course."
      ]
    },
    {
      "cell_type": "markdown",
      "metadata": {
        "id": "m2ECzJ7P4iKe",
        "colab_type": "text"
      },
      "source": [
        "### \"Concatenation\""
      ]
    },
    {
      "cell_type": "markdown",
      "metadata": {
        "id": "cynRvW6-4iKe",
        "colab_type": "text"
      },
      "source": [
        "To revisit a theme from Python Basics, can we combine two dicts somehow? Indeed we can, using the `.update()` method:"
      ]
    },
    {
      "cell_type": "code",
      "metadata": {
        "id": "kWlR7Ydt4iKf",
        "colab_type": "code",
        "colab": {}
      },
      "source": [
        "age_data = {'Jerry' : 23, 'Martha' : 21}\n",
        "new_age_data = {'Alice': 21, 'Bob': 25, 'Martha': 29}\n",
        "\n",
        "age_data.update(new_age_data)\n",
        "age_data"
      ],
      "execution_count": 0,
      "outputs": []
    },
    {
      "cell_type": "markdown",
      "metadata": {
        "id": "6V-74zPM4iKh",
        "colab_type": "text"
      },
      "source": [
        "Note that values are overwritten for items that exist in the dict being updated (Martha in this example).\n",
        "\n",
        "Unfortunately, the `+` operator does not work for dicts ☹"
      ]
    },
    {
      "cell_type": "code",
      "metadata": {
        "id": "HnSa4Mza4iKi",
        "colab_type": "code",
        "colab": {}
      },
      "source": [
        "# Raises an error\n",
        "age_data + new_age_data"
      ],
      "execution_count": 0,
      "outputs": []
    },
    {
      "cell_type": "markdown",
      "metadata": {
        "id": "_JjDRuy64iKk",
        "colab_type": "text"
      },
      "source": [
        "## <font color='red'>EXERCISE 2.1.1 </font>\n",
        "A bored (and inaccurate) spy satellite makes a record of your vacation trail. Below are a few entries in its cloud storage: <br/>\n",
        "Day 1: Paris, Lat = 99, Long = 100 <br/>\n",
        "Day 4: Prague, Lat = 99, Long = 90 <br/>\n",
        "Day 6: Zurich, Lat = 90, Long = 90 <br/>\n",
        "Day 10: Moscow, Lat = 80, Long = 70 <br/>\n",
        "\n",
        "Store the above information in a dictionary. Choose an appropriate key. Using a loop, produce a list of just the names of places visited after Day 2 and located above 85 latitude. Name this list `matching_place_names`."
      ]
    },
    {
      "cell_type": "code",
      "metadata": {
        "id": "wnfZCLJG4iKk",
        "colab_type": "code",
        "colab": {}
      },
      "source": [
        ""
      ],
      "execution_count": 0,
      "outputs": []
    },
    {
      "cell_type": "code",
      "metadata": {
        "id": "g-Bz7ger4iKl",
        "colab_type": "code",
        "colab": {}
      },
      "source": [
        "assert set(matching_place_names) == {'Prague', 'Zurich'}"
      ],
      "execution_count": 0,
      "outputs": []
    },
    {
      "cell_type": "markdown",
      "metadata": {
        "id": "IzKt4DGm4iKm",
        "colab_type": "text"
      },
      "source": [
        "This task of taking a list of things, filtering it on some condition, then extracting a value from the filtered items, is an extremely common one in data computing.\n",
        "\n",
        "In the employee data example/exercise from the previous section, we obtained our data as a list of tuples, with each tuple representing one person's data as a \"row\". While very space-efficient, this index-based data format gets tricky to work with once you have several columns. A different way to work with that type of tabular data is for each row to be represented as a dict with the column names as keys and the data as values:\n",
        "```\n",
        "employee_records = [\n",
        "    {\n",
        "        'name': 'BATEMAN,  KELLY ANNE',\n",
        "        'job_title': 'DEPUTY CHIEF ADMINISTRATIVE OFFICER',\n",
        "        ...\n",
        "    },\n",
        "    ...\n",
        "]\n",
        "```"
      ]
    },
    {
      "cell_type": "markdown",
      "metadata": {
        "id": "y3ZpDg254iKn",
        "colab_type": "text"
      },
      "source": [
        "## <font color='red'>EXERCISE 2.1.2 </font>\n",
        "Repeat the previous exercise 2.1.2, but instead store the initial data as a list of dicts."
      ]
    },
    {
      "cell_type": "code",
      "metadata": {
        "id": "5zD_lw9Y4iKn",
        "colab_type": "code",
        "colab": {}
      },
      "source": [
        ""
      ],
      "execution_count": 0,
      "outputs": []
    },
    {
      "cell_type": "code",
      "metadata": {
        "id": "_H9_ckHc4iKp",
        "colab_type": "code",
        "colab": {}
      },
      "source": [
        "assert set(matching_place_names) == {'Prague', 'Zurich'}"
      ],
      "execution_count": 0,
      "outputs": []
    },
    {
      "cell_type": "markdown",
      "metadata": {
        "id": "tbFEySl34iKq",
        "colab_type": "text"
      },
      "source": [
        "### Wow, that sucked; `zip()` to the rescue\n",
        "\n",
        "Comparing exercise 2.1.1 and 2.1.2, we see the pros and cons of storing rows as tuples versus dicts. The filtering code is much more expressive and less error-prone when using dicts, but entering the data can be cumbersome. Luckly Python gives us some help. Observe the `zip()` builtin method:"
      ]
    },
    {
      "cell_type": "code",
      "metadata": {
        "id": "wkf0Ddks4iKq",
        "colab_type": "code",
        "colab": {}
      },
      "source": [
        "names = ['Alice', 'Bob', 'Martha']\n",
        "ages = [21, 25, 29]\n",
        "\n",
        "list(zip(names, ages))"
      ],
      "execution_count": 0,
      "outputs": []
    },
    {
      "cell_type": "markdown",
      "metadata": {
        "id": "shecvf974iKr",
        "colab_type": "text"
      },
      "source": [
        "Note that this looks like the output to dict's `.items()` method from above:"
      ]
    },
    {
      "cell_type": "code",
      "metadata": {
        "id": "yjrLwNFl4iKs",
        "colab_type": "code",
        "colab": {}
      },
      "source": [
        "age_data = {'Jerry' : 23, 'Martha' : 21}\n",
        "list(age_data.items())"
      ],
      "execution_count": 0,
      "outputs": []
    },
    {
      "cell_type": "markdown",
      "metadata": {
        "id": "RfTjl72t4iKt",
        "colab_type": "text"
      },
      "source": [
        "The `.items()` method is executed on a dict and returns a list of tuples. One might ask, is there an \"inverse\" to the `.items()` method that takes a list of tuples and returns a dict? Indeed there is, the `dict()` constructor itself:"
      ]
    },
    {
      "cell_type": "code",
      "metadata": {
        "id": "kYopVfYG4iKt",
        "colab_type": "code",
        "colab": {}
      },
      "source": [
        "new_age_data = dict( zip(names, ages) )\n",
        "new_age_data"
      ],
      "execution_count": 0,
      "outputs": []
    },
    {
      "cell_type": "markdown",
      "metadata": {
        "id": "hATex7Sn4iKu",
        "colab_type": "text"
      },
      "source": [
        "## <font color='red'>EXERCISE 2.2 </font>\n",
        "Parse the `employees.tsv` file again, but this time store the data as a list of dicts. For the key names, transform the column names into snake_case, i.e. all lowercase with underscores instead of spaces. Use the `zip()` method to construct the dicts. Store this data again as `employee_table`.\n",
        "\n",
        "Feel free to copy-paste your previous parsing code to get you started here."
      ]
    },
    {
      "cell_type": "code",
      "metadata": {
        "id": "3v5nrjQl4iKu",
        "colab_type": "code",
        "colab": {}
      },
      "source": [
        ""
      ],
      "execution_count": 0,
      "outputs": []
    },
    {
      "cell_type": "code",
      "metadata": {
        "id": "rvU72yRN4iKv",
        "colab_type": "code",
        "colab": {}
      },
      "source": [
        "assert isinstance(employee_records, list)\n",
        "assert all(isinstance(r, dict) for r in employee_records)\n",
        "assert len(employee_records) == 5"
      ],
      "execution_count": 0,
      "outputs": []
    },
    {
      "cell_type": "markdown",
      "metadata": {
        "id": "w4itcdo94iKw",
        "colab_type": "text"
      },
      "source": [
        "### Dict I/O with JSON"
      ]
    },
    {
      "cell_type": "markdown",
      "metadata": {
        "id": "9dzYFhtZ4iKx",
        "colab_type": "text"
      },
      "source": [
        "We went over using delimited files to store tabular data, but there is also another, more flexible solution: JSON, which stands for JavaScript Object Notation. If your data consists of strings, numbers, dicts, and lists/tuples, then it can be stored as json."
      ]
    },
    {
      "cell_type": "code",
      "metadata": {
        "collapsed": true,
        "id": "a9FlTSm34iKx",
        "colab_type": "code",
        "colab": {}
      },
      "source": [
        "# Import statements are normally done just once, at the top of the file\n",
        "import json"
      ],
      "execution_count": 0,
      "outputs": []
    },
    {
      "cell_type": "markdown",
      "metadata": {
        "id": "pWq2Ua5y4iKy",
        "colab_type": "text"
      },
      "source": [
        "`json.dump()` is used to write the data to a file:"
      ]
    },
    {
      "cell_type": "code",
      "metadata": {
        "collapsed": true,
        "id": "jaXFuV8g4iKy",
        "colab_type": "code",
        "colab": {}
      },
      "source": [
        "json.dump(employee_records, open('employees.json', 'w'))"
      ],
      "execution_count": 0,
      "outputs": []
    },
    {
      "cell_type": "code",
      "metadata": {
        "id": "hNr6yZYj4iKz",
        "colab_type": "code",
        "colab": {}
      },
      "source": [
        "%cat employees.json"
      ],
      "execution_count": 0,
      "outputs": []
    },
    {
      "cell_type": "markdown",
      "metadata": {
        "id": "rXXFjDB14iK0",
        "colab_type": "text"
      },
      "source": [
        "and `json.load()` is used to read a json file into a Python object:"
      ]
    },
    {
      "cell_type": "code",
      "metadata": {
        "id": "KPdJCsXk4iK0",
        "colab_type": "code",
        "colab": {}
      },
      "source": [
        "json_data = json.load(open('employees.json'))\n",
        "json_data"
      ],
      "execution_count": 0,
      "outputs": []
    },
    {
      "cell_type": "markdown",
      "metadata": {
        "id": "oY8tW82q4iK2",
        "colab_type": "text"
      },
      "source": [
        "## <font color='red'>EXERCISE 2.3.1</font>\n",
        "\n",
        "The file `'nato.txt'` contains the\n",
        "[NATO phonetic alphabet](https://en.wikipedia.org/wiki/NATO_phonetic_alphabet),\n",
        "one item per line:\n",
        "```\n",
        "Alpha\n",
        "Bravo\n",
        "Charlie\n",
        "Delta\n",
        "...\n",
        "```\n",
        "Create a lookup table for the NATO phonetic alphabet. Store it in a dict named `nato`. The key should be the first letter of each item in the list."
      ]
    },
    {
      "cell_type": "code",
      "metadata": {
        "collapsed": true,
        "id": "n2kQ1r7F4iK2",
        "colab_type": "code",
        "colab": {}
      },
      "source": [
        ""
      ],
      "execution_count": 0,
      "outputs": []
    },
    {
      "cell_type": "code",
      "metadata": {
        "id": "w7DNIc964iK3",
        "colab_type": "code",
        "colab": {}
      },
      "source": [
        "assert 'Zulu' == (nato.get('z') or nato.get('Z'))\n",
        "assert len(nato) == 26"
      ],
      "execution_count": 0,
      "outputs": []
    },
    {
      "cell_type": "markdown",
      "metadata": {
        "id": "uQ_rE46y4iK4",
        "colab_type": "text"
      },
      "source": [
        "## <font color='red'>EXERCISE 2.3.2</font>\n",
        "\n",
        "Write a function `phonetic()` that translates a word or short sentence into the NATO phonetic alphabet. Your function should return a space-separated string. Ignore spaces and capitalization, but don't worry about punctuation. Use the table from the previous problem."
      ]
    },
    {
      "cell_type": "code",
      "metadata": {
        "collapsed": true,
        "id": "F8-OwwN-4iK4",
        "colab_type": "code",
        "colab": {}
      },
      "source": [
        ""
      ],
      "execution_count": 0,
      "outputs": []
    },
    {
      "cell_type": "code",
      "metadata": {
        "collapsed": true,
        "id": "8J2bLZxo4iK5",
        "colab_type": "code",
        "colab": {}
      },
      "source": [
        "assert phonetic('Hello World') == 'Hotel Echo Lima Lima Oscar Whiskey Oscar Romeo Lima Delta'"
      ],
      "execution_count": 0,
      "outputs": []
    },
    {
      "cell_type": "markdown",
      "metadata": {
        "id": "gTu4p9Of4iK6",
        "colab_type": "text"
      },
      "source": [
        "## 3. List comprehensions and generator expressions"
      ]
    },
    {
      "cell_type": "markdown",
      "metadata": {
        "id": "3XLCNLSw4iK6",
        "colab_type": "text"
      },
      "source": [
        "Often we have one sequence of values and we want to generate a new sequence by applying an operation to each item in the first. List comprehensions and generator expressions are compact ways to do this.\n",
        "\n",
        "List comprehensions are specified inside square brackets, and immediately produce a list of the result."
      ]
    },
    {
      "cell_type": "code",
      "metadata": {
        "id": "B3jPgEB_4iK7",
        "colab_type": "code",
        "colab": {}
      },
      "source": [
        "items = ['spider', 'y', 'banana']\n",
        "[item.upper() for item in items]"
      ],
      "execution_count": 0,
      "outputs": []
    },
    {
      "cell_type": "code",
      "metadata": {
        "id": "jnNktSm44iK9",
        "colab_type": "code",
        "colab": {}
      },
      "source": [
        "[len(item) for item in items]"
      ],
      "execution_count": 0,
      "outputs": []
    },
    {
      "cell_type": "markdown",
      "metadata": {
        "id": "KKdG1Ckf4iK9",
        "colab_type": "text"
      },
      "source": [
        "Generator expressions are slightly different as they are evaluated 'lazily.' These are specified using round braces, and if they are beiing expressed as a function argument, they can be specified without any braces. These are most often used in the context of aggregations:"
      ]
    },
    {
      "cell_type": "code",
      "metadata": {
        "id": "-NmUaWbj4iK-",
        "colab_type": "code",
        "colab": {}
      },
      "source": [
        "max(len(item) for item in items)"
      ],
      "execution_count": 0,
      "outputs": []
    },
    {
      "cell_type": "code",
      "metadata": {
        "id": "_LtjwP4C4iK_",
        "colab_type": "code",
        "colab": {}
      },
      "source": [
        "sorted(item.upper() for item in items)"
      ],
      "execution_count": 0,
      "outputs": []
    },
    {
      "cell_type": "markdown",
      "metadata": {
        "id": "W0dWyXc04iK_",
        "colab_type": "text"
      },
      "source": [
        "## <font color='red'>EXERCISE 3.1</font>\n",
        "\n",
        "Assign the list `[3, 9, 12, 15]` to a variable. Use a list comprehension to store the square of each of these numbers in a variable named `squares`."
      ]
    },
    {
      "cell_type": "code",
      "metadata": {
        "id": "SmAPR22e4iLA",
        "colab_type": "code",
        "colab": {}
      },
      "source": [
        ""
      ],
      "execution_count": 0,
      "outputs": []
    },
    {
      "cell_type": "code",
      "metadata": {
        "collapsed": true,
        "id": "Tn2b1bLD4iLB",
        "colab_type": "code",
        "colab": {}
      },
      "source": [
        "assert squares == [9, 81, 144, 225]"
      ],
      "execution_count": 0,
      "outputs": []
    },
    {
      "cell_type": "markdown",
      "metadata": {
        "id": "e3ATNwcO4iLC",
        "colab_type": "text"
      },
      "source": [
        "## 4. Application: Histograms\n",
        "\n",
        "Often when we want to get a sense of some data we use summary statistics like mean, median, mode, max, min, and maybe standard deviation. A generalization of these quantities is to look at the entire distribution, and a graphical way to do that is with the Histogram.\n",
        "\n",
        "## Discrete vs continuous variables\n",
        "\n",
        "Consider the process of rolling a six-sided die. Every \"measurement\" will result in one of exactly six different values. Now compare this to the process of measuring the height of everybody in this room. If we can be perfectly precise, each measurement will probably be different. The die roll is an example of a discrete variable, whereas height would be considered to be continuous.\n",
        "\n",
        "## Discrete variables: dice\n",
        "Let's work with the discrete case illustrated in the example: die rolling. Rolling a die of N sides can be thought of as randomly choosing a number between 1 and N. We can simulate a die roll using Python's `random` module:"
      ]
    },
    {
      "cell_type": "code",
      "metadata": {
        "id": "IyK7BAtc4iLC",
        "colab_type": "code",
        "colab": {}
      },
      "source": [
        "import random"
      ],
      "execution_count": 0,
      "outputs": []
    },
    {
      "cell_type": "markdown",
      "metadata": {
        "id": "W_6dKeG64iLD",
        "colab_type": "text"
      },
      "source": [
        "`random.randint()` returns a random ineger in range [a, b], including both endpoints (how unpythonic!). Execute the below block a few times and see what happens:\n",
        "\n",
        "*Hint*: Use ctrl + Enter instead of shift + Enter to execute but not move to the next block."
      ]
    },
    {
      "cell_type": "code",
      "metadata": {
        "id": "Co7JNF8D4iLE",
        "colab_type": "code",
        "colab": {}
      },
      "source": [
        "random.randint(1,6)"
      ],
      "execution_count": 0,
      "outputs": []
    },
    {
      "cell_type": "markdown",
      "metadata": {
        "id": "aseH7n7_4iLF",
        "colab_type": "text"
      },
      "source": [
        "## <font color='red'>EXERCISE 4.1</font>\n",
        "Write a function `roll_dice()` that takes two arguments in this order: the number of rolls and the number of sides. This function should return a dict with the keys being the possible values for the die, and the values being the number of times that value came up, e.g. for 10 sides and 50 rolls, I might get\n",
        "```\n",
        "{\n",
        "   1: 5,\n",
        "   2: 7,\n",
        "   ...\n",
        "   10: 4,\n",
        "}\n",
        "```\n",
        "Ensure that all possible die rolls have a corresponding key even if there were zero rolls recorded."
      ]
    },
    {
      "cell_type": "code",
      "metadata": {
        "collapsed": true,
        "id": "gWjg4yS64iLF",
        "colab_type": "code",
        "colab": {}
      },
      "source": [
        ""
      ],
      "execution_count": 0,
      "outputs": []
    },
    {
      "cell_type": "code",
      "metadata": {
        "collapsed": true,
        "id": "2auFmJ6l4iLG",
        "colab_type": "code",
        "colab": {}
      },
      "source": [
        "die_rolls = roll_dice(5, 9)\n",
        "assert isinstance(die_rolls, dict)\n",
        "assert len(die_rolls) == 9\n",
        "\n",
        "die_rolls = roll_dice(20, 9)\n",
        "assert len(die_rolls) == 9\n",
        "assert sum(die_rolls.values()) == 20"
      ],
      "execution_count": 0,
      "outputs": []
    },
    {
      "cell_type": "markdown",
      "metadata": {
        "id": "Hh7hWKdp4iLI",
        "colab_type": "text"
      },
      "source": [
        "### Aside: Strings are awesome\n",
        "\n",
        "We know that we can use the `+` operator to concatenate strings, and multiplication is just repeated addition, so is it possible to multiply strings?"
      ]
    },
    {
      "cell_type": "code",
      "metadata": {
        "id": "YSc7M64U4iLI",
        "colab_type": "code",
        "colab": {}
      },
      "source": [
        "'#' * 8"
      ],
      "execution_count": 0,
      "outputs": []
    },
    {
      "cell_type": "markdown",
      "metadata": {
        "id": "fQs3MXe64iLJ",
        "colab_type": "text"
      },
      "source": [
        "Indeed it is!\n",
        "\n",
        "Another common case is when you want a bunch of strings of various lengths to line up, e.g.\n",
        "```\n",
        "Number of whirligigs produced\n",
        "\n",
        "Boston:     42k\n",
        "New York:   124k\n",
        "Washington: 35k\n",
        "```\n",
        "\n",
        "Python provides the `ljust` and `rjust` string methods for this task. Just specify the length of the string you want:"
      ]
    },
    {
      "cell_type": "code",
      "metadata": {
        "id": "6-7aJbHQ4iLJ",
        "colab_type": "code",
        "colab": {}
      },
      "source": [
        "padded = 'twelve'.rjust(12)\n",
        "print(len(padded))\n",
        "padded"
      ],
      "execution_count": 0,
      "outputs": []
    },
    {
      "cell_type": "markdown",
      "metadata": {
        "id": "10jwItfE4iLK",
        "colab_type": "text"
      },
      "source": [
        "## <font color='red'>EXERCISE 4.2</font>\n",
        "Let's make a histogram. Write a function `text_histogram()` that accepts a one argument, a dict with integer values, and returns a string. For each key-value pair in the input dict, the output string should have a line containing the key, a colon character '`:`', and a number of hashmarks corresponding to the key's associated value. These lines must be in numeric/lexicographic order by their key. \n",
        "\n",
        "Once you have that working, make sure the start of the hashmarks is consistent for each line. Make sure this function works with the `roll_dice()` function from the previous exercise, and that the label justification works for dice with >10 sides.\n",
        "\n",
        "Example:\n",
        "```\n",
        "In [ ]:  histogram = text_histogram({'apple': 2, 'cat': 3, 'banana': 2})\n",
        "         print(histogram)\n",
        "Out[ ]:  apple : ##\n",
        "         banana: ##\n",
        "         cat   : ###\n",
        "```\n",
        "\n",
        "Hint: You can cast a variable to a string with `str()`, e.g.\n",
        "```\n",
        "In [ ]:  num = 42\n",
        "         str(42)\n",
        "Out[ ]:  '42'\n",
        "```"
      ]
    },
    {
      "cell_type": "code",
      "metadata": {
        "id": "NYtw9H2A4iLL",
        "colab_type": "code",
        "colab": {}
      },
      "source": [
        ""
      ],
      "execution_count": 0,
      "outputs": []
    },
    {
      "cell_type": "code",
      "metadata": {
        "id": "fSVb4MWM4iLM",
        "colab_type": "code",
        "colab": {}
      },
      "source": [
        "die_rolls = roll_dice(30,12)\n",
        "print(die_rolls)\n",
        "print(text_histogram(die_rolls))"
      ],
      "execution_count": 0,
      "outputs": []
    },
    {
      "cell_type": "code",
      "metadata": {
        "id": "-qrVn6BE4iLN",
        "colab_type": "code",
        "colab": {}
      },
      "source": [
        ""
      ],
      "execution_count": 0,
      "outputs": []
    }
  ]
}