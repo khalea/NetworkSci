{
  "nbformat": 4,
  "nbformat_minor": 0,
  "metadata": {
    "anaconda-cloud": {},
    "kernelspec": {
      "display_name": "Python [Root]",
      "language": "python",
      "name": "Python [Root]"
    },
    "language_info": {
      "codemirror_mode": {
        "name": "ipython",
        "version": 3
      },
      "file_extension": ".py",
      "mimetype": "text/x-python",
      "name": "python",
      "nbconvert_exporter": "python",
      "pygments_lexer": "ipython3",
      "version": "3.5.2"
    },
    "colab": {
      "name": "Homework_6.ipynb",
      "provenance": []
    }
  },
  "cells": [
    {
      "cell_type": "markdown",
      "metadata": {
        "id": "fIcPPwzhZESb",
        "colab_type": "text"
      },
      "source": [
        "Histograms and distributions\n",
        "====\n",
        "\n",
        "Often when we want to get a sense of some data we use summary statistics like mean, median, mode, max, min, and maybe standard deviation. A generalization of these quantities is to look at the entire distribution, and a graphical way to do that is with the [Histogram](https://en.wikipedia.org/wiki/Histogram).\n"
      ]
    },
    {
      "cell_type": "markdown",
      "metadata": {
        "id": "9TiM1KbBZESd",
        "colab_type": "text"
      },
      "source": [
        "# Python's `statistics` module\n",
        "\n",
        "Python's standard library contains the `statistics` module, which has functions for common summary statistics on 1-d arrays (lists) of numerical data:"
      ]
    },
    {
      "cell_type": "code",
      "metadata": {
        "id": "sqe35TH7ZESe",
        "colab_type": "code",
        "colab": {
          "base_uri": "https://localhost:8080/",
          "height": 34
        },
        "outputId": "aacc92cc-0bdb-4715-d0e6-c070cc8f8985"
      },
      "source": [
        "vec = [1] * 1 + [2] * 2 + [3] * 3 + [4] * 4 + [5] * 5\n",
        "vec"
      ],
      "execution_count": 1,
      "outputs": [
        {
          "output_type": "execute_result",
          "data": {
            "text/plain": [
              "[1, 2, 2, 3, 3, 3, 4, 4, 4, 4, 5, 5, 5, 5, 5]"
            ]
          },
          "metadata": {
            "tags": []
          },
          "execution_count": 1
        }
      ]
    },
    {
      "cell_type": "code",
      "metadata": {
        "id": "-aXj7zQcZESh",
        "colab_type": "code",
        "colab": {
          "base_uri": "https://localhost:8080/",
          "height": 34
        },
        "outputId": "d7c05c98-dd3d-4611-f2d3-1f804f783b2b"
      },
      "source": [
        "import statistics\n",
        "statistics.mean(vec)"
      ],
      "execution_count": 2,
      "outputs": [
        {
          "output_type": "execute_result",
          "data": {
            "text/plain": [
              "3.6666666666666665"
            ]
          },
          "metadata": {
            "tags": []
          },
          "execution_count": 2
        }
      ]
    },
    {
      "cell_type": "code",
      "metadata": {
        "id": "8BBxgFnBZESk",
        "colab_type": "code",
        "colab": {
          "base_uri": "https://localhost:8080/",
          "height": 34
        },
        "outputId": "bce1067e-fc08-4dce-fd3f-de66bc93ce9c"
      },
      "source": [
        "statistics.median(vec)"
      ],
      "execution_count": 3,
      "outputs": [
        {
          "output_type": "execute_result",
          "data": {
            "text/plain": [
              "4"
            ]
          },
          "metadata": {
            "tags": []
          },
          "execution_count": 3
        }
      ]
    },
    {
      "cell_type": "code",
      "metadata": {
        "id": "dhbXLSTpZESm",
        "colab_type": "code",
        "colab": {
          "base_uri": "https://localhost:8080/",
          "height": 34
        },
        "outputId": "eaa4b1c0-29fd-4f81-d39a-6e77f61c0f0a"
      },
      "source": [
        "statistics.mode(vec)"
      ],
      "execution_count": 4,
      "outputs": [
        {
          "output_type": "execute_result",
          "data": {
            "text/plain": [
              "5"
            ]
          },
          "metadata": {
            "tags": []
          },
          "execution_count": 4
        }
      ]
    },
    {
      "cell_type": "code",
      "metadata": {
        "id": "nxWTujXbZESn",
        "colab_type": "code",
        "colab": {
          "base_uri": "https://localhost:8080/",
          "height": 34
        },
        "outputId": "e18d975e-093a-4f13-ec0c-5bcee549f9b9"
      },
      "source": [
        "statistics.stdev(vec)"
      ],
      "execution_count": 5,
      "outputs": [
        {
          "output_type": "execute_result",
          "data": {
            "text/plain": [
              "1.2909944487358056"
            ]
          },
          "metadata": {
            "tags": []
          },
          "execution_count": 5
        }
      ]
    },
    {
      "cell_type": "markdown",
      "metadata": {
        "collapsed": true,
        "id": "xMr6tME9ZESp",
        "colab_type": "text"
      },
      "source": [
        "# Discrete random variables: dice\n",
        "\n",
        "Rolling a die of N sides can be thought of as randomly choosing a number between 1 and N (inclusive, oddly). We can simulate a die roll using Python's `random` module:"
      ]
    },
    {
      "cell_type": "code",
      "metadata": {
        "id": "2lGRqUNuZESq",
        "colab_type": "code",
        "colab": {
          "base_uri": "https://localhost:8080/",
          "height": 34
        },
        "outputId": "94f76819-f8ca-435f-e119-23c9cb503a9f"
      },
      "source": [
        "import random\n",
        "random.randint(1, 6)"
      ],
      "execution_count": 6,
      "outputs": [
        {
          "output_type": "execute_result",
          "data": {
            "text/plain": [
              "4"
            ]
          },
          "metadata": {
            "tags": []
          },
          "execution_count": 6
        }
      ]
    },
    {
      "cell_type": "markdown",
      "metadata": {
        "id": "bPieHBMiZESr",
        "colab_type": "text"
      },
      "source": [
        "Execute the above block a few times. Each execution displays the outcome for that die roll."
      ]
    },
    {
      "cell_type": "markdown",
      "metadata": {
        "id": "t9PR2DhjZESs",
        "colab_type": "text"
      },
      "source": [
        "# <font color='red'>EXERCISE 1</font>\n",
        "\n",
        "Roll a six-sided die 100 times, recording the outcome for each roll in a list. Print the mean, median, and mode of the resulting outcome distribution. Try this a few times."
      ]
    },
    {
      "cell_type": "code",
      "metadata": {
        "id": "V0TonyQyZESs",
        "colab_type": "code",
        "colab": {}
      },
      "source": [
        ""
      ],
      "execution_count": 0,
      "outputs": []
    },
    {
      "cell_type": "markdown",
      "metadata": {
        "id": "swXHo7qYZESu",
        "colab_type": "text"
      },
      "source": [
        "# <font color='red'>EXERCISE 2</font>\n",
        "\n",
        "In many dice games, the player rolls two dice and the outcome is taken to be the sum of the two dice values. Simulate 100 rolls of two six-sided dice; for each roll record the sum of the two dice.  Print the mean, median, and mode of the resulting outcome distribution. Try this a few times."
      ]
    },
    {
      "cell_type": "code",
      "metadata": {
        "id": "l9j-IJ-UZESv",
        "colab_type": "code",
        "colab": {}
      },
      "source": [
        ""
      ],
      "execution_count": 0,
      "outputs": []
    },
    {
      "cell_type": "markdown",
      "metadata": {
        "id": "llMfRSBHZESx",
        "colab_type": "text"
      },
      "source": [
        "# <font color='red'>EXERCISE 3</font>\n",
        "Write a function `roll_dice()` that takes two arguments in this order: the number of rolls and the number of sides. This function should return a dict with the keys being the possible outcomes for the die, and the values being the number of times that outcome came up, e.g. for 10 sides and 50 rolls, I might get\n",
        "```\n",
        "{\n",
        "   1: 5,\n",
        "   2: 7,\n",
        "   ...\n",
        "   10: 4,\n",
        "}\n",
        "```\n",
        "Ensure that all possible outcomes have a corresponding key even if there were no such events recorded."
      ]
    },
    {
      "cell_type": "code",
      "metadata": {
        "id": "B3HmyDNXZESx",
        "colab_type": "code",
        "colab": {}
      },
      "source": [
        ""
      ],
      "execution_count": 0,
      "outputs": []
    },
    {
      "cell_type": "code",
      "metadata": {
        "id": "OHgbM-PTZESz",
        "colab_type": "code",
        "colab": {}
      },
      "source": [
        "die_rolls = roll_dice(5, 9)\n",
        "assert isinstance(die_rolls, dict)\n",
        "assert len(die_rolls) == 9\n",
        "\n",
        "die_rolls = roll_dice(20, 9)\n",
        "assert len(die_rolls) == 9\n",
        "assert sum(die_rolls.values()) == 20"
      ],
      "execution_count": 0,
      "outputs": []
    },
    {
      "cell_type": "markdown",
      "metadata": {
        "id": "RQji7SV3ZES1",
        "colab_type": "text"
      },
      "source": [
        "# Drawing a histogram\n",
        "\n",
        "We can draw a very basic (admittedly ugly) histogram using `matplotlib`:"
      ]
    },
    {
      "cell_type": "code",
      "metadata": {
        "id": "f0mEK5kKZES1",
        "colab_type": "code",
        "colab": {}
      },
      "source": [
        "from matplotlib import pyplot as plt\n",
        "%matplotlib inline\n",
        "\n",
        "die_rolls = roll_dice(100, 6)\n",
        "\n",
        "fig, ax = plt.subplots()\n",
        "\n",
        "ax.bar(die_rolls.keys(), die_rolls.values())"
      ],
      "execution_count": 0,
      "outputs": []
    },
    {
      "cell_type": "markdown",
      "metadata": {
        "id": "VjOwYqHEZES3",
        "colab_type": "text"
      },
      "source": [
        "With a little bit of tweaking, we can make it slightly better:"
      ]
    },
    {
      "cell_type": "code",
      "metadata": {
        "id": "eHl_xy4bZES4",
        "colab_type": "code",
        "colab": {}
      },
      "source": [
        "def histogram(counts):\n",
        "    X = [k - 0.4 for k in counts.keys()]\n",
        "    Y = counts.values()\n",
        "    fig, ax = plt.subplots()\n",
        "    ax.bar(X, Y, alpha=0.5)\n",
        "    \n",
        "    lower = min(X) - 0.2\n",
        "    upper = max(X) + 1\n",
        "    ax.set_xlim([lower, upper])"
      ],
      "execution_count": 0,
      "outputs": []
    },
    {
      "cell_type": "code",
      "metadata": {
        "id": "N5BqFD4vZES5",
        "colab_type": "code",
        "colab": {}
      },
      "source": [
        "histogram(roll_dice(100, 6))"
      ],
      "execution_count": 0,
      "outputs": []
    },
    {
      "cell_type": "markdown",
      "metadata": {
        "id": "cg9kfOYJZES7",
        "colab_type": "text"
      },
      "source": [
        "# <font color='red'>EXERCISE 4</font>\n",
        "\n",
        "Write a function `roll_two_dice()` that takes two arguments in this order: the number of rolls and the number of sides. For each iteration, roll two dice with given number of sides and take their sum as the outcome.\n",
        "\n",
        "This function should return a dict with the keys being the possible outcomes, and the values being the number of times that outcome occurred, e.g. for 10 sides and 100 rolls, I might get\n",
        "```\n",
        "{\n",
        "   1: 5,\n",
        "   2: 7,\n",
        "   ...\n",
        "   20: 4,\n",
        "}\n",
        "```\n",
        "Ensure that all possible outcomes have a corresponding key even if there were zero such events recorded, and that there are no keys for impossible outcomes (e.g. 1 for two six-sided dice)."
      ]
    },
    {
      "cell_type": "code",
      "metadata": {
        "id": "IPhjeh_SZES7",
        "colab_type": "code",
        "colab": {}
      },
      "source": [
        ""
      ],
      "execution_count": 0,
      "outputs": []
    },
    {
      "cell_type": "code",
      "metadata": {
        "id": "zp6h-_fVZES9",
        "colab_type": "code",
        "colab": {}
      },
      "source": [
        "die_rolls = roll_two_dice(5, 9)\n",
        "assert isinstance(die_rolls, dict)\n",
        "assert len(die_rolls) == 17\n",
        "\n",
        "die_rolls = roll_two_dice(20, 9)\n",
        "assert len(die_rolls) == 17\n",
        "assert sum(die_rolls.values()) == 20"
      ],
      "execution_count": 0,
      "outputs": []
    },
    {
      "cell_type": "markdown",
      "metadata": {
        "id": "AN-MQSxMZES_",
        "colab_type": "text"
      },
      "source": [
        "# <font color='red'>EXERCISE 5</font>"
      ]
    },
    {
      "cell_type": "markdown",
      "metadata": {
        "id": "meOg8ck6ZES_",
        "colab_type": "text"
      },
      "source": [
        "Use the above `histogram()` function to compare the distributions of `roll_dice` and `roll_two_dice` for 500 rolls of 6-sided dice. Try each a few times. What do you notice is consistently different about these two distributions? Draw each histogram and answer the question in text."
      ]
    },
    {
      "cell_type": "code",
      "metadata": {
        "id": "UsGFWjEwZETA",
        "colab_type": "code",
        "colab": {}
      },
      "source": [
        ""
      ],
      "execution_count": 0,
      "outputs": []
    },
    {
      "cell_type": "code",
      "metadata": {
        "id": "e_IVVFabZETC",
        "colab_type": "code",
        "colab": {}
      },
      "source": [
        ""
      ],
      "execution_count": 0,
      "outputs": []
    },
    {
      "cell_type": "markdown",
      "metadata": {
        "id": "VOwZ19eQZETE",
        "colab_type": "text"
      },
      "source": [
        "# Node degree distributions"
      ]
    },
    {
      "cell_type": "markdown",
      "metadata": {
        "id": "p3GX7YbHZETF",
        "colab_type": "text"
      },
      "source": [
        "Recall the NetworkX command to create an Erdos-Renyi random graph:\n",
        "```\n",
        "G = nx.erdos_renyi_graph(N, p)\n",
        "```"
      ]
    },
    {
      "cell_type": "code",
      "metadata": {
        "id": "H7Cth1z_ZETH",
        "colab_type": "code",
        "colab": {}
      },
      "source": [
        "import networkx as nx\n",
        "G = nx.erdos_renyi_graph(12, 0.2)\n",
        "nx.draw(G, with_labels=True)"
      ],
      "execution_count": 0,
      "outputs": []
    },
    {
      "cell_type": "markdown",
      "metadata": {
        "id": "ILJ-iKFDZETL",
        "colab_type": "text"
      },
      "source": [
        "Also recall the `degree()` method which can give the degree for a specific node..."
      ]
    },
    {
      "cell_type": "code",
      "metadata": {
        "id": "LYrP0qhaZETL",
        "colab_type": "code",
        "colab": {}
      },
      "source": [
        "G.degree(5)"
      ],
      "execution_count": 0,
      "outputs": []
    },
    {
      "cell_type": "markdown",
      "metadata": {
        "id": "e6YkZwzuZETN",
        "colab_type": "text"
      },
      "source": [
        "...or can return a dict containing the node degrees for every node in the graph:"
      ]
    },
    {
      "cell_type": "code",
      "metadata": {
        "id": "ZLGU5UhoZETN",
        "colab_type": "code",
        "colab": {}
      },
      "source": [
        "G.degree()"
      ],
      "execution_count": 0,
      "outputs": []
    },
    {
      "cell_type": "markdown",
      "metadata": {
        "id": "aIYisuZNZETO",
        "colab_type": "text"
      },
      "source": [
        "If we want to examine the distribution of node degrees, we don't care about the node names, only the node degrees:"
      ]
    },
    {
      "cell_type": "code",
      "metadata": {
        "id": "2YNH2fibZETP",
        "colab_type": "code",
        "colab": {}
      },
      "source": [
        "list(G.degree().values())"
      ],
      "execution_count": 0,
      "outputs": []
    },
    {
      "cell_type": "markdown",
      "metadata": {
        "id": "u8ngHzdIZETQ",
        "colab_type": "text"
      },
      "source": [
        "We can treat each degree as if it were the outcome of a discrete random variable, like a die roll."
      ]
    },
    {
      "cell_type": "markdown",
      "metadata": {
        "id": "lCHkAa_XZETV",
        "colab_type": "text"
      },
      "source": [
        "# <font color='red'>EXERCISE 6</font>"
      ]
    },
    {
      "cell_type": "markdown",
      "metadata": {
        "id": "7PzcQPbaZETV",
        "colab_type": "text"
      },
      "source": [
        "First, create an ER random graph with $N=100$ and $p=0.1$ and name it `G`. Then use the `histogram()` function to draw a histogram of the node degrees for the graph `G`. Don't worry about filling in \"missing\" values.\n",
        "\n",
        "Also print the mean, median, and mode of the node degree distribution. Execute this a few times.\n",
        "\n",
        "**Note:** while `histogram(G.degree())` does draw a plot, that plot is not a histogram. Doing so will result in zero credit for this exercise."
      ]
    },
    {
      "cell_type": "code",
      "metadata": {
        "id": "zIngnvOaZETW",
        "colab_type": "code",
        "colab": {}
      },
      "source": [
        ""
      ],
      "execution_count": 0,
      "outputs": []
    },
    {
      "cell_type": "code",
      "metadata": {
        "id": "khvzCRUOZETX",
        "colab_type": "code",
        "colab": {}
      },
      "source": [
        " "
      ],
      "execution_count": 0,
      "outputs": []
    }
  ]
}