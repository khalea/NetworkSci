{
  "nbformat": 4,
  "nbformat_minor": 0,
  "metadata": {
    "kernelspec": {
      "display_name": "Python [Root]",
      "language": "python",
      "name": "Python [Root]"
    },
    "language_info": {
      "codemirror_mode": {
        "name": "ipython",
        "version": 3
      },
      "file_extension": ".py",
      "mimetype": "text/x-python",
      "name": "python",
      "nbconvert_exporter": "python",
      "pygments_lexer": "ipython3",
      "version": "3.5.2"
    },
    "colab": {
      "name": "Homework 5 [Fall 2019].ipynb",
      "provenance": []
    }
  },
  "cells": [
    {
      "cell_type": "markdown",
      "metadata": {
        "id": "OH0WJpXPa-Wb",
        "colab_type": "text"
      },
      "source": [
        "# NetworkX Recap\n",
        "\n",
        "You can use NetworkX to construct and draw graphs that are undirected or directed, with weighted or unweighted edges. An array of functions to analyze graphs is available. This tutorial takes you through a few basic examples and exercises.\n",
        "\n",
        "Note that many exercises are followed by a block with some `assert` statements. These assertions may be preceded by some setup code. Please don't change anything in these blocks.\n",
        "\n",
        "## Official documentation\n",
        "\n",
        "http://networkx.github.io/documentation/latest/\n",
        "\n",
        "## Other useful tutorials\n",
        "\n",
        "http://networkx.github.io/documentation/latest/tutorial/tutorial.html\n",
        "\n",
        "http://jponnela.com/web_documents/networkx.pdf"
      ]
    },
    {
      "cell_type": "markdown",
      "metadata": {
        "id": "aoC3-gzAa-Y8",
        "colab_type": "text"
      },
      "source": [
        "# Directed graphs\n",
        "\n",
        "Building on our discussion from last week - directed graphs are definined in very similar ways to undirected graphs, however, with consideration being given for the weights associated with the edges. "
      ]
    },
    {
      "cell_type": "code",
      "metadata": {
        "id": "635vwinfa-Y8",
        "colab_type": "code",
        "colab": {}
      },
      "source": [
        "import networkx as nx\n",
        "\n",
        "D = nx.DiGraph()\n",
        "\n",
        "D.add_edges_from([(1,2),(2,3),(3,2),(3,4),(3,5),(4,5),(4,6),(5,6),(6,4),(4,2)])\n",
        "\n",
        "nx.draw(D, with_labels=True)"
      ],
      "execution_count": 0,
      "outputs": []
    },
    {
      "cell_type": "markdown",
      "metadata": {
        "id": "riwEZyICa-Y_",
        "colab_type": "text"
      },
      "source": [
        "# <font color='red'>EXERCISE 1</font>\n",
        "\n",
        "The directed analogs to neighbors are predecessors (\"in-neighbors\") and successors (\"out-neighbors\").\n",
        "\n",
        "If you run the cell below without changing anything - instead of seeing the neighbors, you will see <dict_keyiterator object at (some address)>\n",
        "\n",
        "There is an easy way to fix this, if you think back to the tutorial we had last week. Regardless of whether you use that method, alter the print statements so that they correctly print the neighbors of the specified nodes. \n",
        "\n",
        "**Also note that due to a quirk in the \"dict-of-dicts\" structure, the `neighbors` method is a synonym for 'successors'. Don't accidentally use it.**"
      ]
    },
    {
      "cell_type": "code",
      "metadata": {
        "id": "NFzMt5Ywa-ZA",
        "colab_type": "code",
        "colab": {}
      },
      "source": [
        "print('Successors to 3:', D.successors(3))\n",
        "\n",
        "print('Predecessors to 2:', D.predecessors(2))\n",
        "\n",
        "print('neighbors to 3:', D.neighbors(3))\n",
        "\n"
      ],
      "execution_count": 0,
      "outputs": []
    },
    {
      "cell_type": "markdown",
      "metadata": {
        "id": "eCKPjvcXa-ZE",
        "colab_type": "text"
      },
      "source": [
        "# <font color='red'>EXERCISE 2</font>\n",
        "\n",
        "Write a function `get_bidirectional_edges` that takes a directed graph as an argument. The function should return a list of 2-tuples, one such tuple for each pair of nodes with incident edges in both directions. Return only one such tuple per pair of edges, e.g. if there are links in both directions between 3 and 2, don't return `(2, 3)` and `(3, 2)`.\n",
        "\n",
        "Hint: You can intersect two lists like this:\n",
        "```\n",
        "set(list1).intersection(set(list2))\n",
        "```\n",
        "The intersection of two sets is the collection of elements present in both sets. Set intersection is not required for this; don't worry if you don't end up needing it."
      ]
    },
    {
      "cell_type": "code",
      "metadata": {
        "id": "JgC0fg94a-ZE",
        "colab_type": "code",
        "colab": {}
      },
      "source": [
        ""
      ],
      "execution_count": 0,
      "outputs": []
    },
    {
      "cell_type": "code",
      "metadata": {
        "id": "agnUXK2ya-ZG",
        "colab_type": "code",
        "colab": {}
      },
      "source": [
        "D = nx.DiGraph()\n",
        "D.add_edges_from([(1,2),(2,3),(3,2),(3,4),(3,5),(4,5),(4,6),(5,6),(6,4),(4,2)])\n",
        "bde = get_bidirectional_edges(D)\n",
        "assert len(bde) == 2\n",
        "assert (2, 3) in bde or (3, 2) in bde\n",
        "assert (4, 6) in bde or (6, 4) in bde"
      ],
      "execution_count": 0,
      "outputs": []
    },
    {
      "cell_type": "markdown",
      "metadata": {
        "id": "V-scRnLza-ZL",
        "colab_type": "text"
      },
      "source": [
        "# Paths\n",
        "\n",
        "The following are all examples of the functionality networkx supports regarding path. Follow along with the cells, and if there is anything that seems unclear - look up the documentation for it, it's good practice! "
      ]
    },
    {
      "cell_type": "code",
      "metadata": {
        "id": "86y-dLSZa-ZM",
        "colab_type": "code",
        "colab": {}
      },
      "source": [
        "D = nx.DiGraph()\n",
        "D.add_edges_from([(1,2),(2,3),(3,2),(3,4),(3,5),(4,5),(4,6),(5,6),(6,4),(4,2)])\n",
        "\n",
        "print( nx.has_path(D, 1, 6) )\n",
        "\n",
        "print( nx.shortest_path(D, 1, 6) )"
      ],
      "execution_count": 0,
      "outputs": []
    },
    {
      "cell_type": "code",
      "metadata": {
        "id": "JQt4BRJoa-ZO",
        "colab_type": "code",
        "colab": {}
      },
      "source": [
        "print( nx.has_path(D,6,1) )"
      ],
      "execution_count": 0,
      "outputs": []
    },
    {
      "cell_type": "code",
      "metadata": {
        "id": "jP17k97ja-ZQ",
        "colab_type": "code",
        "colab": {}
      },
      "source": [
        "# This will raise an error\n",
        "print( nx.shortest_path(D, 6, 1) )"
      ],
      "execution_count": 0,
      "outputs": []
    },
    {
      "cell_type": "code",
      "metadata": {
        "id": "bQbHeAd2a-ZS",
        "colab_type": "code",
        "colab": {}
      },
      "source": [
        "# A simple path is one that does not pass through any node more than once\n",
        "\n",
        "# this is an iterator\n",
        "all_paths = nx.all_simple_paths(D, 1, 5)  \n",
        "\n",
        "print(list(all_paths))\n",
        "\n",
        "print(nx.shortest_path(D, 1, 5))"
      ],
      "execution_count": 0,
      "outputs": []
    },
    {
      "cell_type": "code",
      "metadata": {
        "id": "pJGWpIWka-ZU",
        "colab_type": "code",
        "colab": {}
      },
      "source": [
        "# this is an iterator object\n",
        "all_shortest_paths = nx.all_shortest_paths(D, 1, 6)  \n",
        "\n",
        "list(all_shortest_paths)"
      ],
      "execution_count": 0,
      "outputs": []
    },
    {
      "cell_type": "code",
      "metadata": {
        "id": "vfDZx2i9a-ZV",
        "colab_type": "code",
        "colab": {}
      },
      "source": [
        "nx.average_shortest_path_length(D)"
      ],
      "execution_count": 0,
      "outputs": []
    },
    {
      "cell_type": "code",
      "metadata": {
        "id": "XOtp_M8_a-ZW",
        "colab_type": "code",
        "colab": {}
      },
      "source": [
        "nx.is_strongly_connected(D)"
      ],
      "execution_count": 0,
      "outputs": []
    },
    {
      "cell_type": "code",
      "metadata": {
        "id": "KG0WVYcUa-ZX",
        "colab_type": "code",
        "colab": {}
      },
      "source": [
        "nx.is_weakly_connected(D)"
      ],
      "execution_count": 0,
      "outputs": []
    },
    {
      "cell_type": "code",
      "metadata": {
        "id": "RkISha6la-ZY",
        "colab_type": "code",
        "colab": {}
      },
      "source": [
        "# This will raise an error\n",
        "nx.is_connected(D)"
      ],
      "execution_count": 0,
      "outputs": []
    },
    {
      "cell_type": "code",
      "metadata": {
        "id": "Cx30tLNka-Zb",
        "colab_type": "code",
        "colab": {}
      },
      "source": [
        "G = nx.Graph()\n",
        "\n",
        "G.add_nodes_from([1,2,3,4])\n",
        "\n",
        "G.add_edges_from([(1,2),(2,3),(1,3),(1,4)])\n",
        "\n",
        "nx.draw(G)"
      ],
      "execution_count": 0,
      "outputs": []
    },
    {
      "cell_type": "code",
      "metadata": {
        "id": "ARSWKx7ya-Zd",
        "colab_type": "code",
        "colab": {}
      },
      "source": [
        "nx.is_connected(G)"
      ],
      "execution_count": 0,
      "outputs": []
    },
    {
      "cell_type": "code",
      "metadata": {
        "id": "-aiHl6eaa-Ze",
        "colab_type": "code",
        "colab": {}
      },
      "source": [
        "# Diameter is necessarily greater than or equal to APL\n",
        "\n",
        "print(nx.average_shortest_path_length(G))\n",
        "\n",
        "print(nx.diameter(G))"
      ],
      "execution_count": 0,
      "outputs": []
    },
    {
      "cell_type": "code",
      "metadata": {
        "id": "oczJy-g5a-Zf",
        "colab_type": "code",
        "colab": {}
      },
      "source": [
        "G.remove_edge(1,4)\n",
        "nx.is_connected(G)"
      ],
      "execution_count": 0,
      "outputs": []
    },
    {
      "cell_type": "code",
      "metadata": {
        "id": "H6QSwwQYa-Zg",
        "colab_type": "code",
        "colab": {}
      },
      "source": [
        "# This will raise an error; diameter not defined for disconnected network\n",
        "\n",
        "nx.diameter(G)"
      ],
      "execution_count": 0,
      "outputs": []
    },
    {
      "cell_type": "markdown",
      "metadata": {
        "id": "-1CBJ2S2a-Zi",
        "colab_type": "text"
      },
      "source": [
        "# <font color='red'>EXERCISE 3</font>"
      ]
    },
    {
      "cell_type": "code",
      "metadata": {
        "id": "7p0Ytqp8a-Zi",
        "colab_type": "code",
        "colab": {}
      },
      "source": [
        "D = nx.DiGraph()\n",
        "\n",
        "D.add_edges_from([(1,2),(2,3),(3,4),(3,5),(4,5),(4,6),(5,6),(6,4),(4,2)])"
      ],
      "execution_count": 0,
      "outputs": []
    },
    {
      "cell_type": "markdown",
      "metadata": {
        "id": "BOb_z5ifa-Zk",
        "colab_type": "text"
      },
      "source": [
        "Start with the directed graph above and create an undirected version of the graph. Name this graph `G`. Do not hard-code the edges -- instead, devise an automatic way to do the conversion. Draw the graph."
      ]
    },
    {
      "cell_type": "code",
      "metadata": {
        "id": "XA7ivhw4a-Zl",
        "colab_type": "code",
        "colab": {}
      },
      "source": [
        ""
      ],
      "execution_count": 0,
      "outputs": []
    },
    {
      "cell_type": "code",
      "metadata": {
        "id": "Kkr_PW-Ta-Zn",
        "colab_type": "code",
        "colab": {}
      },
      "source": [
        "assert not G.is_directed()\n",
        "assert set(D.nodes()) == set(G.nodes())\n",
        "for edge in D.edges_iter():\n",
        "    assert G.has_edge(*edge)\n",
        "for a, b in G.edges_iter():\n",
        "    assert D.has_edge(a, b) or D.has_edge(b, a)"
      ],
      "execution_count": 0,
      "outputs": []
    },
    {
      "cell_type": "markdown",
      "metadata": {
        "id": "K6g0RJv4a-Zo",
        "colab_type": "text"
      },
      "source": [
        "# <font color='red'>EXERCISE 3.1</font>"
      ]
    },
    {
      "cell_type": "markdown",
      "metadata": {
        "id": "pbk9uZ9va-Zp",
        "colab_type": "text"
      },
      "source": [
        "Answer the following questions about `G`, the converted graph from the previous question, by printing the results to the appropriate NetworkX statements:\n",
        "* Is this graph connected?\n",
        "* What is its average shortest path length (APL)?\n",
        "* diameter?"
      ]
    },
    {
      "cell_type": "code",
      "metadata": {
        "id": "M1NinQRwa-Zr",
        "colab_type": "code",
        "colab": {}
      },
      "source": [
        ""
      ],
      "execution_count": 0,
      "outputs": []
    },
    {
      "cell_type": "markdown",
      "metadata": {
        "id": "ItZssoNQa-Zs",
        "colab_type": "text"
      },
      "source": [
        "# <font color='red'>EXERCISE 3.2</font>"
      ]
    },
    {
      "cell_type": "markdown",
      "metadata": {
        "id": "P-iXWRpxa-Zt",
        "colab_type": "text"
      },
      "source": [
        "How many simple paths exist between nodes 1 and 5 in the graph `G` from 9.1? Answer with an appropriate NetworkX statement."
      ]
    },
    {
      "cell_type": "code",
      "metadata": {
        "id": "4MwpeIeLa-Zt",
        "colab_type": "code",
        "colab": {}
      },
      "source": [
        ""
      ],
      "execution_count": 0,
      "outputs": []
    },
    {
      "cell_type": "markdown",
      "metadata": {
        "id": "Hf6EtjwVa-Zv",
        "colab_type": "text"
      },
      "source": [
        "# <font color='red'>EXERCISE 4</font>"
      ]
    },
    {
      "cell_type": "markdown",
      "metadata": {
        "id": "UZbbS9l6a-Zv",
        "colab_type": "text"
      },
      "source": [
        "Write a function `attack_network_edges` that takes two arguments: a graph and an integer N. In the function, make a copy of the input graph, and then remove N edges at random from the copy. Return the \"attacked\" copy.\n",
        "\n",
        "Note: Be careful not to modify the original graph `G` in your function."
      ]
    },
    {
      "cell_type": "code",
      "metadata": {
        "id": "I5rwy55ma-Zv",
        "colab_type": "code",
        "colab": {}
      },
      "source": [
        ""
      ],
      "execution_count": 0,
      "outputs": []
    },
    {
      "cell_type": "markdown",
      "metadata": {
        "id": "vemXri1oa-Zy",
        "colab_type": "text"
      },
      "source": [
        "# <font color='red'>EXERCISE 4.1</font>"
      ]
    },
    {
      "cell_type": "markdown",
      "metadata": {
        "collapsed": false,
        "id": "qr9gTDZsa-Zy",
        "colab_type": "text"
      },
      "source": [
        "Run `attack_network_edges` on graph `G` from 9.1 ten times, removing 2 edges each time. For each run, keep track of whether or not the resulting attacked graph is connected. What proportion of the time did the attack disconnect the network? Either have a print statement which outputs your answer, or write your answer as a comment at the bottom of your code. "
      ]
    },
    {
      "cell_type": "code",
      "metadata": {
        "id": "jldbzYY3a-Zy",
        "colab_type": "code",
        "colab": {}
      },
      "source": [
        ""
      ],
      "execution_count": 0,
      "outputs": []
    }
  ]
}