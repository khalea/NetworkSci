{
  "nbformat": 4,
  "nbformat_minor": 0,
  "metadata": {
    "kernelspec": {
      "display_name": "Python [Root]",
      "language": "python",
      "name": "Python [Root]"
    },
    "language_info": {
      "codemirror_mode": {
        "name": "ipython",
        "version": 3
      },
      "file_extension": ".py",
      "mimetype": "text/x-python",
      "name": "python",
      "nbconvert_exporter": "python",
      "pygments_lexer": "ipython3",
      "version": "3.5.2"
    },
    "colab": {
      "name": "NetworkX-part1-[Fall 2019].ipynb",
      "provenance": [],
      "collapsed_sections": [
        "f07wLqoNdGhB",
        "Il1FwnyrdGhF",
        "VfudgTXwdGhF",
        "MFvnWUNwdGhZ",
        "yo6cHfD9dGhe",
        "RBdtLqZUdGhm",
        "-7Mf-j36dGhr",
        "QkMyNJqxdGht",
        "218SvtMMdGhu",
        "TmWQ31L6dGh0",
        "SM3UOG93dGiB"
      ]
    }
  },
  "cells": [
    {
      "cell_type": "markdown",
      "metadata": {
        "id": "5RPJ9JuadGgk",
        "colab_type": "text"
      },
      "source": [
        "# NetworkX Intro\n",
        "\n",
        "You can use NetworkX to construct and draw graphs that are undirected or directed, with weighted or unweighted edges. An array of functions to analyze graphs is available. This tutorial takes you through a few basic examples and exercises.\n",
        "\n",
        "Note that many exercises are followed by a block with some `assert` statements. These assertions may be preceded by some setup code. Please don't change anything in these blocks.\n",
        "\n",
        "## Official documentation\n",
        "\n",
        "http://networkx.github.io/documentation/latest/\n",
        "\n",
        "## Other useful tutorials\n",
        "\n",
        "http://networkx.github.io/documentation/latest/tutorial/tutorial.html\n",
        "\n",
        "http://jponnela.com/web_documents/networkx.pdf"
      ]
    },
    {
      "cell_type": "markdown",
      "metadata": {
        "id": "N4oQ4luQdGgl",
        "colab_type": "text"
      },
      "source": [
        "# The `import` statement\n",
        "\n",
        "Recall that `import` statements go at the top of your code, telling Python to load an external module. In this case we want to load NetworkX, but give it a short alias `nx` since we'll have to type it repeatedly, hence the `as` statement.\n",
        "\n",
        "Also recall that lines starting with the `%` character are not Python code, they are \"magic\" directives for Jupyter notebook. The `%matplotlib inline` magic tells Jupyter Notebook to draw graphics inline i.e. in the notebook. This magic should be used right after the import statement."
      ]
    },
    {
      "cell_type": "code",
      "metadata": {
        "id": "5VI_JrcrdGgl",
        "colab_type": "code",
        "colab": {}
      },
      "source": [
        "import networkx as nx\n",
        "%matplotlib inline"
      ],
      "execution_count": 0,
      "outputs": []
    },
    {
      "cell_type": "markdown",
      "metadata": {
        "id": "rx-S6hNEdGgn",
        "colab_type": "text"
      },
      "source": [
        "# Creating and drawing undirected graphs"
      ]
    },
    {
      "cell_type": "code",
      "metadata": {
        "id": "e3_xE3JydGgo",
        "colab_type": "code",
        "colab": {}
      },
      "source": [
        "# a \"plain\" graph is undirected\n",
        "G = nx.Graph()\n",
        "\n",
        "# give each a node a 'name', which is an integer in this case.\n",
        "G.add_node('a')\n",
        "\n",
        "# the add_nodes_from method allows adding nodes from a sequence, in this case a list\n",
        "nodes_to_add = ['b', 'c', 'd']\n",
        "G.add_nodes_from(nodes_to_add)\n",
        "\n",
        "# add edge from 'a' to 'b'\n",
        "# since this graph is undirected, the order doesn't matter here\n",
        "G.add_edge('a', 'b')\n",
        "\n",
        "# just like add_nodes_from, we can add edges from a sequence\n",
        "# edges should be specified as 2-tuples\n",
        "edges_to_add = [('b', 'c'), ('a', 'c')]\n",
        "G.add_edges_from(edges_to_add)\n",
        "\n",
        "# draw the graph\n",
        "nx.draw(G, with_labels=True)"
      ],
      "execution_count": 0,
      "outputs": []
    },
    {
      "cell_type": "markdown",
      "metadata": {
        "id": "KjuaQXY9dGgp",
        "colab_type": "text"
      },
      "source": [
        "# Graph methods\n",
        "\n",
        "The graph object has some properties and methods giving data about the whole graph."
      ]
    },
    {
      "cell_type": "code",
      "metadata": {
        "id": "hNGQk_JNdGgq",
        "colab_type": "code",
        "colab": {}
      },
      "source": [
        "# List all of the nodes\n",
        "G.nodes()"
      ],
      "execution_count": 0,
      "outputs": []
    },
    {
      "cell_type": "code",
      "metadata": {
        "id": "SNIX5YWmdGgr",
        "colab_type": "code",
        "colab": {}
      },
      "source": [
        "# List all of the edges\n",
        "G.edges()"
      ],
      "execution_count": 0,
      "outputs": []
    },
    {
      "cell_type": "markdown",
      "metadata": {
        "id": "6LijcrZYdGgt",
        "colab_type": "text"
      },
      "source": [
        "Note that the return types of both `G.nodes()` and `G.edges()` match the types we used when entering the graph data above, i.e. a list of nodes, and a list of tuples for edges.\n",
        "\n",
        "We can get the number of nodes and edges in a graph using the `number_of_` methods. These methods are *much* more efficient than using `len(G.nodes())` or `len(G.edges())`."
      ]
    },
    {
      "cell_type": "code",
      "metadata": {
        "id": "_y8O5-5OdGgt",
        "colab_type": "code",
        "colab": {}
      },
      "source": [
        "G.number_of_nodes()"
      ],
      "execution_count": 0,
      "outputs": []
    },
    {
      "cell_type": "code",
      "metadata": {
        "id": "gOJNiBi-dGgv",
        "colab_type": "code",
        "colab": {}
      },
      "source": [
        "G.number_of_edges()"
      ],
      "execution_count": 0,
      "outputs": []
    },
    {
      "cell_type": "markdown",
      "metadata": {
        "id": "7F5MXc_rdGgw",
        "colab_type": "text"
      },
      "source": [
        "Some graph methods take and edge or node as an argument. These provide the graph properties of the given edge or node."
      ]
    },
    {
      "cell_type": "code",
      "metadata": {
        "id": "l8doj0AbdGgx",
        "colab_type": "code",
        "colab": {}
      },
      "source": [
        "# list of neighbors of node 'b'\n",
        "G.neighbors('b')"
      ],
      "execution_count": 0,
      "outputs": []
    },
    {
      "cell_type": "markdown",
      "metadata": {
        "id": "uuB46VXCdGgz",
        "colab_type": "text"
      },
      "source": [
        "# <font color='red'>EXERCISE 1</font>\n",
        "\n",
        "Using this adjacency matrix, create the corresponding graph and name it `G`. Then print out the number of edges and the list of edges and draw the graph.\n",
        "\n",
        "|       | a | b | c | d |\n",
        "|-------|---|---|---|---|\n",
        "| **a** |   |   |   |   |\n",
        "| **b** | 1 |   |   |   |\n",
        "| **c** | 1 | 1 |   |   |\n",
        "| **d** | 0 | 0 | 1 |   |"
      ]
    },
    {
      "cell_type": "code",
      "metadata": {
        "id": "WXR1ABpAdGgz",
        "colab_type": "code",
        "colab": {}
      },
      "source": [
        ""
      ],
      "execution_count": 0,
      "outputs": []
    },
    {
      "cell_type": "code",
      "metadata": {
        "id": "PH8ahQ8vdGg1",
        "colab_type": "code",
        "colab": {}
      },
      "source": [
        "assert G.number_of_nodes() == 4\n",
        "assert G.number_of_edges() == 4"
      ],
      "execution_count": 0,
      "outputs": []
    },
    {
      "cell_type": "markdown",
      "metadata": {
        "id": "3h2C32D6dGg3",
        "colab_type": "text"
      },
      "source": [
        "# Node and edge membership\n",
        "\n",
        "To check if a node is present in a graph, you can use the `has_node()` method:"
      ]
    },
    {
      "cell_type": "code",
      "metadata": {
        "id": "3YZNZgN-dGg3",
        "colab_type": "code",
        "colab": {}
      },
      "source": [
        "G.has_node('a')"
      ],
      "execution_count": 0,
      "outputs": []
    },
    {
      "cell_type": "code",
      "metadata": {
        "id": "Hcf-52dPdGg4",
        "colab_type": "code",
        "colab": {}
      },
      "source": [
        "G.has_node('x')"
      ],
      "execution_count": 0,
      "outputs": []
    },
    {
      "cell_type": "markdown",
      "metadata": {
        "id": "X_65QjKddGg6",
        "colab_type": "text"
      },
      "source": [
        "# <font color='red'>EXERCISE 2</font>\n",
        "Using the `.neighbors()` method, write a function named `edge_exists` that takes three arguments, a graph and two node names, and returns a boolean (True or False) for whether or not there is an edge between those two nodes. It should handle the case when one of the nodes does not exist."
      ]
    },
    {
      "cell_type": "code",
      "metadata": {
        "id": "junJXrGFdGg6",
        "colab_type": "code",
        "colab": {}
      },
      "source": [
        ""
      ],
      "execution_count": 0,
      "outputs": []
    },
    {
      "cell_type": "code",
      "metadata": {
        "id": "PRGOkiDidGg8",
        "colab_type": "code",
        "colab": {}
      },
      "source": [
        "G = nx.Graph()\n",
        "G.add_edges_from([('a', 'b'), ('a', 'c')])\n",
        "\n",
        "assert edge_exists(G, 'a', 'b')\n",
        "assert edge_exists(G, 'b', 'a')\n",
        "assert not edge_exists(G, 'b', 'c')\n",
        "assert not edge_exists(G, 'c', 'b')\n",
        "# handling non-existent nodes\n",
        "assert not edge_exists(G, 'a', 'd')\n",
        "assert not edge_exists(G, 'd', 'a')\n",
        "assert not edge_exists(G, 'd', 'e')"
      ],
      "execution_count": 0,
      "outputs": []
    },
    {
      "cell_type": "markdown",
      "metadata": {
        "id": "hAUCqhxzdGg9",
        "colab_type": "text"
      },
      "source": [
        "NetworkX does have a method for doing this task of testing edge membership:"
      ]
    },
    {
      "cell_type": "code",
      "metadata": {
        "id": "yY4SkJSgdGg-",
        "colab_type": "code",
        "colab": {}
      },
      "source": [
        "G.has_edge('a', 'b')"
      ],
      "execution_count": 0,
      "outputs": []
    },
    {
      "cell_type": "code",
      "metadata": {
        "id": "pS7ioPZqdGg_",
        "colab_type": "code",
        "colab": {}
      },
      "source": [
        "G.has_edge('a', 'd')"
      ],
      "execution_count": 0,
      "outputs": []
    },
    {
      "cell_type": "markdown",
      "metadata": {
        "id": "f07wLqoNdGhB",
        "colab_type": "text"
      },
      "source": [
        "### Syntactic sugar\n",
        "Under the hood, a NetworkX graph is actually a dict of dicts. This means the following works for checking node membership:"
      ]
    },
    {
      "cell_type": "code",
      "metadata": {
        "id": "PVBmwymddGhB",
        "colab_type": "code",
        "colab": {}
      },
      "source": [
        "'a' in G"
      ],
      "execution_count": 0,
      "outputs": []
    },
    {
      "cell_type": "code",
      "metadata": {
        "id": "-CMAhmBydGhD",
        "colab_type": "code",
        "colab": {}
      },
      "source": [
        "'x' in G"
      ],
      "execution_count": 0,
      "outputs": []
    },
    {
      "cell_type": "markdown",
      "metadata": {
        "id": "Il1FwnyrdGhF",
        "colab_type": "text"
      },
      "source": [
        "# A note on naming conventions\n",
        "\n",
        "Usually in Python, variables are named in `snake_case`, i.e. lowercase with underscores separating words. Classes are conventionally named in `CamelCase`, i.e. with the first letter of each word capitalized.\n",
        "\n",
        "Obviously NetworkX doesn't use this convention, often using single capital letters for the names of graphs. This is an example of convention leaking from the world of discrete mathematics. Since most of the documentation you will find online uses this convention, we will follow it as well."
      ]
    },
    {
      "cell_type": "markdown",
      "metadata": {
        "id": "VfudgTXwdGhF",
        "colab_type": "text"
      },
      "source": [
        "# Looping over graph elements\n",
        "\n",
        "Since graphs can be large, we need to be a bit careful about how we loop over their elements. Returning lists every time can be memory-intensive, so we prefer to use iterators when we loop. The following object is an iterator for the nodes in the graph."
      ]
    },
    {
      "cell_type": "code",
      "metadata": {
        "id": "FlOgAPfsdGhH",
        "colab_type": "code",
        "colab": {}
      },
      "source": [
        "G.nodes_iter()"
      ],
      "execution_count": 0,
      "outputs": []
    },
    {
      "cell_type": "markdown",
      "metadata": {
        "id": "Sf6uUXGgdGhJ",
        "colab_type": "text"
      },
      "source": [
        "This does not print out all of the keys all at once; this is the behavior we want -- we want to get them one at a time, as we need them in the loop:"
      ]
    },
    {
      "cell_type": "code",
      "metadata": {
        "id": "rB-88wjYdGhJ",
        "colab_type": "code",
        "colab": {}
      },
      "source": [
        "for node in G.nodes_iter():\n",
        "    print(node)"
      ],
      "execution_count": 0,
      "outputs": []
    },
    {
      "cell_type": "markdown",
      "metadata": {
        "id": "MF5w4SyfdGhL",
        "colab_type": "text"
      },
      "source": [
        "There exists an analogous iterator for edges:"
      ]
    },
    {
      "cell_type": "code",
      "metadata": {
        "id": "Z1D-7gEZdGhM",
        "colab_type": "code",
        "colab": {}
      },
      "source": [
        "for edge in G.edges_iter():\n",
        "    print(edge)"
      ],
      "execution_count": 0,
      "outputs": []
    },
    {
      "cell_type": "markdown",
      "metadata": {
        "id": "WX0sPlQpdGhP",
        "colab_type": "text"
      },
      "source": [
        "Syntactic sugar: recall that we use the `in` operator to check for membership because a NetworkX graph is a type of dict. This means the following shorthand also works to loop over the node names:"
      ]
    },
    {
      "cell_type": "code",
      "metadata": {
        "id": "ZDimi8j7dGhP",
        "colab_type": "code",
        "colab": {}
      },
      "source": [
        "for node in G:\n",
        "    print(node)"
      ],
      "execution_count": 0,
      "outputs": []
    },
    {
      "cell_type": "markdown",
      "metadata": {
        "id": "yQbSzw-hdGhR",
        "colab_type": "text"
      },
      "source": [
        "# <font color='red'>EXERCISE 3</font>\n",
        "Often in the context of trees, a node with degree 1 is called a *leaf*. Write a function named `get_leaves` that takes a graph as an argument, loops through the nodes, and returns a list of nodes with degree 1.\n",
        "\n",
        "Note: remember not to use `G.nodes()` with a `for..in` loop, use `G.nodes_iter()` or just `G` instead."
      ]
    },
    {
      "cell_type": "code",
      "metadata": {
        "id": "Q_3_yb8UdGhR",
        "colab_type": "code",
        "colab": {}
      },
      "source": [
        ""
      ],
      "execution_count": 0,
      "outputs": []
    },
    {
      "cell_type": "code",
      "metadata": {
        "id": "pFmD-DgpdGhS",
        "colab_type": "code",
        "colab": {}
      },
      "source": [
        "G = nx.Graph()\n",
        "G.add_edges_from([\n",
        "        ('a', 'b'),\n",
        "        ('a', 'd'),\n",
        "        ('c', 'd'),\n",
        "    ])\n",
        "assert set(get_leaves(G)) == {'c', 'b'}"
      ],
      "execution_count": 0,
      "outputs": []
    },
    {
      "cell_type": "markdown",
      "metadata": {
        "id": "8X3qcNpudGhT",
        "colab_type": "text"
      },
      "source": [
        "# Node names\n",
        "\n",
        "The node names don't have to be single characters -- they can be strings or integers or any immutable object, and the types can be mixed. The example below uses strings and integers for names."
      ]
    },
    {
      "cell_type": "code",
      "metadata": {
        "id": "xEeUhvv_dGhU",
        "colab_type": "code",
        "colab": {}
      },
      "source": [
        "G = nx.Graph()\n",
        "\n",
        "G.add_nodes_from(['cat','dog','virus',13])\n",
        "\n",
        "G.add_edge('cat','virus')\n",
        "\n",
        "# specify a list of colors for the nodes; can be a single color as well.\n",
        "\n",
        "nx.draw(G, with_labels=True)"
      ],
      "execution_count": 0,
      "outputs": []
    },
    {
      "cell_type": "markdown",
      "metadata": {
        "id": "fQTbLRPddGhV",
        "colab_type": "text"
      },
      "source": [
        "## Optional aside: how to draw a graph with offset labels\n",
        "\n",
        "`nx.draw()` by default computes a spring layout, but explicitly calling `spring_layout` only returns the node positions in the layout:"
      ]
    },
    {
      "cell_type": "code",
      "metadata": {
        "id": "8R6AwIVXdGhV",
        "colab_type": "code",
        "colab": {}
      },
      "source": [
        "nx.spring_layout(G)"
      ],
      "execution_count": 0,
      "outputs": []
    },
    {
      "cell_type": "markdown",
      "metadata": {
        "id": "qxQkpx7BdGhX",
        "colab_type": "text"
      },
      "source": [
        "We can use these positions, offset them a bit, and get positions for the labels."
      ]
    },
    {
      "cell_type": "code",
      "metadata": {
        "id": "WTOQK4rBdGhY",
        "colab_type": "code",
        "colab": {}
      },
      "source": [
        "# when manually drawing, we need pyplot\n",
        "import matplotlib.pyplot as plt\n",
        "\n",
        "plt.axis('off')\n",
        "\n",
        "pos = nx.spring_layout(G)\n",
        "\n",
        "nodes = nx.draw_networkx_nodes(G,pos)\n",
        "edges = nx.draw_networkx_edges(G,pos)\n",
        "\n",
        "# offset the y coordinates (in the 1 position) slightly\n",
        "for k in pos.keys():\n",
        "    pos[k][1] -= 0.1\n",
        "\n",
        "labels = nx.draw_networkx_labels(G, pos)"
      ],
      "execution_count": 0,
      "outputs": []
    },
    {
      "cell_type": "markdown",
      "metadata": {
        "id": "MFvnWUNwdGhZ",
        "colab_type": "text"
      },
      "source": [
        "# Adjacency lists\n",
        "\n",
        "One way to represent a graph, in addition to an adjacency matrix, is an adjacency list. This is most useful for unweighted graphs, directed or undirected. In an adjacency list, each line contains some number of node names. The first node name is the \"source\" and each other node name on the line is a \"target\". For instance, given the following adjacency list:\n",
        "```\n",
        "a d e\n",
        "b c\n",
        "c\n",
        "d\n",
        "e\n",
        "```\n",
        "the edges are as follows:\n",
        "```\n",
        "(a, d)\n",
        "(a, e)\n",
        "(b, c)\n",
        "```\n",
        "The nodes on their own line exist so that we are sure to include any singleton nodes. Note that if our graph is undirected, we only need to specify one direction for each edge. Importantly, whether the graph is directed or undirected is often not contained in the file itself -- you have to infer it. This is one limitation of the format.\n",
        "\n",
        "In this directory, there is a file called `friends.adjlist`. You can look at it in the \"Files\" pane, but here are the contents:"
      ]
    },
    {
      "cell_type": "code",
      "metadata": {
        "id": "3njkglCVdGhZ",
        "colab_type": "code",
        "colab": {}
      },
      "source": [
        "%cat friends.adjlist"
      ],
      "execution_count": 0,
      "outputs": []
    },
    {
      "cell_type": "markdown",
      "metadata": {
        "id": "uA1CWfXndGha",
        "colab_type": "text"
      },
      "source": [
        "In NetworkX's adjacency list format, a line beginning with a hash '`#`' is ignored as a comment."
      ]
    },
    {
      "cell_type": "markdown",
      "metadata": {
        "id": "PqXLbN3cdGhb",
        "colab_type": "text"
      },
      "source": [
        "# <font color='red'>EXERCISE 4</font>\n",
        "\n",
        "Now that you're experts in parsing delimited text files, parse the `friends.adjlist` adjacency list in this directory and create the corresponding undirected graph. Name this graph `SG` for \"social graph\" and draw it. Make sure your code ignores lines starting with a hashmark.\n",
        "\n",
        "Hint: you probably want to use the string method `.startswith()` to help."
      ]
    },
    {
      "cell_type": "code",
      "metadata": {
        "id": "q0tF6flddGhb",
        "colab_type": "code",
        "colab": {}
      },
      "source": [
        ""
      ],
      "execution_count": 0,
      "outputs": []
    },
    {
      "cell_type": "code",
      "metadata": {
        "id": "HU_ibAZqdGhc",
        "colab_type": "code",
        "colab": {}
      },
      "source": [
        "assert 'Shelly' in SG\n",
        "assert SG.number_of_edges() == 9\n",
        "assert SG.number_of_nodes() == 8"
      ],
      "execution_count": 0,
      "outputs": []
    },
    {
      "cell_type": "markdown",
      "metadata": {
        "id": "yo6cHfD9dGhe",
        "colab_type": "text"
      },
      "source": [
        "# Aside: comprehensions\n",
        "\n",
        "Often we have one sequence of values and we want to generate a new sequence by applying an operation to each item in the first. List comprehensions and generator expressions are compact ways to do this.\n",
        "\n",
        "List comprehensions are specified inside square brackets, and immediately produce a list of the result."
      ]
    },
    {
      "cell_type": "code",
      "metadata": {
        "id": "4hl4HZv9dGhe",
        "colab_type": "code",
        "colab": {}
      },
      "source": [
        "items = ['spider', 'y', 'banana']\n",
        "[item.upper() for item in items]"
      ],
      "execution_count": 0,
      "outputs": []
    },
    {
      "cell_type": "markdown",
      "metadata": {
        "id": "QRwOQH00dGhf",
        "colab_type": "text"
      },
      "source": [
        "In the context of NetworkX, this is often used to do something with the node or edge lists:"
      ]
    },
    {
      "cell_type": "code",
      "metadata": {
        "id": "Hb7c_Bz3dGhg",
        "colab_type": "code",
        "colab": {}
      },
      "source": [
        "[node.upper() for node in SG]"
      ],
      "execution_count": 0,
      "outputs": []
    },
    {
      "cell_type": "markdown",
      "metadata": {
        "id": "3q3e_U7CdGhh",
        "colab_type": "text"
      },
      "source": [
        "Generator expressions are slightly different as they are evaluated 'lazily.' These are specified using round braces, and if they are beiing expressed as a function argument, they can be specified without any braces. These are most often used in the context of aggregations:"
      ]
    },
    {
      "cell_type": "code",
      "metadata": {
        "id": "Ugz11VemdGhi",
        "colab_type": "code",
        "colab": {}
      },
      "source": [
        "g = (len(item) for item in items)\n",
        "list(g)"
      ],
      "execution_count": 0,
      "outputs": []
    },
    {
      "cell_type": "code",
      "metadata": {
        "id": "ZRqhqxHudGhj",
        "colab_type": "code",
        "colab": {}
      },
      "source": [
        "max(len(item) for item in items)"
      ],
      "execution_count": 0,
      "outputs": []
    },
    {
      "cell_type": "code",
      "metadata": {
        "id": "3o0IS-0bdGhl",
        "colab_type": "code",
        "colab": {}
      },
      "source": [
        "sorted(item.upper() for item in items)"
      ],
      "execution_count": 0,
      "outputs": []
    },
    {
      "cell_type": "markdown",
      "metadata": {
        "id": "RBdtLqZUdGhm",
        "colab_type": "text"
      },
      "source": [
        "## <font color='red'>EXERCISE 5</font>\n",
        "\n",
        "Assign the list `[3, 9, 12, 15]` to a variable. Use a list comprehension to store the square of each of these numbers in a variable named `squares`."
      ]
    },
    {
      "cell_type": "code",
      "metadata": {
        "id": "YqwKs1u7dGhn",
        "colab_type": "code",
        "colab": {}
      },
      "source": [
        ""
      ],
      "execution_count": 0,
      "outputs": []
    },
    {
      "cell_type": "code",
      "metadata": {
        "collapsed": true,
        "id": "9ykRuh1AdGho",
        "colab_type": "code",
        "colab": {}
      },
      "source": [
        "assert squares == [9, 81, 144, 225]"
      ],
      "execution_count": 0,
      "outputs": []
    },
    {
      "cell_type": "markdown",
      "metadata": {
        "id": "-7Mf-j36dGhr",
        "colab_type": "text"
      },
      "source": [
        "## Node degree\n",
        "\n",
        "In this section, we will learn by doing. We're going to reuse the SG graph from exercise 1.4."
      ]
    },
    {
      "cell_type": "code",
      "metadata": {
        "collapsed": true,
        "id": "Yi03UI9fdGhs",
        "colab_type": "code",
        "colab": {}
      },
      "source": [
        "SG = nx.read_adjlist('friends.adjlist')"
      ],
      "execution_count": 0,
      "outputs": []
    },
    {
      "cell_type": "markdown",
      "metadata": {
        "id": "QkMyNJqxdGht",
        "colab_type": "text"
      },
      "source": [
        "# <font color='red'>EXERCISE 6.1</font>\n",
        "\n",
        "Using the `SG` graph, generate a list of tuples with each tuple containing: (person name, the number of people he/she is friends with). Name this list `degree_tuples` and print it.\n",
        "\n",
        "**Bonus**: Do this with a list comprehension."
      ]
    },
    {
      "cell_type": "code",
      "metadata": {
        "id": "rQV8I0FQdGht",
        "colab_type": "code",
        "colab": {}
      },
      "source": [
        ""
      ],
      "execution_count": 0,
      "outputs": []
    },
    {
      "cell_type": "markdown",
      "metadata": {
        "id": "218SvtMMdGhu",
        "colab_type": "text"
      },
      "source": [
        "# <font color='red'>EXERCISE 6.2</font>"
      ]
    },
    {
      "cell_type": "markdown",
      "metadata": {
        "id": "C5IOw_sydGhv",
        "colab_type": "text"
      },
      "source": [
        "Recall the `dict` constructor. When we used it along with `zip`, we saw that it makes a dict from a list of key-value 2-tuples. Make a dict from the `degree_tuples`, name it `degree`, and print it."
      ]
    },
    {
      "cell_type": "code",
      "metadata": {
        "id": "8PMy64yqdGhv",
        "colab_type": "code",
        "colab": {}
      },
      "source": [
        ""
      ],
      "execution_count": 0,
      "outputs": []
    },
    {
      "cell_type": "markdown",
      "metadata": {
        "id": "Ec5l2heCdGhx",
        "colab_type": "text"
      },
      "source": [
        "If you completed the previous exercise, notice that the output is the same (modulo order) as the following:"
      ]
    },
    {
      "cell_type": "code",
      "metadata": {
        "id": "Ku-w8x16dGhy",
        "colab_type": "code",
        "colab": {}
      },
      "source": [
        "SG.degree()"
      ],
      "execution_count": 0,
      "outputs": []
    },
    {
      "cell_type": "markdown",
      "metadata": {
        "id": "6TknwG8LdGhz",
        "colab_type": "text"
      },
      "source": [
        "We can use the node name as an argument to the `degree` function in order to get the node degree"
      ]
    },
    {
      "cell_type": "code",
      "metadata": {
        "id": "ZWyUc9aidGhz",
        "colab_type": "code",
        "colab": {}
      },
      "source": [
        "SG.degree('Alice')"
      ],
      "execution_count": 0,
      "outputs": []
    },
    {
      "cell_type": "markdown",
      "metadata": {
        "id": "TmWQ31L6dGh0",
        "colab_type": "text"
      },
      "source": [
        "# Removing nodes and edges"
      ]
    },
    {
      "cell_type": "code",
      "metadata": {
        "id": "Hjc053xDdGh1",
        "colab_type": "code",
        "colab": {}
      },
      "source": [
        "SG = nx.read_adjlist('friends.adjlist')\n",
        "\n",
        "# if you want to make a copy, use the copy() method\n",
        "# instead of direct assignment like G1 = G2.\n",
        "# this has to do with mutability\n",
        "SG2 = SG.copy()  \n",
        "\n",
        "SG2.remove_node('Alice')\n",
        "\n",
        "nx.draw(SG2, with_labels=True)"
      ],
      "execution_count": 0,
      "outputs": []
    },
    {
      "cell_type": "code",
      "metadata": {
        "id": "ehdnUgFudGh2",
        "colab_type": "code",
        "colab": {}
      },
      "source": [
        "SG2.remove_edge('Claire', 'Frank')\n",
        "nx.draw(SG2, with_labels=True)"
      ],
      "execution_count": 0,
      "outputs": []
    },
    {
      "cell_type": "markdown",
      "metadata": {
        "id": "dYWeaCFOdGh3",
        "colab_type": "text"
      },
      "source": [
        "NetworkX will raise an error if you try to remove a single nonexistent node or edge."
      ]
    },
    {
      "cell_type": "code",
      "metadata": {
        "id": "_f4sD7K8dGh3",
        "colab_type": "code",
        "colab": {}
      },
      "source": [
        "# Alice has already been removed\n",
        "SG2.remove_node('Alice')"
      ],
      "execution_count": 0,
      "outputs": []
    },
    {
      "cell_type": "code",
      "metadata": {
        "id": "efs-gBgXdGh5",
        "colab_type": "code",
        "colab": {}
      },
      "source": [
        "# This edge does not exist\n",
        "SG2.remove_edge('Frank', 'Bob')"
      ],
      "execution_count": 0,
      "outputs": []
    },
    {
      "cell_type": "markdown",
      "metadata": {
        "id": "Zt_EA56udGh6",
        "colab_type": "text"
      },
      "source": [
        "Just as you can add a sequence of nodes and edges, you can also remove whole sequences at a time. Note that removing nodes also removes all edges incident on that node."
      ]
    },
    {
      "cell_type": "code",
      "metadata": {
        "id": "Ti88TE9XdGh7",
        "colab_type": "code",
        "colab": {}
      },
      "source": [
        "SG3 = SG.copy()\n",
        "\n",
        "nx.draw(SG3, with_labels=True)"
      ],
      "execution_count": 0,
      "outputs": []
    },
    {
      "cell_type": "code",
      "metadata": {
        "id": "XPEb9ehZdGh9",
        "colab_type": "code",
        "colab": {}
      },
      "source": [
        "banned_users = ['Shelly', 'George']\n",
        "SG3.remove_nodes_from(banned_users)\n",
        "\n",
        "nx.draw(SG3, with_labels=True, node_color='lightgreen')"
      ],
      "execution_count": 0,
      "outputs": []
    },
    {
      "cell_type": "markdown",
      "metadata": {
        "id": "C-oPTzhodGh_",
        "colab_type": "text"
      },
      "source": [
        "But note that bulk removing nodes or edges will not raise errors if you try to remove nonexistent elements."
      ]
    },
    {
      "cell_type": "code",
      "metadata": {
        "id": "aDx5wj8CdGiA",
        "colab_type": "code",
        "colab": {}
      },
      "source": [
        "# Neither Chelsea nor Sarah are in the graph\n",
        "banned_users = ['Chelsea', 'Sarah']\n",
        "SG3.remove_nodes_from(banned_users)\n",
        "\n",
        "# Alice and Dennis are not friends\n",
        "unfriend_requests = [('Alice', 'Bob'), ('Alice', 'Dennis')]\n",
        "SG3.remove_edges_from(unfriend_requests)\n",
        "\n",
        "nx.draw(SG3, with_labels=True, node_color='lightblue', font_size=20, node_size=500)"
      ],
      "execution_count": 0,
      "outputs": []
    },
    {
      "cell_type": "markdown",
      "metadata": {
        "id": "SM3UOG93dGiB",
        "colab_type": "text"
      },
      "source": [
        "## Aside: Python's `random` module\n",
        "\n",
        "Given a list, `random.choice()` returns a single random element from the list. In order to use this function, you must first import the `random` module:"
      ]
    },
    {
      "cell_type": "code",
      "metadata": {
        "collapsed": true,
        "id": "uLVOcLkzdGiC",
        "colab_type": "code",
        "colab": {}
      },
      "source": [
        "import random"
      ],
      "execution_count": 0,
      "outputs": []
    },
    {
      "cell_type": "markdown",
      "metadata": {
        "id": "_YB9tzZydGiD",
        "colab_type": "text"
      },
      "source": [
        "Try executing the following block a few times. Note: you can use Ctrl + Enter (maybe different on a mac?) to execute the block without moving to the next one."
      ]
    },
    {
      "cell_type": "code",
      "metadata": {
        "id": "kGyFgWJSdGiD",
        "colab_type": "code",
        "colab": {}
      },
      "source": [
        "random.choice(SG.nodes())"
      ],
      "execution_count": 0,
      "outputs": []
    },
    {
      "cell_type": "markdown",
      "metadata": {
        "id": "uhltzpggdGiE",
        "colab_type": "text"
      },
      "source": [
        "If you want to select more than one item, use `random.sample()`:"
      ]
    },
    {
      "cell_type": "code",
      "metadata": {
        "id": "hJYuRMTHdGiF",
        "colab_type": "code",
        "colab": {}
      },
      "source": [
        "random.sample(SG.nodes(), 3)"
      ],
      "execution_count": 0,
      "outputs": []
    },
    {
      "cell_type": "markdown",
      "metadata": {
        "id": "QqOdwhSZdGiG",
        "colab_type": "text"
      },
      "source": [
        "The `random.random()` function returns a float between 0 and 1. This is useful for probabilistically choosing something. For instance, the sentence \"there is a 60% chance of rain\" translates to \"the probability of rain is 0.6\" which roughly translates into the following block. Execute it a few times."
      ]
    },
    {
      "cell_type": "code",
      "metadata": {
        "id": "L4Q-IRbedGiG",
        "colab_type": "code",
        "colab": {}
      },
      "source": [
        "if random.random() < .6:\n",
        "    weather = 'rain'\n",
        "else:\n",
        "    weather = 'sun'\n",
        "print(weather)"
      ],
      "execution_count": 0,
      "outputs": []
    },
    {
      "cell_type": "markdown",
      "metadata": {
        "id": "FqfsdcghdGiH",
        "colab_type": "text"
      },
      "source": [
        "# <font color='red'>EXERCISE 7</font>\n",
        "\n",
        "In case you haven't noticed, you can read an adjacency list into a graph using `nx.read_adjlist`. Read the `'friends.adjlist'` adjacency list we've been using into a graph object. For every node in the graph, if that node has any incident edges, with probability 0.5 delete one random edge incident on that node."
      ]
    },
    {
      "cell_type": "code",
      "metadata": {
        "scrolled": true,
        "id": "0JL5ZkBOdGiH",
        "colab_type": "code",
        "colab": {}
      },
      "source": [
        ""
      ],
      "execution_count": 0,
      "outputs": []
    }
  ]
}